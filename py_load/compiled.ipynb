{
 "cells": [
  {
   "cell_type": "code",
   "execution_count": 1,
   "metadata": {},
   "outputs": [],
   "source": [
    "import requests\n",
    "from bs4 import BeautifulSoup\n",
    "from selenium import webdriver\n",
    "from selenium.webdriver.chrome.service import Service as ChromeService\n",
    "from webdriver_manager.chrome import ChromeDriverManager\n",
    "import pandas as pd\n",
    "\n"
   ]
  },
  {
   "cell_type": "code",
   "execution_count": 2,
   "metadata": {},
   "outputs": [],
   "source": [
    "def scrape_static_content(url, url_api): # take any base url (ifsc.result.info) and the api url_api param then return json object of the api response\n",
    "    # Step 1: Initial GET request to collect cookies and CSRF token\n",
    "    session = requests.Session()\n",
    "    response_main = session.get(url)\n",
    "    cookies = response_main.cookies\n",
    "    # Use BeautifulSoup to parse the response and extract CSRF token\n",
    "    soup = BeautifulSoup(response_main.text, 'html.parser')\n",
    "\n",
    "    csrf_token = soup.find('meta', {'name': 'csrf-token'})['content']\n",
    "    print(csrf_token)\n",
    "\n",
    "    \n",
    "    headers = {\n",
    "        'X-CSRFToken': csrf_token,\n",
    "        'Referer': url + url_api\n",
    "    }\n",
    "    response_api = session.get(url + url_api, headers=headers, cookies=cookies)\n",
    "\n",
    "    # Process the API response\n",
    "    processed_data = response_api.json()\n",
    "    processed_data['current'].keys()\n",
    "\n",
    "    session.close()  # Close the session object\n",
    "    return processed_data"
   ]
  },
  {
   "cell_type": "code",
   "execution_count": 3,
   "metadata": {},
   "outputs": [],
   "source": [
    "def scrape_dynamic_content(url):\n",
    "    driver = webdriver.Chrome(service=ChromeService(ChromeDriverManager().install()))\n",
    "    driver.get(url)\n",
    "    # Implement the logic to interact with the page and extract data\n",
    "    soup = BeautifulSoup(driver.page_source, 'html.parser')\n",
    "    # Extract and process data from soup\n",
    "    driver.quit()\n",
    "    return processed_data\n",
    "\n",
    "# Additional scraping functions...\n"
   ]
  },
  {
   "cell_type": "code",
   "execution_count": 4,
   "metadata": {},
   "outputs": [],
   "source": [
    "def process_scraped_data(data):\n",
    "    # Process and transform the scraped data\n",
    "    # This could involve cleaning data, restructuring it, or performing calculations\n",
    "    return processed_data\n",
    "\n",
    "# Additional data processing functions...\n"
   ]
  },
  {
   "cell_type": "code",
   "execution_count": 5,
   "metadata": {},
   "outputs": [],
   "source": [
    "def export_data_to_json(data, filepath):\n",
    "    with open(filepath, 'w') as file:\n",
    "        json.dump(data, file)\n",
    "\n",
    "def export_data_to_database(data, db_connection):\n",
    "    # Implement logic to export data to a database\n",
    "    pass\n",
    "\n",
    "# Additional exporting functions...\n"
   ]
  },
  {
   "cell_type": "code",
   "execution_count": null,
   "metadata": {},
   "outputs": [],
   "source": [
    "def process_api_home(data): # takes in /api/v1/ and returns current api year, filter data, new api links etc.\n",
    "    current_api = data['current']['url']\n",
    "    preset_string = \"World Cups and World Championships\"  # Replace \"example\" with your preset string\n",
    "\n",
    "    filtered_lines = [line for line in data['current']['leagues'] if line['name'] == preset_string]\n",
    "    print(filtered_lines)\n",
    "    cup_id = filtered_lines[0]['cups'][0]['id']\n",
    "    filtered_lines[0]['cups'][0]['id']\n",
    "    print(f'current season api: {data[\"current\"][\"url\"]}')\n"
   ]
  },
  {
   "cell_type": "code",
   "execution_count": null,
   "metadata": {},
   "outputs": [],
   "source": [
    "def process_api_season(data): #takes in json /apo/v1/seasons/## and return data for that season\n",
    "    data['events']\n",
    "    for x in data['events']:\n",
    "        if x['cup_id'] == cup_id:\n",
    "            print(x['event'] + str(x['event_id']))"
   ]
  },
  {
   "cell_type": "code",
   "execution_count": 17,
   "metadata": {},
   "outputs": [
    {
     "name": "stdout",
     "output_type": "stream",
     "text": [
      "78B8X5CBMqsR4iXC/k3erswLFIDpTT2szpcmj2nkWtbFjBnCwbkjo4cUulHpCeu67flPpDMgGU968HZig06K3w==\n"
     ]
    }
   ],
   "source": [
    "url_api = \"/api/v1/\" # get the current season api url from here \n",
    "# /v1/ response contains filtering data to select different cups, seasons, years etc.\n",
    "# current is the current year, seasons contains all the past season and cup data.\n",
    "url_main = \"https://ifsc.results.info\"\n",
    "api_home_response = scrape_static_content(url_main)\n"
   ]
  },
  {
   "cell_type": "code",
   "execution_count": null,
   "metadata": {},
   "outputs": [],
   "source": [
    "process_api_home(api_home_response)"
   ]
  },
  {
   "cell_type": "code",
   "execution_count": 14,
   "metadata": {},
   "outputs": [
    {
     "name": "stdout",
     "output_type": "stream",
     "text": [
      "[{'id': 418, 'name': 'World Cups and World Championships', 'cups': [{'id': 90, 'name': 'IFSC Climbing World Cup 2023'}], 'url': '/api/v1/season_leagues/418'}]\n"
     ]
    },
    {
     "data": {
      "text/plain": [
       "90"
      ]
     },
     "execution_count": 14,
     "metadata": {},
     "output_type": "execute_result"
    }
   ],
   "source": []
  },
  {
   "cell_type": "code",
   "execution_count": null,
   "metadata": {},
   "outputs": [],
   "source": []
  },
  {
   "cell_type": "code",
   "execution_count": null,
   "metadata": {},
   "outputs": [],
   "source": []
  },
  {
   "cell_type": "code",
   "execution_count": null,
   "metadata": {},
   "outputs": [],
   "source": []
  }
 ],
 "metadata": {
  "kernelspec": {
   "display_name": "Python 3",
   "language": "python",
   "name": "python3"
  },
  "language_info": {
   "codemirror_mode": {
    "name": "ipython",
    "version": 3
   },
   "file_extension": ".py",
   "mimetype": "text/x-python",
   "name": "python",
   "nbconvert_exporter": "python",
   "pygments_lexer": "ipython3",
   "version": "3.11.5"
  }
 },
 "nbformat": 4,
 "nbformat_minor": 2
}
