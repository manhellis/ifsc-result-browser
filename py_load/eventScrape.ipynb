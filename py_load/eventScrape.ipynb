{
 "cells": [
  {
   "cell_type": "code",
   "execution_count": 1,
   "metadata": {},
   "outputs": [],
   "source": [
    "\n",
    "from selenium import webdriver\n",
    "from selenium.webdriver.chrome.service import Service as ChromeService\n",
    "from webdriver_manager.chrome import ChromeDriverManager\n",
    "from selenium.webdriver.common.by import By\n",
    "from bs4 import BeautifulSoup\n",
    "from selenium.webdriver.support.ui import Select\n",
    "import time \n",
    "import pandas as pd"
   ]
  },
  {
   "cell_type": "code",
   "execution_count": 29,
   "metadata": {},
   "outputs": [
    {
     "name": "stdout",
     "output_type": "stream",
     "text": [
      "<html lang=\"en\"><head><style type=\"text/css\">span.iconify, i.iconify, iconify-icon { display: inline-block; width: 1em; }</style>\n",
      "<meta charset=\"utf-8\"/>\n",
      "<meta content=\"width=device-width, initial-scale=1.0\" name=\"viewport\"/>\n",
      "<!-- Google Tag Manager -->\n",
      "<script async=\"\" src=\"https://www.googletagmanager.com/gtag/js?id=G-3CW645GZWB&amp;cx=c&amp;_slc=1\" type=\"text/javascript\"></script><script async=\"\" src=\"https://www.google-analytics.com/analytics.js\" type=\"text/javascript\"></script><script async=\"\" src=\"https://www.googletagmanager.com/gtm.js?id=GTM-MT5GL8L\"></script><script>(function(w,d,s,l,i){w[l]=w[l]||[];w[l].push({'gtm.start':\n",
      "      new Date().getTime(),event:'gtm.js'});var f=d.getElementsByTagName(s)[0],\n",
      "      j=d.createElement(s),dl=l!='dataLayer'?'&l='+l:'';j.async=true;j.src=\n",
      "      'https://www.googletagmanager.com/gtm.js?id='+i+dl;f.parentNode.insertBefore(j,f);\n",
      "      })(window,document,'script','dataLayer','GTM-MT5GL8L');</script>\n",
      "<!-- End Google Tag Manager -->\n",
      "<script src=\"https://code.iconify.design/1/1.0.7/iconify.min.js\"></script>\n",
      "<title>IFSC Climbing Result Service</title>\n",
      "<meta content=\"authenticity_token\" name=\"csrf-param\"/>\n",
      "<meta content=\"GRWpQU2lLTPtzZWwiiJSQJpfiRO75NXls/92e44d3OjBnZVXuNXmBqs52wXCOlbCzNp1UwBepivey+WE7Lm01g==\" name=\"csrf-token\"/>\n",
      "<link href=\"/assets/application-a7720e34fe2c79e1cb7f3e5b1e8f9f09d0a5b8add8f832752b2330706e626ddd.css\" media=\"all\" rel=\"stylesheet\"/>\n",
      "<script src=\"/assets/application-4c5c0ac7a2ebf7f85161c7068cf8bc4133e446bc3be2ed0bce338d6b4748f389.js\"></script>\n",
      "<script crossorigin=\"anonymous\" src=\"/vite/assets/front_index-106d4a7c.js\" type=\"module\"></script><link as=\"script\" crossorigin=\"anonymous\" href=\"/vite/assets/preload-helper-7b1ccdad.js\" rel=\"modulepreload\"/>\n",
      "<link as=\"script\" crossorigin=\"anonymous\" href=\"/vite/assets/entrypoint-0ee9f33b.js\" rel=\"modulepreload\"/>\n",
      "<link as=\"script\" crossorigin=\"anonymous\" href=\"/vite/assets/vuex.esm-6da45cf4.js\" rel=\"modulepreload\"/>\n",
      "<link as=\"script\" crossorigin=\"anonymous\" href=\"/vite/assets/_plugin-vue2_normalizer-2bbd088e.js\" rel=\"modulepreload\"/>\n",
      "<link as=\"script\" crossorigin=\"anonymous\" href=\"/vite/assets/_commonjsHelpers-fd4b15db.js\" rel=\"modulepreload\"/>\n",
      "<link as=\"script\" crossorigin=\"anonymous\" href=\"/vite/assets/apollo-40a3e861.js\" rel=\"modulepreload\"/>\n",
      "<link as=\"script\" crossorigin=\"anonymous\" href=\"/vite/assets/style-9c0548e3.js\" rel=\"modulepreload\"/><link href=\"/vite/assets/front_index-94c693a5.css\" media=\"screen\" rel=\"stylesheet\"/>\n",
      "<link href=\"/vite/assets/style-1a20773b.css\" media=\"screen\" rel=\"stylesheet\"/>\n",
      "<meta content=\"https://ifsc.results.info\" property=\"og:url\"/>\n",
      "<meta content=\"website\" property=\"og:type\"/>\n",
      "<meta content=\"IFSC Climbing Result Service\" property=\"og:title\"/>\n",
      "<meta content=\"The result site of IFSC climbing competitions, with starters, live results and rankings powered by Vertical-Life\" property=\"og:description\"/>\n",
      "<link as=\"script\" crossorigin=\"\" href=\"/vite/assets/event-5ab64d85.js\" rel=\"modulepreload\"/><link as=\"script\" crossorigin=\"\" href=\"/vite/assets/lodash-0cfa81a4.js\" rel=\"modulepreload\"/><link as=\"script\" crossorigin=\"\" href=\"/vite/assets/dcat_round_row-f23f0a43.js\" rel=\"modulepreload\"/><link href=\"/vite/assets/dcat_round_row-5d1e7b08.css\" rel=\"stylesheet\"/><link href=\"/vite/assets/event-6638e7ca.css\" rel=\"stylesheet\"/><meta content=\"AymqwRC7u88Y4JPvfIF2F37QKylC04248hLCdJAsh8xgOfe/dVJPV3XS3wLFca1ZMVOtnBfVjaCMTVudWM//5g4AAAB7eyJvcmlnaW4iOiJodHRwczovL3d3dy5nb29nbGV0YWdtYW5hZ2VyLmNvbTo0NDMiLCJmZWF0dXJlIjoiUHJpdmFjeVNhbmRib3hBZHNBUElzIiwiZXhwaXJ5IjoxNjk1MTY3OTk5LCJpc1RoaXJkUGFydHkiOnRydWV9\" http-equiv=\"origin-trial\"/><script async=\"true\" src=\"https://api.iconify.design/eva.js?icons=arrow-back-fill\" type=\"text/javascript\"></script></head>\n",
      "<body>\n",
      "<!-- Google Tag Manager (noscript) -->\n",
      "<noscript><iframe height=\"0\" src=\"https://www.googletagmanager.com/ns.html?id=GTM-MT5GL8L\" style=\"display:none;visibility:hidden\" width=\"0\"></iframe></noscript>\n",
      "<!-- End Google Tag Manager (noscript) -->\n",
      "<div id=\"cable-path\" style=\"display: none;\">ifsc_cable</div>\n",
      "<div class=\"app-container\" data-v-9adfd589=\"\"><div class=\"rs-header w-100 px-2 rs-header bg-white\" data-v-83248a34=\"\" data-v-9adfd589=\"\"><div class=\"rs-header-container\" data-v-83248a34=\"\"><div class=\"d-flex align-items-center\" data-v-83248a34=\"\"><a class=\"\" data-v-83248a34=\"\" href=\"https://ifsc-climbing.org\" target=\"_blank\"><img alt=\"\" class=\"rs-fed-logo py-2\" data-v-83248a34=\"\" src=\"/images/ifsc_logo.png\"/></a></div><div class=\"d-flex flex-column\" data-v-83248a34=\"\"><!-- --><div class=\"d-flex justify-content-center align-items-stretch mx-2\" data-v-83248a34=\"\"><a class=\"nav-item\" data-v-83248a34=\"\" href=\"#/\"><span data-v-83248a34=\"\">Events</span></a><a class=\"nav-item\" data-v-83248a34=\"\" href=\"#/rankings\">Rankings</a><a class=\"nav-item\" data-v-83248a34=\"\" href=\"#/athletes\">Athletes</a></div></div><div class=\"d-flex align-items-center justify-content-end\" data-v-83248a34=\"\"><a data-v-83248a34=\"\" href=\"/users/login\"><svg class=\"login-btn\" data-v-83248a34=\"\" fill=\"none\" height=\"20\" viewbox=\"0 0 20 20\" width=\"20\" xmlns=\"http://www.w3.org/2000/svg\"><path d=\"M10 0C4.48 0 0 4.48 0 10C0 15.52 4.48 20 10 20C15.52 20 20 15.52 20 10C20 4.48 15.52 0 10 0ZM5.07 16.28C5.5 15.38 8.12 14.5 10 14.5C11.88 14.5 14.51 15.38 14.93 16.28C13.57 17.36 11.86 18 10 18C8.14 18 6.43 17.36 5.07 16.28ZM16.36 14.83C14.93 13.09 11.46 12.5 10 12.5C8.54 12.5 5.07 13.09 3.64 14.83C2.62 13.49 2 11.82 2 10C2 5.59 5.59 2 10 2C14.41 2 18 5.59 18 10C18 11.82 17.38 13.49 16.36 14.83ZM10 4C8.06 4 6.5 5.56 6.5 7.5C6.5 9.44 8.06 11 10 11C11.94 11 13.5 9.44 13.5 7.5C13.5 5.56 11.94 4 10 4ZM10 9C9.17 9 8.5 8.33 8.5 7.5C8.5 6.67 9.17 6 10 6C10.83 6 11.5 6.67 11.5 7.5C11.5 8.33 10.83 9 10 9Z\" data-v-83248a34=\"\" fill=\"#111111\"></path></svg></a></div></div></div><div class=\"event-container rs-content\" data-v-9adfd589=\"\" data-v-d7080330=\"\"><div data-v-c65bb9be=\"\" data-v-d7080330=\"\"><div class=\"back-button-container\" data-v-c65bb9be=\"\"><div class=\"back-button\" data-v-c65bb9be=\"\"><svg aria-hidden=\"true\" class=\"iconify\" data-icon=\"eva:arrow-back-fill\" data-inline=\"false\" data-v-c65bb9be=\"\" focusable=\"false\" height=\"1em\" preserveaspectratio=\"xMidYMid meet\" style=\"transform: rotate(360deg);\" viewbox=\"0 0 24 24\" width=\"1em\" xmlns=\"http://www.w3.org/2000/svg\" xmlns:xlink=\"http://www.w3.org/1999/xlink\"><path d=\"M19 11H7.14l3.63-4.36a1 1 0 1 0-1.54-1.28l-5 6a1.19 1.19 0 0 0-.09.15c0 .05 0 .08-.07.13A1 1 0 0 0 4 12a1 1 0 0 0 .07.36c0 .05 0 .08.07.13a1.19 1.19 0 0 0 .09.15l5 6A1 1 0 0 0 10 19a1 1 0 0 0 .64-.23a1 1 0 0 0 .13-1.41L7.14 13H19a1 1 0 0 0 0-2\" fill=\"currentColor\"></path></svg></div></div><div class=\"header-container\" data-v-c65bb9be=\"\"><!-- --><div class=\"event-info no-image\" data-v-c65bb9be=\"\"><div class=\"public-h1\" data-v-c65bb9be=\"\">IFSC - Climbing World Cup (B) - Meiringen (SUI) 2022</div><div class=\"event-info-sub\" data-v-c65bb9be=\"\"><svg class=\"date-svg\" data-v-c65bb9be=\"\" fill=\"none\" height=\"16\" viewbox=\"0 0 14 16\" width=\"14\" xmlns=\"http://www.w3.org/2000/svg\"><path d=\"M12.4 1.86364H11.725V1.18182C11.725 0.806818 11.4213 0.5 11.05 0.5C10.6788 0.5 10.375 0.806818 10.375 1.18182V1.86364H3.625V1.18182C3.625 0.806818 3.32125 0.5 2.95 0.5C2.57875 0.5 2.275 0.806818 2.275 1.18182V1.86364H1.6C0.8575 1.86364 0.25 2.47727 0.25 3.22727V14.1364C0.25 14.8864 0.8575 15.5 1.6 15.5H12.4C13.1425 15.5 13.75 14.8864 13.75 14.1364V3.22727C13.75 2.47727 13.1425 1.86364 12.4 1.86364ZM11.725 14.1364H2.275C1.90375 14.1364 1.6 13.8295 1.6 13.4545V5.27273H12.4V13.4545C12.4 13.8295 12.0963 14.1364 11.725 14.1364Z\" data-v-c65bb9be=\"\" fill=\"#8B8C89\"></path><rect data-v-c65bb9be=\"\" fill=\"#8B8C89\" height=\"3.75\" rx=\"1\" width=\"3.75\" x=\"7\" y=\"8.75\"></rect></svg> Thu, 7 Apr - Sat, 9 Apr 2022 <svg class=\"location-svg\" data-v-c65bb9be=\"\" fill=\"none\" height=\"16\" viewbox=\"0 0 12 16\" width=\"12\" xmlns=\"http://www.w3.org/2000/svg\"><path d=\"M6 8C5.175 8 4.5 7.325 4.5 6.5C4.5 5.675 5.175 5 6 5C6.825 5 7.5 5.675 7.5 6.5C7.5 7.325 6.825 8 6 8ZM10.5 6.65C10.5 3.9275 8.5125 2 6 2C3.4875 2 1.5 3.9275 1.5 6.65C1.5 8.405 2.9625 10.73 6 13.505C9.0375 10.73 10.5 8.405 10.5 6.65ZM6 0.5C9.15 0.5 12 2.915 12 6.65C12 9.14 9.9975 12.0875 6 15.5C2.0025 12.0875 0 9.14 0 6.65C0 2.915 2.85 0.5 6 0.5Z\" data-v-c65bb9be=\"\" fill=\"#8B8C89\"></path></svg> Meiringen </div></div></div></div><div class=\"d-flex justify-content-center rs-event-nav\" data-v-d7080330=\"\"><div class=\"mx-2 nav-item active\" data-v-d7080330=\"\"> Boulder </div><div class=\"mx-2 nav-item\" data-v-d7080330=\"\"> Info </div></div><div class=\"team-rankings bordered-row\" data-v-d7080330=\"\"><a class=\"team-rankings-button\" data-v-d7080330=\"\" href=\"#/event/1233/team\"> Team Rankings <svg data-v-d7080330=\"\" fill=\"none\" height=\"9\" viewbox=\"0 0 8 12\" width=\"6\" xmlns=\"http://www.w3.org/2000/svg\"><path clip-rule=\"evenodd\" d=\"M0.292893 11.7071C-0.0976311 11.3166 -0.0976312 10.6834 0.292893 10.2929L4.58579 6L0.292893 1.70711C-0.0976316 1.31658 -0.0976316 0.683417 0.292893 0.292893C0.683417 -0.0976315 1.31658 -0.0976315 1.70711 0.292893L7.41421 6L1.70711 11.7071C1.31658 12.0976 0.683418 12.0976 0.292893 11.7071Z\" data-v-d7080330=\"\" fill=\"black\" fill-rule=\"evenodd\"></path></svg></a></div><div class=\"d-flex justify-content-between align-items-center py-2 bg-white bordered-row px-3\" data-v-d1158937=\"\" data-v-d7080330=\"\"><div class=\"align-items-center\" data-v-d1158937=\"\"><div class=\"cat-name finished\" data-v-d1158937=\"\"><a class=\"\" data-v-d1158937=\"\" href=\"#/event/1233/general/boulder\"> Men </a></div></div><div class=\"d-flex justify-content-end\" data-v-d1158937=\"\"><div data-v-d1158937=\"\" data-v-e4c80ea2=\"\"><div class=\"d-flex\" data-v-e4c80ea2=\"\"><div data-v-e4c80ea2=\"\"><a class=\"cr-nav-button\" data-v-e4c80ea2=\"\" href=\"#/event/1233/cr/6844\"><div class=\"cr-status finished\" data-v-e4c80ea2=\"\"><svg data-v-e4c80ea2=\"\" fill=\"none\" height=\"9\" viewbox=\"0 0 12 9\" width=\"12\" xmlns=\"http://www.w3.org/2000/svg\"><path d=\"M3.5 6.8L1.16666 4.46667C0.906663 4.20667 0.49333 4.20667 0.23333 4.46667C-0.0266699 4.72667 -0.0266699 5.14 0.23333 5.4L3.02666 8.19334C3.28666 8.45334 3.70666 8.45334 3.96666 8.19334L11.0333 1.13334C11.2933 0.873338 11.2933 0.460005 11.0333 0.200005C10.7733 -0.0599951 10.36 -0.0599951 10.1 0.200005L3.5 6.8Z\" data-v-e4c80ea2=\"\" fill=\"white\"></path></svg></div><div data-v-e4c80ea2=\"\"> Q </div></a></div><div data-v-e4c80ea2=\"\"><a class=\"cr-nav-button\" data-v-e4c80ea2=\"\" href=\"#/event/1233/cr/7417\"><div class=\"cr-status finished\" data-v-e4c80ea2=\"\"><svg data-v-e4c80ea2=\"\" fill=\"none\" height=\"9\" viewbox=\"0 0 12 9\" width=\"12\" xmlns=\"http://www.w3.org/2000/svg\"><path d=\"M3.5 6.8L1.16666 4.46667C0.906663 4.20667 0.49333 4.20667 0.23333 4.46667C-0.0266699 4.72667 -0.0266699 5.14 0.23333 5.4L3.02666 8.19334C3.28666 8.45334 3.70666 8.45334 3.96666 8.19334L11.0333 1.13334C11.2933 0.873338 11.2933 0.460005 11.0333 0.200005C10.7733 -0.0599951 10.36 -0.0599951 10.1 0.200005L3.5 6.8Z\" data-v-e4c80ea2=\"\" fill=\"white\"></path></svg></div><div data-v-e4c80ea2=\"\"> S </div></a></div><div data-v-e4c80ea2=\"\"><a class=\"cr-nav-button\" data-v-e4c80ea2=\"\" href=\"#/event/1233/cr/7419\"><div class=\"cr-status finished\" data-v-e4c80ea2=\"\"><svg data-v-e4c80ea2=\"\" fill=\"none\" height=\"9\" viewbox=\"0 0 12 9\" width=\"12\" xmlns=\"http://www.w3.org/2000/svg\"><path d=\"M3.5 6.8L1.16666 4.46667C0.906663 4.20667 0.49333 4.20667 0.23333 4.46667C-0.0266699 4.72667 -0.0266699 5.14 0.23333 5.4L3.02666 8.19334C3.28666 8.45334 3.70666 8.45334 3.96666 8.19334L11.0333 1.13334C11.2933 0.873338 11.2933 0.460005 11.0333 0.200005C10.7733 -0.0599951 10.36 -0.0599951 10.1 0.200005L3.5 6.8Z\" data-v-e4c80ea2=\"\" fill=\"white\"></path></svg></div><div data-v-e4c80ea2=\"\"> F </div></a></div></div></div></div></div><div class=\"d-flex justify-content-between align-items-center py-2 bg-white bordered-row px-3\" data-v-d1158937=\"\" data-v-d7080330=\"\"><div class=\"align-items-center\" data-v-d1158937=\"\"><div class=\"cat-name finished\" data-v-d1158937=\"\"><a class=\"\" data-v-d1158937=\"\" href=\"#/event/1233/general/boulder\"> Women </a></div></div><div class=\"d-flex justify-content-end\" data-v-d1158937=\"\"><div data-v-d1158937=\"\" data-v-e4c80ea2=\"\"><div class=\"d-flex\" data-v-e4c80ea2=\"\"><div data-v-e4c80ea2=\"\"><a class=\"cr-nav-button\" data-v-e4c80ea2=\"\" href=\"#/event/1233/cr/6845\"><div class=\"cr-status finished\" data-v-e4c80ea2=\"\"><svg data-v-e4c80ea2=\"\" fill=\"none\" height=\"9\" viewbox=\"0 0 12 9\" width=\"12\" xmlns=\"http://www.w3.org/2000/svg\"><path d=\"M3.5 6.8L1.16666 4.46667C0.906663 4.20667 0.49333 4.20667 0.23333 4.46667C-0.0266699 4.72667 -0.0266699 5.14 0.23333 5.4L3.02666 8.19334C3.28666 8.45334 3.70666 8.45334 3.96666 8.19334L11.0333 1.13334C11.2933 0.873338 11.2933 0.460005 11.0333 0.200005C10.7733 -0.0599951 10.36 -0.0599951 10.1 0.200005L3.5 6.8Z\" data-v-e4c80ea2=\"\" fill=\"white\"></path></svg></div><div data-v-e4c80ea2=\"\"> Q </div></a></div><div data-v-e4c80ea2=\"\"><a class=\"cr-nav-button\" data-v-e4c80ea2=\"\" href=\"#/event/1233/cr/7418\"><div class=\"cr-status finished\" data-v-e4c80ea2=\"\"><svg data-v-e4c80ea2=\"\" fill=\"none\" height=\"9\" viewbox=\"0 0 12 9\" width=\"12\" xmlns=\"http://www.w3.org/2000/svg\"><path d=\"M3.5 6.8L1.16666 4.46667C0.906663 4.20667 0.49333 4.20667 0.23333 4.46667C-0.0266699 4.72667 -0.0266699 5.14 0.23333 5.4L3.02666 8.19334C3.28666 8.45334 3.70666 8.45334 3.96666 8.19334L11.0333 1.13334C11.2933 0.873338 11.2933 0.460005 11.0333 0.200005C10.7733 -0.0599951 10.36 -0.0599951 10.1 0.200005L3.5 6.8Z\" data-v-e4c80ea2=\"\" fill=\"white\"></path></svg></div><div data-v-e4c80ea2=\"\"> S </div></a></div><div data-v-e4c80ea2=\"\"><a class=\"cr-nav-button\" data-v-e4c80ea2=\"\" href=\"#/event/1233/cr/7420\"><div class=\"cr-status finished\" data-v-e4c80ea2=\"\"><svg data-v-e4c80ea2=\"\" fill=\"none\" height=\"9\" viewbox=\"0 0 12 9\" width=\"12\" xmlns=\"http://www.w3.org/2000/svg\"><path d=\"M3.5 6.8L1.16666 4.46667C0.906663 4.20667 0.49333 4.20667 0.23333 4.46667C-0.0266699 4.72667 -0.0266699 5.14 0.23333 5.4L3.02666 8.19334C3.28666 8.45334 3.70666 8.45334 3.96666 8.19334L11.0333 1.13334C11.2933 0.873338 11.2933 0.460005 11.0333 0.200005C10.7733 -0.0599951 10.36 -0.0599951 10.1 0.200005L3.5 6.8Z\" data-v-e4c80ea2=\"\" fill=\"white\"></path></svg></div><div data-v-e4c80ea2=\"\"> F </div></a></div></div></div></div></div></div><div class=\"bg-white rs-footer rs-footer\" data-v-9adfd589=\"\" data-v-fc16d168=\"\"><div class=\"rs-footer-container\" data-v-fc16d168=\"\"><div class=\"text-center pow-b\" data-v-fc16d168=\"\">POWERED BY</div><div class=\"d-flex justify-content-center\" data-v-fc16d168=\"\"><a data-v-fc16d168=\"\" href=\"https://www.vertical-life.info/\" target=\"_blank\"><div class=\"vl-logo-container text-center\" data-v-fc16d168=\"\"><img alt=\"\" class=\"vl-logo\" data-v-fc16d168=\"\" src=\"/vite/assets/vl-pano-0bb47113.png\"/></div></a></div><div class=\"footer-links\" data-v-fc16d168=\"\"><a data-v-fc16d168=\"\" href=\"https://www.vertical-life.info/en/legal/privacy-policy\" target=\"_blank\">Data privacy</a><a class=\"middle-item\" data-v-fc16d168=\"\" href=\"https://www.vertical-life.info/en/legal/terms-and-conditions\" target=\"_blank\">Terms &amp; conditions</a><a data-v-fc16d168=\"\" href=\"https://www.vertical-life.info/en/legal\" target=\"_blank\">Legal information</a></div></div></div></div>\n",
      "<script nomodule=\"nomodule\" src=\"/vite/assets/polyfills-7de44d98-legacy.js\"></script><script nomodule=\"nomodule\">System.import('/vite/assets/front_index-7602e27c-legacy.js')</script>\n",
      "</body></html>\n"
     ]
    }
   ],
   "source": [
    "class eventVL:\n",
    "    baseUrl = 'https://ifsc.results.info/#/event/1233'\n",
    "    currenturl = \"\"\n",
    "    additionUrl = \"\"\n",
    "    # driver = webdriver.Chrome(service=ChromeService(ChromeDriverManager().install()))\n",
    "\n",
    "    def __init__(self) -> None:\n",
    "        self.driver = webdriver.Chrome(service=ChromeService(ChromeDriverManager().install()))\n",
    "    \n",
    "    def getUrl (self, url): # return page source\n",
    "        self.driver.get(url)\n",
    "        self.driver.implicitly_wait(5)\n",
    "        self.years = None;\n",
    "        # settings\n",
    "        \n",
    "    def getSoup(self): # returns soup of current page\n",
    "        # self.currentPage = self.driver.\n",
    "        self.getUrl(self.baseUrl)\n",
    "        time.sleep(3)\n",
    "        return BeautifulSoup(self.driver.page_source, 'html.parser')\n",
    "    \n",
    "    def getRounds(self):\n",
    "        cr_nav_buttons = self.getSoup().select('.cr-nav-button')\n",
    "\n",
    "        result = []\n",
    "        for button in cr_nav_buttons:\n",
    "            last_child_text = list(button.children)[-1].text.strip()\n",
    "            if last_child_text in ['Q', 'S', 'F']:\n",
    "                href = button.get('href')\n",
    "                result.append([href, last_child_text])\n",
    "\n",
    "        self.rounds = pd.DataFrame(result, columns=['href', 'round'])\n",
    "\n",
    "page = eventVL()\n",
    "# page.getSoup()\n",
    "print(page.getSoup())"
   ]
  },
  {
   "cell_type": "code",
   "execution_count": 30,
   "metadata": {},
   "outputs": [],
   "source": [
    "page.getRounds()"
   ]
  },
  {
   "cell_type": "code",
   "execution_count": 33,
   "metadata": {},
   "outputs": [
    {
     "data": {
      "text/html": [
       "<div>\n",
       "<style scoped>\n",
       "    .dataframe tbody tr th:only-of-type {\n",
       "        vertical-align: middle;\n",
       "    }\n",
       "\n",
       "    .dataframe tbody tr th {\n",
       "        vertical-align: top;\n",
       "    }\n",
       "\n",
       "    .dataframe thead th {\n",
       "        text-align: right;\n",
       "    }\n",
       "</style>\n",
       "<table border=\"1\" class=\"dataframe\">\n",
       "  <thead>\n",
       "    <tr style=\"text-align: right;\">\n",
       "      <th></th>\n",
       "      <th>href</th>\n",
       "      <th>round</th>\n",
       "    </tr>\n",
       "  </thead>\n",
       "  <tbody>\n",
       "    <tr>\n",
       "      <th>0</th>\n",
       "      <td>#/event/1233/cr/6844</td>\n",
       "      <td>Q</td>\n",
       "    </tr>\n",
       "    <tr>\n",
       "      <th>1</th>\n",
       "      <td>#/event/1233/cr/7417</td>\n",
       "      <td>S</td>\n",
       "    </tr>\n",
       "    <tr>\n",
       "      <th>2</th>\n",
       "      <td>#/event/1233/cr/7419</td>\n",
       "      <td>F</td>\n",
       "    </tr>\n",
       "    <tr>\n",
       "      <th>3</th>\n",
       "      <td>#/event/1233/cr/6845</td>\n",
       "      <td>Q</td>\n",
       "    </tr>\n",
       "    <tr>\n",
       "      <th>4</th>\n",
       "      <td>#/event/1233/cr/7418</td>\n",
       "      <td>S</td>\n",
       "    </tr>\n",
       "    <tr>\n",
       "      <th>5</th>\n",
       "      <td>#/event/1233/cr/7420</td>\n",
       "      <td>F</td>\n",
       "    </tr>\n",
       "  </tbody>\n",
       "</table>\n",
       "</div>"
      ],
      "text/plain": [
       "                   href round\n",
       "0  #/event/1233/cr/6844     Q\n",
       "1  #/event/1233/cr/7417     S\n",
       "2  #/event/1233/cr/7419     F\n",
       "3  #/event/1233/cr/6845     Q\n",
       "4  #/event/1233/cr/7418     S\n",
       "5  #/event/1233/cr/7420     F"
      ]
     },
     "execution_count": 33,
     "metadata": {},
     "output_type": "execute_result"
    }
   ],
   "source": [
    "page.rounds"
   ]
  },
  {
   "cell_type": "code",
   "execution_count": 34,
   "metadata": {},
   "outputs": [
    {
     "name": "stdout",
     "output_type": "stream",
     "text": [
      "#/event/1233/cr/6844\n",
      "#/event/1233/cr/7417\n",
      "#/event/1233/cr/7419\n",
      "#/event/1233/cr/6845\n",
      "#/event/1233/cr/7418\n",
      "#/event/1233/cr/7420\n"
     ]
    }
   ],
   "source": [
    "for index, row in page.rounds.iterrows():\n",
    "    href_value = row['href']\n",
    "    # Perform your evaluation or further processing with the href_value variable\n",
    "    # ...\n",
    "    print(href_value)\n",
    "    # You can use the href_value variable here or perform any other operations\n"
   ]
  },
  {
   "cell_type": "code",
   "execution_count": 28,
   "metadata": {},
   "outputs": [
    {
     "name": "stdout",
     "output_type": "stream",
     "text": [
      "[['#/event/1233/cr/6844', 'Q'], ['#/event/1233/cr/7417', 'S'], ['#/event/1233/cr/7419', 'F'], ['#/event/1233/cr/6845', 'Q'], ['#/event/1233/cr/7418', 'S'], ['#/event/1233/cr/7420', 'F']]\n"
     ]
    }
   ],
   "source": [
    "cr_nav_buttons = page.getSoup().select('.cr-nav-button')\n",
    "\n",
    "result = []\n",
    "for button in cr_nav_buttons:\n",
    "    last_child_text = list(button.children)[-1].text.strip()\n",
    "    if last_child_text in ['Q', 'S', 'F']:\n",
    "        href = button.get('href')\n",
    "        result.append([href, last_child_text])\n",
    "\n",
    "print(result)"
   ]
  },
  {
   "cell_type": "code",
   "execution_count": 21,
   "metadata": {},
   "outputs": [],
   "source": [
    "men, women = list(genderBlock.children)[-2:]"
   ]
  },
  {
   "cell_type": "code",
   "execution_count": 23,
   "metadata": {},
   "outputs": [],
   "source": [
    "men.get('href')"
   ]
  }
 ],
 "metadata": {
  "kernelspec": {
   "display_name": "Python 3",
   "language": "python",
   "name": "python3"
  },
  "language_info": {
   "codemirror_mode": {
    "name": "ipython",
    "version": 3
   },
   "file_extension": ".py",
   "mimetype": "text/x-python",
   "name": "python",
   "nbconvert_exporter": "python",
   "pygments_lexer": "ipython3",
   "version": "3.11.5"
  }
 },
 "nbformat": 4,
 "nbformat_minor": 2
}
