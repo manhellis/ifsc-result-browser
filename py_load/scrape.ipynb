{
 "cells": [
  {
   "cell_type": "code",
   "execution_count": 367,
   "metadata": {},
   "outputs": [
    {
     "name": "stdout",
     "output_type": "stream",
     "text": [
      "52386.90s - pydevd: Sending message related to process being replaced timed-out after 5 seconds\n",
      "Collecting pandas\n",
      "  Downloading pandas-2.1.4-cp311-cp311-macosx_10_9_x86_64.whl.metadata (18 kB)\n",
      "Collecting numpy<2,>=1.23.2 (from pandas)\n",
      "  Downloading numpy-1.26.2-cp311-cp311-macosx_10_9_x86_64.whl.metadata (61 kB)\n",
      "\u001b[2K     \u001b[90m━━━━━━━━━━━━━━━━━━━━━━━━━━━━━━━━━━━━━━━\u001b[0m \u001b[32m61.2/61.2 kB\u001b[0m \u001b[31m630.9 kB/s\u001b[0m eta \u001b[36m0:00:00\u001b[0ma \u001b[36m0:00:01\u001b[0m\n",
      "\u001b[?25hRequirement already satisfied: python-dateutil>=2.8.2 in /Users/manh/Documents/GitHub/ifsc-result-browser/.conda/lib/python3.11/site-packages (from pandas) (2.8.2)\n",
      "Collecting pytz>=2020.1 (from pandas)\n",
      "  Downloading pytz-2023.3.post1-py2.py3-none-any.whl.metadata (22 kB)\n",
      "Collecting tzdata>=2022.1 (from pandas)\n",
      "  Downloading tzdata-2023.3-py2.py3-none-any.whl (341 kB)\n",
      "\u001b[2K     \u001b[90m━━━━━━━━━━━━━━━━━━━━━━━━━━━━━━━━━━━━━━━\u001b[0m \u001b[32m341.8/341.8 kB\u001b[0m \u001b[31m2.4 MB/s\u001b[0m eta \u001b[36m0:00:00\u001b[0m00:01\u001b[0m00:01\u001b[0m\n",
      "\u001b[?25hRequirement already satisfied: six>=1.5 in /Users/manh/Documents/GitHub/ifsc-result-browser/.conda/lib/python3.11/site-packages (from python-dateutil>=2.8.2->pandas) (1.16.0)\n",
      "Downloading pandas-2.1.4-cp311-cp311-macosx_10_9_x86_64.whl (11.6 MB)\n",
      "\u001b[2K   \u001b[90m━━━━━━━━━━━━━━━━━━━━━━━━━━━━━━━━━━━━━━━━\u001b[0m \u001b[32m11.6/11.6 MB\u001b[0m \u001b[31m36.2 MB/s\u001b[0m eta \u001b[36m0:00:00\u001b[0m00:01\u001b[0m0:01\u001b[0m\n",
      "\u001b[?25hDownloading numpy-1.26.2-cp311-cp311-macosx_10_9_x86_64.whl (20.6 MB)\n",
      "\u001b[2K   \u001b[90m━━━━━━━━━━━━━━━━━━━━━━━━━━━━━━━━━━━━━━━━\u001b[0m \u001b[32m20.6/20.6 MB\u001b[0m \u001b[31m44.2 MB/s\u001b[0m eta \u001b[36m0:00:00\u001b[0m00:01\u001b[0m00:01\u001b[0m\n",
      "\u001b[?25hDownloading pytz-2023.3.post1-py2.py3-none-any.whl (502 kB)\n",
      "\u001b[2K   \u001b[90m━━━━━━━━━━━━━━━━━━━━━━━━━━━━━━━━━━━━━━━━\u001b[0m \u001b[32m502.5/502.5 kB\u001b[0m \u001b[31m14.4 MB/s\u001b[0m eta \u001b[36m0:00:00\u001b[0m\n",
      "\u001b[?25hInstalling collected packages: pytz, tzdata, numpy, pandas\n",
      "Successfully installed numpy-1.26.2 pandas-2.1.4 pytz-2023.3.post1 tzdata-2023.3\n"
     ]
    }
   ],
   "source": [
    "!pip3 install pandas"
   ]
  },
  {
   "cell_type": "code",
   "execution_count": 368,
   "metadata": {},
   "outputs": [],
   "source": [
    "# selenium 4\n",
    "from selenium import webdriver\n",
    "from selenium.webdriver.chrome.service import Service as ChromeService\n",
    "from webdriver_manager.chrome import ChromeDriverManager\n",
    "from selenium.webdriver.common.by import By\n",
    "from bs4 import BeautifulSoup\n",
    "from selenium.webdriver.support.ui import Select\n",
    "import time \n",
    "import pandas as pd\n"
   ]
  },
  {
   "cell_type": "code",
   "execution_count": 335,
   "metadata": {},
   "outputs": [
    {
     "name": "stdout",
     "output_type": "stream",
     "text": [
      "<html lang=\"en\"><head><style type=\"text/css\">span.iconify, i.iconify, iconify-icon { display: inline-block; width: 1em; }</style>\n",
      "<meta charset=\"utf-8\"/>\n",
      "<meta content=\"width=device-width, initial-scale=1.0\" name=\"viewport\"/>\n",
      "<!-- Google Tag Manager -->\n",
      "<script async=\"\" src=\"https://www.googletagmanager.com/gtag/js?id=G-3CW645GZWB&amp;cx=c&amp;_slc=1\" type=\"text/javascript\"></script><script async=\"\" src=\"https://www.google-analytics.com/analytics.js\" type=\"text/javascript\"></script><script async=\"\" src=\"https://www.googletagmanager.com/gtm.js?id=GTM-MT5GL8L\"></script><script>(function(w,d,s,l,i){w[l]=w[l]||[];w[l].push({'gtm.start':\n",
      "      new Date().getTime(),event:'gtm.js'});var f=d.getElementsByTagName(s)[0],\n",
      "      j=d.createElement(s),dl=l!='dataLayer'?'&l='+l:'';j.async=true;j.src=\n",
      "      'https://www.googletagmanager.com/gtm.js?id='+i+dl;f.parentNode.insertBefore(j,f);\n",
      "      })(window,document,'script','dataLayer','GTM-MT5GL8L');</script>\n",
      "<!-- End Google Tag Manager -->\n",
      "<script src=\"https://code.iconify.design/1/1.0.7/iconify.min.js\"></script>\n",
      "<title>IFSC Climbing Result Service</title>\n",
      "<meta content=\"authenticity_token\" name=\"csrf-param\"/>\n",
      "<meta content=\"UAE3AjZk5F6TOfEnNgJ/B/KDG3ap/dui4GwnZRjmQgSIhCK5IyuJVn1Tw2tV3dYLSVcOBAhtB5f56dlX25MwhA==\" name=\"csrf-token\"/>\n",
      "<link href=\"/assets/application-a7720e34fe2c79e1cb7f3e5b1e8f9f09d0a5b8add8f832752b2330706e626ddd.css\" media=\"all\" rel=\"stylesheet\"/>\n",
      "<script src=\"/assets/application-4c5c0ac7a2ebf7f85161c7068cf8bc4133e446bc3be2ed0bce338d6b4748f389.js\"></script>\n",
      "<script crossorigin=\"anonymous\" src=\"/vite/assets/front_index-106d4a7c.js\" type=\"module\"></script><link as=\"script\" crossorigin=\"anonymous\" href=\"/vite/assets/preload-helper-7b1ccdad.js\" rel=\"modulepreload\"/>\n",
      "<link as=\"script\" crossorigin=\"anonymous\" href=\"/vite/assets/entrypoint-0ee9f33b.js\" rel=\"modulepreload\"/>\n",
      "<link as=\"script\" crossorigin=\"anonymous\" href=\"/vite/assets/vuex.esm-6da45cf4.js\" rel=\"modulepreload\"/>\n",
      "<link as=\"script\" crossorigin=\"anonymous\" href=\"/vite/assets/_plugin-vue2_normalizer-2bbd088e.js\" rel=\"modulepreload\"/>\n",
      "<link as=\"script\" crossorigin=\"anonymous\" href=\"/vite/assets/_commonjsHelpers-fd4b15db.js\" rel=\"modulepreload\"/>\n",
      "<link as=\"script\" crossorigin=\"anonymous\" href=\"/vite/assets/apollo-40a3e861.js\" rel=\"modulepreload\"/>\n",
      "<link as=\"script\" crossorigin=\"anonymous\" href=\"/vite/assets/style-9c0548e3.js\" rel=\"modulepreload\"/><link href=\"/vite/assets/front_index-94c693a5.css\" media=\"screen\" rel=\"stylesheet\"/>\n",
      "<link href=\"/vite/assets/style-1a20773b.css\" media=\"screen\" rel=\"stylesheet\"/>\n",
      "<meta content=\"https://ifsc.results.info\" property=\"og:url\"/>\n",
      "<meta content=\"website\" property=\"og:type\"/>\n",
      "<meta content=\"IFSC Climbing Result Service\" property=\"og:title\"/>\n",
      "<meta content=\"The result site of IFSC climbing competitions, with starters, live results and rankings powered by Vertical-Life\" property=\"og:description\"/>\n",
      "<link as=\"script\" crossorigin=\"\" href=\"/vite/assets/index-592e24fb.js\" rel=\"modulepreload\"/><link as=\"script\" crossorigin=\"\" href=\"/vite/assets/form-eb208fd8.js\" rel=\"modulepreload\"/><link as=\"script\" crossorigin=\"\" href=\"/vite/assets/props-495a6f54.js\" rel=\"modulepreload\"/><link as=\"script\" crossorigin=\"\" href=\"/vite/assets/lib.esm-bb3a8e65.js\" rel=\"modulepreload\"/><link as=\"script\" crossorigin=\"\" href=\"/vite/assets/form-select-24aef054.js\" rel=\"modulepreload\"/><link as=\"script\" crossorigin=\"\" href=\"/vite/assets/html-5e37f477.js\" rel=\"modulepreload\"/><link as=\"script\" crossorigin=\"\" href=\"/vite/assets/form-state-0ffcd431.js\" rel=\"modulepreload\"/><link as=\"script\" crossorigin=\"\" href=\"/vite/assets/safe-vue-instance-a431b6ce.js\" rel=\"modulepreload\"/><link as=\"script\" crossorigin=\"\" href=\"/vite/assets/form-custom-eb965bbc.js\" rel=\"modulepreload\"/><link as=\"script\" crossorigin=\"\" href=\"/vite/assets/id-c6ee4f1b.js\" rel=\"modulepreload\"/><link as=\"script\" crossorigin=\"\" href=\"/vite/assets/model-688c59ab.js\" rel=\"modulepreload\"/><link as=\"script\" crossorigin=\"\" href=\"/vite/assets/get-d366a98c.js\" rel=\"modulepreload\"/><link as=\"script\" crossorigin=\"\" href=\"/vite/assets/form-options-8c646cb5.js\" rel=\"modulepreload\"/><link as=\"script\" crossorigin=\"\" href=\"/vite/assets/warn-ebdb651c.js\" rel=\"modulepreload\"/><link href=\"/vite/assets/index-bbf959a0.css\" rel=\"stylesheet\"/><script async=\"true\" src=\"https://api.iconify.design/fluent.js?icons=search-24-filled\" type=\"text/javascript\"></script><meta content=\"AymqwRC7u88Y4JPvfIF2F37QKylC04248hLCdJAsh8xgOfe/dVJPV3XS3wLFca1ZMVOtnBfVjaCMTVudWM//5g4AAAB7eyJvcmlnaW4iOiJodHRwczovL3d3dy5nb29nbGV0YWdtYW5hZ2VyLmNvbTo0NDMiLCJmZWF0dXJlIjoiUHJpdmFjeVNhbmRib3hBZHNBUElzIiwiZXhwaXJ5IjoxNjk1MTY3OTk5LCJpc1RoaXJkUGFydHkiOnRydWV9\" http-equiv=\"origin-trial\"/></head>\n",
      "<body>\n",
      "<!-- Google Tag Manager (noscript) -->\n",
      "<noscript><iframe height=\"0\" src=\"https://www.googletagmanager.com/ns.html?id=GTM-MT5GL8L\" style=\"display:none;visibility:hidden\" width=\"0\"></iframe></noscript>\n",
      "<!-- End Google Tag Manager (noscript) -->\n",
      "<div id=\"cable-path\" style=\"display: none;\">ifsc_cable</div>\n",
      "<div class=\"app-container\" data-v-9adfd589=\"\"><div class=\"rs-header w-100 px-2 rs-header bg-white\" data-v-83248a34=\"\" data-v-9adfd589=\"\"><div class=\"rs-header-container\" data-v-83248a34=\"\"><div class=\"d-flex align-items-center\" data-v-83248a34=\"\"><a class=\"\" data-v-83248a34=\"\" href=\"https://ifsc-climbing.org\" target=\"_blank\"><img alt=\"\" class=\"rs-fed-logo py-2\" data-v-83248a34=\"\" src=\"/images/ifsc_logo.png\"/></a></div><div class=\"d-flex flex-column\" data-v-83248a34=\"\"><!-- --><div class=\"d-flex justify-content-center align-items-stretch mx-2\" data-v-83248a34=\"\"><a aria-current=\"page\" class=\"nav-item router-link-exact-active router-link-active\" data-v-83248a34=\"\" href=\"#/\"><span data-v-83248a34=\"\">Events</span></a><a class=\"nav-item\" data-v-83248a34=\"\" href=\"#/rankings\">Rankings</a><a class=\"nav-item\" data-v-83248a34=\"\" href=\"#/athletes\">Athletes</a></div></div><div class=\"d-flex align-items-center justify-content-end\" data-v-83248a34=\"\"><a data-v-83248a34=\"\" href=\"/users/login\"><svg class=\"login-btn\" data-v-83248a34=\"\" fill=\"none\" height=\"20\" viewbox=\"0 0 20 20\" width=\"20\" xmlns=\"http://www.w3.org/2000/svg\"><path d=\"M10 0C4.48 0 0 4.48 0 10C0 15.52 4.48 20 10 20C15.52 20 20 15.52 20 10C20 4.48 15.52 0 10 0ZM5.07 16.28C5.5 15.38 8.12 14.5 10 14.5C11.88 14.5 14.51 15.38 14.93 16.28C13.57 17.36 11.86 18 10 18C8.14 18 6.43 17.36 5.07 16.28ZM16.36 14.83C14.93 13.09 11.46 12.5 10 12.5C8.54 12.5 5.07 13.09 3.64 14.83C2.62 13.49 2 11.82 2 10C2 5.59 5.59 2 10 2C14.41 2 18 5.59 18 10C18 11.82 17.38 13.49 16.36 14.83ZM10 4C8.06 4 6.5 5.56 6.5 7.5C6.5 9.44 8.06 11 10 11C11.94 11 13.5 9.44 13.5 7.5C13.5 5.56 11.94 4 10 4ZM10 9C9.17 9 8.5 8.33 8.5 7.5C8.5 6.67 9.17 6 10 6C10.83 6 11.5 6.67 11.5 7.5C11.5 8.33 10.83 9 10 9Z\" data-v-83248a34=\"\" fill=\"#111111\"></path></svg></a></div></div></div><div class=\"rs-content\" data-v-9adfd589=\"\" data-v-fedd7ba2=\"\"><!-- --><div class=\"index-comp-container\" data-v-fedd7ba2=\"\"><div class=\"public-h1\" data-v-fedd7ba2=\"\">All events</div><div class=\"search-bar-container\" data-v-fedd7ba2=\"\"><div class=\"input-group\" data-v-fedd7ba2=\"\" style=\"border-radius: 20px;\"><div class=\"input-group-prepend\" data-v-fedd7ba2=\"\"><div class=\"input-group-text\" data-v-fedd7ba2=\"\"><svg aria-hidden=\"true\" class=\"iconify search-icon\" data-icon=\"fluent:search-24-filled\" data-inline=\"false\" data-v-fedd7ba2=\"\" focusable=\"false\" height=\"1em\" preserveaspectratio=\"xMidYMid meet\" style=\"transform: rotate(360deg);\" viewbox=\"0 0 24 24\" width=\"1em\" xmlns=\"http://www.w3.org/2000/svg\" xmlns:xlink=\"http://www.w3.org/1999/xlink\"><path d=\"M10 2.5a7.5 7.5 0 0 1 5.964 12.048l4.743 4.745a1 1 0 0 1-1.32 1.497l-.094-.083l-4.745-4.743A7.5 7.5 0 1 1 10 2.5m0 2a5.5 5.5 0 1 0 0 11a5.5 5.5 0 0 0 0-11\" fill=\"currentColor\"></path></svg></div></div><input class=\"form-control input-field\" data-v-fedd7ba2=\"\" placeholder=\"Search by name or location\" type=\"text\"/></div></div><form class=\"rs-event-filters form-inline\" data-v-fedd7ba2=\"\"><select class=\"custom-select\" data-v-fedd7ba2=\"\" id=\"__BVID__11\"><option value=\"36\">2024</option><option value=\"35\">2023</option><option value=\"34\">2022</option><option value=\"33\">2021</option><option value=\"2\">2020</option><option value=\"32\">2019</option><option value=\"31\">2018</option><option value=\"30\">2017</option><option value=\"29\">2016</option><option value=\"28\">2015</option><option value=\"27\">2014</option><option value=\"26\">2013</option><option value=\"25\">2012</option><option value=\"24\">2011</option><option value=\"23\">2010</option><option value=\"22\">2009</option><option value=\"21\">2008</option><option value=\"20\">2007</option><option value=\"19\">2006</option><option value=\"18\">2005</option><option value=\"17\">2004</option><option value=\"16\">2003</option><option value=\"15\">2002</option><option value=\"14\">2001</option><option value=\"13\">2000</option><option value=\"12\">1999</option><option value=\"11\">1998</option><option value=\"10\">1997</option><option value=\"9\">1996</option><option value=\"8\">1995</option><option value=\"7\">1994</option><option value=\"6\">1993</option><option value=\"5\">1992</option><option value=\"4\">1991</option><option value=\"3\">1990</option></select><select class=\"custom-select\" data-v-fedd7ba2=\"\" id=\"__BVID__12\"><option value=\"now-and-later\">Ongoing and future events</option><option value=\"present\">Ongoing events</option><option value=\"future\">Future events</option><option value=\"past\">Past events</option><option value=\"all\">All events</option></select><select class=\"custom-select\" data-v-fedd7ba2=\"\" id=\"__BVID__13\"><option value=\"\">All leagues</option><option value=\"418\">World Cups and World Championships</option><option value=\"419\">IFSC Youth</option><option value=\"420\">IFSC Paraclimbing</option><option value=\"421\">IFSC Asia Adults</option><option value=\"422\">IFSC Asia Youth</option><option value=\"423\">IFSC Europe Adults</option><option value=\"424\">IFSC Europe Youth</option><option value=\"425\">Games</option><option value=\"426\">Other events</option><option value=\"427\">Masters and Promotional Events</option><option value=\"428\">IFSC Pan America Adults</option><option value=\"429\">IFSC Oceania</option><option value=\"430\">IFSC Africa</option></select><select class=\"custom-select\" data-v-fedd7ba2=\"\" id=\"__BVID__14\"><option value=\"\">All disciplines</option><option value=\"lead\">Lead</option><option value=\"speed\">Speed</option><option value=\"boulder\">Boulder</option><option value=\"combined\">Combined</option><option value=\"boulder&amp;lead\">Boulder&amp;Lead</option></select><select class=\"custom-select\" data-v-fedd7ba2=\"\" id=\"__BVID__15\"><option value=\"\">All cups</option><option value=\"90\">IFSC Climbing World Cup 2023</option><option value=\"92\">IFSC-Europe Climbing European Cup 2023</option><option value=\"91\">IFSC-Europe Climbing European Youth Cup 2023</option></select></form><div class=\"card-container\" data-v-fedd7ba2=\"\"><a class=\"\" data-v-5f800d81=\"\" data-v-fedd7ba2=\"\" href=\"#/event/1314\"><div class=\"bg-white event-card-container\" data-v-5f800d81=\"\"><div class=\"right-part\" data-v-5f800d81=\"\"><div class=\"rs-event-overline\" data-v-5f800d81=\"\"> Boulder </div><div class=\"rs-event-name\" data-v-5f800d81=\"\"> International Climbing Series - Studio Bloc Master - Pfungstadt (GER) 2023 </div><div class=\"rs-event-foot\" data-v-5f800d81=\"\"><div class=\"foot-date\" data-v-5f800d81=\"\"><svg class=\"calendar-logo\" data-v-5f800d81=\"\" fill=\"none\" height=\"16\" viewbox=\"0 0 14 16\" width=\"14\" xmlns=\"http://www.w3.org/2000/svg\"><path d=\"M12.4 1.86364H11.725V1.18182C11.725 0.806818 11.4213 0.5 11.05 0.5C10.6788 0.5 10.375 0.806818 10.375 1.18182V1.86364H3.625V1.18182C3.625 0.806818 3.32125 0.5 2.95 0.5C2.57875 0.5 2.275 0.806818 2.275 1.18182V1.86364H1.6C0.8575 1.86364 0.25 2.47727 0.25 3.22727V14.1364C0.25 14.8864 0.8575 15.5 1.6 15.5H12.4C13.1425 15.5 13.75 14.8864 13.75 14.1364V3.22727C13.75 2.47727 13.1425 1.86364 12.4 1.86364ZM11.725 14.1364H2.275C1.90375 14.1364 1.6 13.8295 1.6 13.4545V5.27273H12.4V13.4545C12.4 13.8295 12.0963 14.1364 11.725 14.1364Z\" data-v-5f800d81=\"\" fill=\"#8B8C89\"></path><rect data-v-5f800d81=\"\" fill=\"#8B8C89\" height=\"3.75\" rx=\"1\" width=\"3.75\" x=\"7\" y=\"8.75\"></rect></svg> 11 Mar - 12 Mar </div><div class=\"foot-location\" data-v-5f800d81=\"\"><svg class=\"location-logo\" data-v-5f800d81=\"\" fill=\"none\" height=\"16\" viewbox=\"0 0 12 16\" width=\"12\" xmlns=\"http://www.w3.org/2000/svg\"><path d=\"M6 8C5.175 8 4.5 7.325 4.5 6.5C4.5 5.675 5.175 5 6 5C6.825 5 7.5 5.675 7.5 6.5C7.5 7.325 6.825 8 6 8ZM10.5 6.65C10.5 3.9275 8.5125 2 6 2C3.4875 2 1.5 3.9275 1.5 6.65C1.5 8.405 2.9625 10.73 6 13.505C9.0375 10.73 10.5 8.405 10.5 6.65ZM6 0.5C9.15 0.5 12 2.915 12 6.65C12 9.14 9.9975 12.0875 6 15.5C2.0025 12.0875 0 9.14 0 6.65C0 2.915 2.85 0.5 6 0.5Z\" data-v-5f800d81=\"\" fill=\"#8B8C89\"></path></svg> Pfungstadt </div></div></div><div class=\"left-part\" data-v-5f800d81=\"\"><div class=\"left-date\" data-v-5f800d81=\"\"> 11 - 12 </div><div class=\"left-month\" data-v-5f800d81=\"\"> Mar </div></div></div></a><a class=\"\" data-v-5f800d81=\"\" data-v-fedd7ba2=\"\" href=\"#/event/1340\"><div class=\"bg-white event-card-container\" data-v-5f800d81=\"\"><div class=\"right-part\" data-v-5f800d81=\"\"><div class=\"rs-event-overline\" data-v-5f800d81=\"\"> </div><div class=\"rs-event-name\" data-v-5f800d81=\"\"> Promo Event - Delfts Bleau International Youth Open - Delft (NED) 2023 </div><div class=\"rs-event-foot\" data-v-5f800d81=\"\"><div class=\"foot-date\" data-v-5f800d81=\"\"><svg class=\"calendar-logo\" data-v-5f800d81=\"\" fill=\"none\" height=\"16\" viewbox=\"0 0 14 16\" width=\"14\" xmlns=\"http://www.w3.org/2000/svg\"><path d=\"M12.4 1.86364H11.725V1.18182C11.725 0.806818 11.4213 0.5 11.05 0.5C10.6788 0.5 10.375 0.806818 10.375 1.18182V1.86364H3.625V1.18182C3.625 0.806818 3.32125 0.5 2.95 0.5C2.57875 0.5 2.275 0.806818 2.275 1.18182V1.86364H1.6C0.8575 1.86364 0.25 2.47727 0.25 3.22727V14.1364C0.25 14.8864 0.8575 15.5 1.6 15.5H12.4C13.1425 15.5 13.75 14.8864 13.75 14.1364V3.22727C13.75 2.47727 13.1425 1.86364 12.4 1.86364ZM11.725 14.1364H2.275C1.90375 14.1364 1.6 13.8295 1.6 13.4545V5.27273H12.4V13.4545C12.4 13.8295 12.0963 14.1364 11.725 14.1364Z\" data-v-5f800d81=\"\" fill=\"#8B8C89\"></path><rect data-v-5f800d81=\"\" fill=\"#8B8C89\" height=\"3.75\" rx=\"1\" width=\"3.75\" x=\"7\" y=\"8.75\"></rect></svg> 25 Mar - 26 Mar </div><div class=\"foot-location\" data-v-5f800d81=\"\"><svg class=\"location-logo\" data-v-5f800d81=\"\" fill=\"none\" height=\"16\" viewbox=\"0 0 12 16\" width=\"12\" xmlns=\"http://www.w3.org/2000/svg\"><path d=\"M6 8C5.175 8 4.5 7.325 4.5 6.5C4.5 5.675 5.175 5 6 5C6.825 5 7.5 5.675 7.5 6.5C7.5 7.325 6.825 8 6 8ZM10.5 6.65C10.5 3.9275 8.5125 2 6 2C3.4875 2 1.5 3.9275 1.5 6.65C1.5 8.405 2.9625 10.73 6 13.505C9.0375 10.73 10.5 8.405 10.5 6.65ZM6 0.5C9.15 0.5 12 2.915 12 6.65C12 9.14 9.9975 12.0875 6 15.5C2.0025 12.0875 0 9.14 0 6.65C0 2.915 2.85 0.5 6 0.5Z\" data-v-5f800d81=\"\" fill=\"#8B8C89\"></path></svg> Delft </div></div></div><div class=\"left-part\" data-v-5f800d81=\"\"><div class=\"left-date\" data-v-5f800d81=\"\"> 25 - 26 </div><div class=\"left-month\" data-v-5f800d81=\"\"> Mar </div></div></div></a><a class=\"\" data-v-5f800d81=\"\" data-v-fedd7ba2=\"\" href=\"#/event/1331\"><div class=\"bg-white event-card-container\" data-v-5f800d81=\"\"><div class=\"right-part\" data-v-5f800d81=\"\"><div class=\"rs-event-overline\" data-v-5f800d81=\"\"> Speed </div><div class=\"rs-event-name\" data-v-5f800d81=\"\"> IFSC European Cup Tarnów 2023 </div><div class=\"rs-event-foot\" data-v-5f800d81=\"\"><div class=\"foot-date\" data-v-5f800d81=\"\"><svg class=\"calendar-logo\" data-v-5f800d81=\"\" fill=\"none\" height=\"16\" viewbox=\"0 0 14 16\" width=\"14\" xmlns=\"http://www.w3.org/2000/svg\"><path d=\"M12.4 1.86364H11.725V1.18182C11.725 0.806818 11.4213 0.5 11.05 0.5C10.6788 0.5 10.375 0.806818 10.375 1.18182V1.86364H3.625V1.18182C3.625 0.806818 3.32125 0.5 2.95 0.5C2.57875 0.5 2.275 0.806818 2.275 1.18182V1.86364H1.6C0.8575 1.86364 0.25 2.47727 0.25 3.22727V14.1364C0.25 14.8864 0.8575 15.5 1.6 15.5H12.4C13.1425 15.5 13.75 14.8864 13.75 14.1364V3.22727C13.75 2.47727 13.1425 1.86364 12.4 1.86364ZM11.725 14.1364H2.275C1.90375 14.1364 1.6 13.8295 1.6 13.4545V5.27273H12.4V13.4545C12.4 13.8295 12.0963 14.1364 11.725 14.1364Z\" data-v-5f800d81=\"\" fill=\"#8B8C89\"></path><rect data-v-5f800d81=\"\" fill=\"#8B8C89\" height=\"3.75\" rx=\"1\" width=\"3.75\" x=\"7\" y=\"8.75\"></rect></svg> 1 Apr - 2 Apr </div><div class=\"foot-location\" data-v-5f800d81=\"\"><svg class=\"location-logo\" data-v-5f800d81=\"\" fill=\"none\" height=\"16\" viewbox=\"0 0 12 16\" width=\"12\" xmlns=\"http://www.w3.org/2000/svg\"><path d=\"M6 8C5.175 8 4.5 7.325 4.5 6.5C4.5 5.675 5.175 5 6 5C6.825 5 7.5 5.675 7.5 6.5C7.5 7.325 6.825 8 6 8ZM10.5 6.65C10.5 3.9275 8.5125 2 6 2C3.4875 2 1.5 3.9275 1.5 6.65C1.5 8.405 2.9625 10.73 6 13.505C9.0375 10.73 10.5 8.405 10.5 6.65ZM6 0.5C9.15 0.5 12 2.915 12 6.65C12 9.14 9.9975 12.0875 6 15.5C2.0025 12.0875 0 9.14 0 6.65C0 2.915 2.85 0.5 6 0.5Z\" data-v-5f800d81=\"\" fill=\"#8B8C89\"></path></svg> Tarnów </div></div></div><div class=\"left-part\" data-v-5f800d81=\"\"><div class=\"left-date\" data-v-5f800d81=\"\"> 1 - 2 </div><div class=\"left-month\" data-v-5f800d81=\"\"> Apr </div></div></div></a><a class=\"\" data-v-5f800d81=\"\" data-v-fedd7ba2=\"\" href=\"#/event/1332\"><div class=\"bg-white event-card-container\" data-v-5f800d81=\"\"><div class=\"right-part\" data-v-5f800d81=\"\"><div class=\"rs-event-overline\" data-v-5f800d81=\"\"> Speed </div><div class=\"rs-event-name\" data-v-5f800d81=\"\"> IFSC Europe - Continental Youth Cup (S) - Tarnów (POL) 2023 </div><div class=\"rs-event-foot\" data-v-5f800d81=\"\"><div class=\"foot-date\" data-v-5f800d81=\"\"><svg class=\"calendar-logo\" data-v-5f800d81=\"\" fill=\"none\" height=\"16\" viewbox=\"0 0 14 16\" width=\"14\" xmlns=\"http://www.w3.org/2000/svg\"><path d=\"M12.4 1.86364H11.725V1.18182C11.725 0.806818 11.4213 0.5 11.05 0.5C10.6788 0.5 10.375 0.806818 10.375 1.18182V1.86364H3.625V1.18182C3.625 0.806818 3.32125 0.5 2.95 0.5C2.57875 0.5 2.275 0.806818 2.275 1.18182V1.86364H1.6C0.8575 1.86364 0.25 2.47727 0.25 3.22727V14.1364C0.25 14.8864 0.8575 15.5 1.6 15.5H12.4C13.1425 15.5 13.75 14.8864 13.75 14.1364V3.22727C13.75 2.47727 13.1425 1.86364 12.4 1.86364ZM11.725 14.1364H2.275C1.90375 14.1364 1.6 13.8295 1.6 13.4545V5.27273H12.4V13.4545C12.4 13.8295 12.0963 14.1364 11.725 14.1364Z\" data-v-5f800d81=\"\" fill=\"#8B8C89\"></path><rect data-v-5f800d81=\"\" fill=\"#8B8C89\" height=\"3.75\" rx=\"1\" width=\"3.75\" x=\"7\" y=\"8.75\"></rect></svg> 1 Apr - 2 Apr </div><div class=\"foot-location\" data-v-5f800d81=\"\"><svg class=\"location-logo\" data-v-5f800d81=\"\" fill=\"none\" height=\"16\" viewbox=\"0 0 12 16\" width=\"12\" xmlns=\"http://www.w3.org/2000/svg\"><path d=\"M6 8C5.175 8 4.5 7.325 4.5 6.5C4.5 5.675 5.175 5 6 5C6.825 5 7.5 5.675 7.5 6.5C7.5 7.325 6.825 8 6 8ZM10.5 6.65C10.5 3.9275 8.5125 2 6 2C3.4875 2 1.5 3.9275 1.5 6.65C1.5 8.405 2.9625 10.73 6 13.505C9.0375 10.73 10.5 8.405 10.5 6.65ZM6 0.5C9.15 0.5 12 2.915 12 6.65C12 9.14 9.9975 12.0875 6 15.5C2.0025 12.0875 0 9.14 0 6.65C0 2.915 2.85 0.5 6 0.5Z\" data-v-5f800d81=\"\" fill=\"#8B8C89\"></path></svg> Tarnów </div></div></div><div class=\"left-part\" data-v-5f800d81=\"\"><div class=\"left-date\" data-v-5f800d81=\"\"> 1 - 2 </div><div class=\"left-month\" data-v-5f800d81=\"\"> Apr </div></div></div></a><a class=\"\" data-v-5f800d81=\"\" data-v-fedd7ba2=\"\" href=\"#/event/1317\"><div class=\"bg-white event-card-container\" data-v-5f800d81=\"\"><div class=\"right-part\" data-v-5f800d81=\"\"><div class=\"rs-event-overline\" data-v-5f800d81=\"\"> Boulder </div><div class=\"rs-event-name\" data-v-5f800d81=\"\"> IFSC European Cup Chambéry 2023 </div><div class=\"rs-event-foot\" data-v-5f800d81=\"\"><div class=\"foot-date\" data-v-5f800d81=\"\"><svg class=\"calendar-logo\" data-v-5f800d81=\"\" fill=\"none\" height=\"16\" viewbox=\"0 0 14 16\" width=\"14\" xmlns=\"http://www.w3.org/2000/svg\"><path d=\"M12.4 1.86364H11.725V1.18182C11.725 0.806818 11.4213 0.5 11.05 0.5C10.6788 0.5 10.375 0.806818 10.375 1.18182V1.86364H3.625V1.18182C3.625 0.806818 3.32125 0.5 2.95 0.5C2.57875 0.5 2.275 0.806818 2.275 1.18182V1.86364H1.6C0.8575 1.86364 0.25 2.47727 0.25 3.22727V14.1364C0.25 14.8864 0.8575 15.5 1.6 15.5H12.4C13.1425 15.5 13.75 14.8864 13.75 14.1364V3.22727C13.75 2.47727 13.1425 1.86364 12.4 1.86364ZM11.725 14.1364H2.275C1.90375 14.1364 1.6 13.8295 1.6 13.4545V5.27273H12.4V13.4545C12.4 13.8295 12.0963 14.1364 11.725 14.1364Z\" data-v-5f800d81=\"\" fill=\"#8B8C89\"></path><rect data-v-5f800d81=\"\" fill=\"#8B8C89\" height=\"3.75\" rx=\"1\" width=\"3.75\" x=\"7\" y=\"8.75\"></rect></svg> 7 Apr - 8 Apr </div><div class=\"foot-location\" data-v-5f800d81=\"\"><svg class=\"location-logo\" data-v-5f800d81=\"\" fill=\"none\" height=\"16\" viewbox=\"0 0 12 16\" width=\"12\" xmlns=\"http://www.w3.org/2000/svg\"><path d=\"M6 8C5.175 8 4.5 7.325 4.5 6.5C4.5 5.675 5.175 5 6 5C6.825 5 7.5 5.675 7.5 6.5C7.5 7.325 6.825 8 6 8ZM10.5 6.65C10.5 3.9275 8.5125 2 6 2C3.4875 2 1.5 3.9275 1.5 6.65C1.5 8.405 2.9625 10.73 6 13.505C9.0375 10.73 10.5 8.405 10.5 6.65ZM6 0.5C9.15 0.5 12 2.915 12 6.65C12 9.14 9.9975 12.0875 6 15.5C2.0025 12.0875 0 9.14 0 6.65C0 2.915 2.85 0.5 6 0.5Z\" data-v-5f800d81=\"\" fill=\"#8B8C89\"></path></svg> Chambéry </div></div></div><div class=\"left-part\" data-v-5f800d81=\"\"><div class=\"left-date\" data-v-5f800d81=\"\"> 7 - 8 </div><div class=\"left-month\" data-v-5f800d81=\"\"> Apr </div></div></div></a><a class=\"\" data-v-5f800d81=\"\" data-v-fedd7ba2=\"\" href=\"#/event/1291\"><div class=\"bg-white event-card-container\" data-v-5f800d81=\"\"><div class=\"right-part\" data-v-5f800d81=\"\"><div class=\"rs-event-overline\" data-v-5f800d81=\"\"> Boulder </div><div class=\"rs-event-name\" data-v-5f800d81=\"\"> IFSC World Cup Hachioji 2023 </div><div class=\"rs-event-foot\" data-v-5f800d81=\"\"><div class=\"foot-date\" data-v-5f800d81=\"\"><svg class=\"calendar-logo\" data-v-5f800d81=\"\" fill=\"none\" height=\"16\" viewbox=\"0 0 14 16\" width=\"14\" xmlns=\"http://www.w3.org/2000/svg\"><path d=\"M12.4 1.86364H11.725V1.18182C11.725 0.806818 11.4213 0.5 11.05 0.5C10.6788 0.5 10.375 0.806818 10.375 1.18182V1.86364H3.625V1.18182C3.625 0.806818 3.32125 0.5 2.95 0.5C2.57875 0.5 2.275 0.806818 2.275 1.18182V1.86364H1.6C0.8575 1.86364 0.25 2.47727 0.25 3.22727V14.1364C0.25 14.8864 0.8575 15.5 1.6 15.5H12.4C13.1425 15.5 13.75 14.8864 13.75 14.1364V3.22727C13.75 2.47727 13.1425 1.86364 12.4 1.86364ZM11.725 14.1364H2.275C1.90375 14.1364 1.6 13.8295 1.6 13.4545V5.27273H12.4V13.4545C12.4 13.8295 12.0963 14.1364 11.725 14.1364Z\" data-v-5f800d81=\"\" fill=\"#8B8C89\"></path><rect data-v-5f800d81=\"\" fill=\"#8B8C89\" height=\"3.75\" rx=\"1\" width=\"3.75\" x=\"7\" y=\"8.75\"></rect></svg> 21 Apr - 23 Apr </div><div class=\"foot-location\" data-v-5f800d81=\"\"><svg class=\"location-logo\" data-v-5f800d81=\"\" fill=\"none\" height=\"16\" viewbox=\"0 0 12 16\" width=\"12\" xmlns=\"http://www.w3.org/2000/svg\"><path d=\"M6 8C5.175 8 4.5 7.325 4.5 6.5C4.5 5.675 5.175 5 6 5C6.825 5 7.5 5.675 7.5 6.5C7.5 7.325 6.825 8 6 8ZM10.5 6.65C10.5 3.9275 8.5125 2 6 2C3.4875 2 1.5 3.9275 1.5 6.65C1.5 8.405 2.9625 10.73 6 13.505C9.0375 10.73 10.5 8.405 10.5 6.65ZM6 0.5C9.15 0.5 12 2.915 12 6.65C12 9.14 9.9975 12.0875 6 15.5C2.0025 12.0875 0 9.14 0 6.65C0 2.915 2.85 0.5 6 0.5Z\" data-v-5f800d81=\"\" fill=\"#8B8C89\"></path></svg> Hachioji </div></div></div><div class=\"left-part\" data-v-5f800d81=\"\"><div class=\"left-date\" data-v-5f800d81=\"\"> 21 - 23 </div><div class=\"left-month\" data-v-5f800d81=\"\"> Apr </div></div></div></a><a class=\"\" data-v-5f800d81=\"\" data-v-fedd7ba2=\"\" href=\"#/event/1321\"><div class=\"bg-white event-card-container\" data-v-5f800d81=\"\"><div class=\"right-part\" data-v-5f800d81=\"\"><div class=\"rs-event-overline\" data-v-5f800d81=\"\"> Boulder </div><div class=\"rs-event-name\" data-v-5f800d81=\"\"> IFSC Europe - Continental Youth Cup (B) - Soure (POR) 2023 </div><div class=\"rs-event-foot\" data-v-5f800d81=\"\"><div class=\"foot-date\" data-v-5f800d81=\"\"><svg class=\"calendar-logo\" data-v-5f800d81=\"\" fill=\"none\" height=\"16\" viewbox=\"0 0 14 16\" width=\"14\" xmlns=\"http://www.w3.org/2000/svg\"><path d=\"M12.4 1.86364H11.725V1.18182C11.725 0.806818 11.4213 0.5 11.05 0.5C10.6788 0.5 10.375 0.806818 10.375 1.18182V1.86364H3.625V1.18182C3.625 0.806818 3.32125 0.5 2.95 0.5C2.57875 0.5 2.275 0.806818 2.275 1.18182V1.86364H1.6C0.8575 1.86364 0.25 2.47727 0.25 3.22727V14.1364C0.25 14.8864 0.8575 15.5 1.6 15.5H12.4C13.1425 15.5 13.75 14.8864 13.75 14.1364V3.22727C13.75 2.47727 13.1425 1.86364 12.4 1.86364ZM11.725 14.1364H2.275C1.90375 14.1364 1.6 13.8295 1.6 13.4545V5.27273H12.4V13.4545C12.4 13.8295 12.0963 14.1364 11.725 14.1364Z\" data-v-5f800d81=\"\" fill=\"#8B8C89\"></path><rect data-v-5f800d81=\"\" fill=\"#8B8C89\" height=\"3.75\" rx=\"1\" width=\"3.75\" x=\"7\" y=\"8.75\"></rect></svg> 22 Apr - 23 Apr </div><div class=\"foot-location\" data-v-5f800d81=\"\"><svg class=\"location-logo\" data-v-5f800d81=\"\" fill=\"none\" height=\"16\" viewbox=\"0 0 12 16\" width=\"12\" xmlns=\"http://www.w3.org/2000/svg\"><path d=\"M6 8C5.175 8 4.5 7.325 4.5 6.5C4.5 5.675 5.175 5 6 5C6.825 5 7.5 5.675 7.5 6.5C7.5 7.325 6.825 8 6 8ZM10.5 6.65C10.5 3.9275 8.5125 2 6 2C3.4875 2 1.5 3.9275 1.5 6.65C1.5 8.405 2.9625 10.73 6 13.505C9.0375 10.73 10.5 8.405 10.5 6.65ZM6 0.5C9.15 0.5 12 2.915 12 6.65C12 9.14 9.9975 12.0875 6 15.5C2.0025 12.0875 0 9.14 0 6.65C0 2.915 2.85 0.5 6 0.5Z\" data-v-5f800d81=\"\" fill=\"#8B8C89\"></path></svg> Soure </div></div></div><div class=\"left-part\" data-v-5f800d81=\"\"><div class=\"left-date\" data-v-5f800d81=\"\"> 22 - 23 </div><div class=\"left-month\" data-v-5f800d81=\"\"> Apr </div></div></div></a><a class=\"\" data-v-5f800d81=\"\" data-v-fedd7ba2=\"\" href=\"#/event/1292\"><div class=\"bg-white event-card-container\" data-v-5f800d81=\"\"><div class=\"right-part\" data-v-5f800d81=\"\"><div class=\"rs-event-overline\" data-v-5f800d81=\"\"> Boulder • Speed </div><div class=\"rs-event-name\" data-v-5f800d81=\"\"> IFSC World Cup Seoul 2023 </div><div class=\"rs-event-foot\" data-v-5f800d81=\"\"><div class=\"foot-date\" data-v-5f800d81=\"\"><svg class=\"calendar-logo\" data-v-5f800d81=\"\" fill=\"none\" height=\"16\" viewbox=\"0 0 14 16\" width=\"14\" xmlns=\"http://www.w3.org/2000/svg\"><path d=\"M12.4 1.86364H11.725V1.18182C11.725 0.806818 11.4213 0.5 11.05 0.5C10.6788 0.5 10.375 0.806818 10.375 1.18182V1.86364H3.625V1.18182C3.625 0.806818 3.32125 0.5 2.95 0.5C2.57875 0.5 2.275 0.806818 2.275 1.18182V1.86364H1.6C0.8575 1.86364 0.25 2.47727 0.25 3.22727V14.1364C0.25 14.8864 0.8575 15.5 1.6 15.5H12.4C13.1425 15.5 13.75 14.8864 13.75 14.1364V3.22727C13.75 2.47727 13.1425 1.86364 12.4 1.86364ZM11.725 14.1364H2.275C1.90375 14.1364 1.6 13.8295 1.6 13.4545V5.27273H12.4V13.4545C12.4 13.8295 12.0963 14.1364 11.725 14.1364Z\" data-v-5f800d81=\"\" fill=\"#8B8C89\"></path><rect data-v-5f800d81=\"\" fill=\"#8B8C89\" height=\"3.75\" rx=\"1\" width=\"3.75\" x=\"7\" y=\"8.75\"></rect></svg> 28 Apr - 30 Apr </div><div class=\"foot-location\" data-v-5f800d81=\"\"><svg class=\"location-logo\" data-v-5f800d81=\"\" fill=\"none\" height=\"16\" viewbox=\"0 0 12 16\" width=\"12\" xmlns=\"http://www.w3.org/2000/svg\"><path d=\"M6 8C5.175 8 4.5 7.325 4.5 6.5C4.5 5.675 5.175 5 6 5C6.825 5 7.5 5.675 7.5 6.5C7.5 7.325 6.825 8 6 8ZM10.5 6.65C10.5 3.9275 8.5125 2 6 2C3.4875 2 1.5 3.9275 1.5 6.65C1.5 8.405 2.9625 10.73 6 13.505C9.0375 10.73 10.5 8.405 10.5 6.65ZM6 0.5C9.15 0.5 12 2.915 12 6.65C12 9.14 9.9975 12.0875 6 15.5C2.0025 12.0875 0 9.14 0 6.65C0 2.915 2.85 0.5 6 0.5Z\" data-v-5f800d81=\"\" fill=\"#8B8C89\"></path></svg> Seoul </div></div></div><div class=\"left-part\" data-v-5f800d81=\"\"><div class=\"left-date\" data-v-5f800d81=\"\"> 28 - 30 </div><div class=\"left-month\" data-v-5f800d81=\"\"> Apr </div></div></div></a><a class=\"\" data-v-5f800d81=\"\" data-v-fedd7ba2=\"\" href=\"#/event/1322\"><div class=\"bg-white event-card-container\" data-v-5f800d81=\"\"><div class=\"right-part\" data-v-5f800d81=\"\"><div class=\"rs-event-overline\" data-v-5f800d81=\"\"> Boulder </div><div class=\"rs-event-name\" data-v-5f800d81=\"\"> IFSC Europe - Continental Youth Cup (B) - Kaunas (LTU) 2023 </div><div class=\"rs-event-foot\" data-v-5f800d81=\"\"><div class=\"foot-date\" data-v-5f800d81=\"\"><svg class=\"calendar-logo\" data-v-5f800d81=\"\" fill=\"none\" height=\"16\" viewbox=\"0 0 14 16\" width=\"14\" xmlns=\"http://www.w3.org/2000/svg\"><path d=\"M12.4 1.86364H11.725V1.18182C11.725 0.806818 11.4213 0.5 11.05 0.5C10.6788 0.5 10.375 0.806818 10.375 1.18182V1.86364H3.625V1.18182C3.625 0.806818 3.32125 0.5 2.95 0.5C2.57875 0.5 2.275 0.806818 2.275 1.18182V1.86364H1.6C0.8575 1.86364 0.25 2.47727 0.25 3.22727V14.1364C0.25 14.8864 0.8575 15.5 1.6 15.5H12.4C13.1425 15.5 13.75 14.8864 13.75 14.1364V3.22727C13.75 2.47727 13.1425 1.86364 12.4 1.86364ZM11.725 14.1364H2.275C1.90375 14.1364 1.6 13.8295 1.6 13.4545V5.27273H12.4V13.4545C12.4 13.8295 12.0963 14.1364 11.725 14.1364Z\" data-v-5f800d81=\"\" fill=\"#8B8C89\"></path><rect data-v-5f800d81=\"\" fill=\"#8B8C89\" height=\"3.75\" rx=\"1\" width=\"3.75\" x=\"7\" y=\"8.75\"></rect></svg> 28 Apr - 30 Apr </div><div class=\"foot-location\" data-v-5f800d81=\"\"><svg class=\"location-logo\" data-v-5f800d81=\"\" fill=\"none\" height=\"16\" viewbox=\"0 0 12 16\" width=\"12\" xmlns=\"http://www.w3.org/2000/svg\"><path d=\"M6 8C5.175 8 4.5 7.325 4.5 6.5C4.5 5.675 5.175 5 6 5C6.825 5 7.5 5.675 7.5 6.5C7.5 7.325 6.825 8 6 8ZM10.5 6.65C10.5 3.9275 8.5125 2 6 2C3.4875 2 1.5 3.9275 1.5 6.65C1.5 8.405 2.9625 10.73 6 13.505C9.0375 10.73 10.5 8.405 10.5 6.65ZM6 0.5C9.15 0.5 12 2.915 12 6.65C12 9.14 9.9975 12.0875 6 15.5C2.0025 12.0875 0 9.14 0 6.65C0 2.915 2.85 0.5 6 0.5Z\" data-v-5f800d81=\"\" fill=\"#8B8C89\"></path></svg> Kaunas </div></div></div><div class=\"left-part\" data-v-5f800d81=\"\"><div class=\"left-date\" data-v-5f800d81=\"\"> 28 - 30 </div><div class=\"left-month\" data-v-5f800d81=\"\"> Apr </div></div></div></a><a class=\"\" data-v-5f800d81=\"\" data-v-fedd7ba2=\"\" href=\"#/event/1323\"><div class=\"bg-white event-card-container\" data-v-5f800d81=\"\"><div class=\"right-part\" data-v-5f800d81=\"\"><div class=\"rs-event-overline\" data-v-5f800d81=\"\"> Boulder </div><div class=\"rs-event-name\" data-v-5f800d81=\"\"> IFSC Europe - Continental Youth Cup (B) - Graz (AUT) 2023 </div><div class=\"rs-event-foot\" data-v-5f800d81=\"\"><div class=\"foot-date\" data-v-5f800d81=\"\"><svg class=\"calendar-logo\" data-v-5f800d81=\"\" fill=\"none\" height=\"16\" viewbox=\"0 0 14 16\" width=\"14\" xmlns=\"http://www.w3.org/2000/svg\"><path d=\"M12.4 1.86364H11.725V1.18182C11.725 0.806818 11.4213 0.5 11.05 0.5C10.6788 0.5 10.375 0.806818 10.375 1.18182V1.86364H3.625V1.18182C3.625 0.806818 3.32125 0.5 2.95 0.5C2.57875 0.5 2.275 0.806818 2.275 1.18182V1.86364H1.6C0.8575 1.86364 0.25 2.47727 0.25 3.22727V14.1364C0.25 14.8864 0.8575 15.5 1.6 15.5H12.4C13.1425 15.5 13.75 14.8864 13.75 14.1364V3.22727C13.75 2.47727 13.1425 1.86364 12.4 1.86364ZM11.725 14.1364H2.275C1.90375 14.1364 1.6 13.8295 1.6 13.4545V5.27273H12.4V13.4545C12.4 13.8295 12.0963 14.1364 11.725 14.1364Z\" data-v-5f800d81=\"\" fill=\"#8B8C89\"></path><rect data-v-5f800d81=\"\" fill=\"#8B8C89\" height=\"3.75\" rx=\"1\" width=\"3.75\" x=\"7\" y=\"8.75\"></rect></svg> 5 May - 7 May </div><div class=\"foot-location\" data-v-5f800d81=\"\"><svg class=\"location-logo\" data-v-5f800d81=\"\" fill=\"none\" height=\"16\" viewbox=\"0 0 12 16\" width=\"12\" xmlns=\"http://www.w3.org/2000/svg\"><path d=\"M6 8C5.175 8 4.5 7.325 4.5 6.5C4.5 5.675 5.175 5 6 5C6.825 5 7.5 5.675 7.5 6.5C7.5 7.325 6.825 8 6 8ZM10.5 6.65C10.5 3.9275 8.5125 2 6 2C3.4875 2 1.5 3.9275 1.5 6.65C1.5 8.405 2.9625 10.73 6 13.505C9.0375 10.73 10.5 8.405 10.5 6.65ZM6 0.5C9.15 0.5 12 2.915 12 6.65C12 9.14 9.9975 12.0875 6 15.5C2.0025 12.0875 0 9.14 0 6.65C0 2.915 2.85 0.5 6 0.5Z\" data-v-5f800d81=\"\" fill=\"#8B8C89\"></path></svg> Graz </div></div></div><div class=\"left-part\" data-v-5f800d81=\"\"><div class=\"left-date\" data-v-5f800d81=\"\"> 5 - 7 </div><div class=\"left-month\" data-v-5f800d81=\"\"> May </div></div></div></a><a class=\"\" data-v-5f800d81=\"\" data-v-fedd7ba2=\"\" href=\"#/event/1293\"><div class=\"bg-white event-card-container\" data-v-5f800d81=\"\"><div class=\"right-part\" data-v-5f800d81=\"\"><div class=\"rs-event-overline\" data-v-5f800d81=\"\"> Speed </div><div class=\"rs-event-name\" data-v-5f800d81=\"\"> IFSC World Cup Jakarta 2023 </div><div class=\"rs-event-foot\" data-v-5f800d81=\"\"><div class=\"foot-date\" data-v-5f800d81=\"\"><svg class=\"calendar-logo\" data-v-5f800d81=\"\" fill=\"none\" height=\"16\" viewbox=\"0 0 14 16\" width=\"14\" xmlns=\"http://www.w3.org/2000/svg\"><path d=\"M12.4 1.86364H11.725V1.18182C11.725 0.806818 11.4213 0.5 11.05 0.5C10.6788 0.5 10.375 0.806818 10.375 1.18182V1.86364H3.625V1.18182C3.625 0.806818 3.32125 0.5 2.95 0.5C2.57875 0.5 2.275 0.806818 2.275 1.18182V1.86364H1.6C0.8575 1.86364 0.25 2.47727 0.25 3.22727V14.1364C0.25 14.8864 0.8575 15.5 1.6 15.5H12.4C13.1425 15.5 13.75 14.8864 13.75 14.1364V3.22727C13.75 2.47727 13.1425 1.86364 12.4 1.86364ZM11.725 14.1364H2.275C1.90375 14.1364 1.6 13.8295 1.6 13.4545V5.27273H12.4V13.4545C12.4 13.8295 12.0963 14.1364 11.725 14.1364Z\" data-v-5f800d81=\"\" fill=\"#8B8C89\"></path><rect data-v-5f800d81=\"\" fill=\"#8B8C89\" height=\"3.75\" rx=\"1\" width=\"3.75\" x=\"7\" y=\"8.75\"></rect></svg> 6 May - 7 May </div><div class=\"foot-location\" data-v-5f800d81=\"\"><svg class=\"location-logo\" data-v-5f800d81=\"\" fill=\"none\" height=\"16\" viewbox=\"0 0 12 16\" width=\"12\" xmlns=\"http://www.w3.org/2000/svg\"><path d=\"M6 8C5.175 8 4.5 7.325 4.5 6.5C4.5 5.675 5.175 5 6 5C6.825 5 7.5 5.675 7.5 6.5C7.5 7.325 6.825 8 6 8ZM10.5 6.65C10.5 3.9275 8.5125 2 6 2C3.4875 2 1.5 3.9275 1.5 6.65C1.5 8.405 2.9625 10.73 6 13.505C9.0375 10.73 10.5 8.405 10.5 6.65ZM6 0.5C9.15 0.5 12 2.915 12 6.65C12 9.14 9.9975 12.0875 6 15.5C2.0025 12.0875 0 9.14 0 6.65C0 2.915 2.85 0.5 6 0.5Z\" data-v-5f800d81=\"\" fill=\"#8B8C89\"></path></svg> Indonesia </div></div></div><div class=\"left-part\" data-v-5f800d81=\"\"><div class=\"left-date\" data-v-5f800d81=\"\"> 6 - 7 </div><div class=\"left-month\" data-v-5f800d81=\"\"> May </div></div></div></a><a class=\"\" data-v-5f800d81=\"\" data-v-fedd7ba2=\"\" href=\"#/event/1320\"><div class=\"bg-white event-card-container\" data-v-5f800d81=\"\"><div class=\"right-part\" data-v-5f800d81=\"\"><div class=\"rs-event-overline\" data-v-5f800d81=\"\"> Boulder • Speed </div><div class=\"rs-event-name\" data-v-5f800d81=\"\"> IFSC European Cup Liébana 2023 </div><div class=\"rs-event-foot\" data-v-5f800d81=\"\"><div class=\"foot-date\" data-v-5f800d81=\"\"><svg class=\"calendar-logo\" data-v-5f800d81=\"\" fill=\"none\" height=\"16\" viewbox=\"0 0 14 16\" width=\"14\" xmlns=\"http://www.w3.org/2000/svg\"><path d=\"M12.4 1.86364H11.725V1.18182C11.725 0.806818 11.4213 0.5 11.05 0.5C10.6788 0.5 10.375 0.806818 10.375 1.18182V1.86364H3.625V1.18182C3.625 0.806818 3.32125 0.5 2.95 0.5C2.57875 0.5 2.275 0.806818 2.275 1.18182V1.86364H1.6C0.8575 1.86364 0.25 2.47727 0.25 3.22727V14.1364C0.25 14.8864 0.8575 15.5 1.6 15.5H12.4C13.1425 15.5 13.75 14.8864 13.75 14.1364V3.22727C13.75 2.47727 13.1425 1.86364 12.4 1.86364ZM11.725 14.1364H2.275C1.90375 14.1364 1.6 13.8295 1.6 13.4545V5.27273H12.4V13.4545C12.4 13.8295 12.0963 14.1364 11.725 14.1364Z\" data-v-5f800d81=\"\" fill=\"#8B8C89\"></path><rect data-v-5f800d81=\"\" fill=\"#8B8C89\" height=\"3.75\" rx=\"1\" width=\"3.75\" x=\"7\" y=\"8.75\"></rect></svg> 12 May - 14 May </div><div class=\"foot-location\" data-v-5f800d81=\"\"><svg class=\"location-logo\" data-v-5f800d81=\"\" fill=\"none\" height=\"16\" viewbox=\"0 0 12 16\" width=\"12\" xmlns=\"http://www.w3.org/2000/svg\"><path d=\"M6 8C5.175 8 4.5 7.325 4.5 6.5C4.5 5.675 5.175 5 6 5C6.825 5 7.5 5.675 7.5 6.5C7.5 7.325 6.825 8 6 8ZM10.5 6.65C10.5 3.9275 8.5125 2 6 2C3.4875 2 1.5 3.9275 1.5 6.65C1.5 8.405 2.9625 10.73 6 13.505C9.0375 10.73 10.5 8.405 10.5 6.65ZM6 0.5C9.15 0.5 12 2.915 12 6.65C12 9.14 9.9975 12.0875 6 15.5C2.0025 12.0875 0 9.14 0 6.65C0 2.915 2.85 0.5 6 0.5Z\" data-v-5f800d81=\"\" fill=\"#8B8C89\"></path></svg> Liébana </div></div></div><div class=\"left-part\" data-v-5f800d81=\"\"><div class=\"left-date\" data-v-5f800d81=\"\"> 12 - 14 </div><div class=\"left-month\" data-v-5f800d81=\"\"> May </div></div></div></a><a class=\"\" data-v-5f800d81=\"\" data-v-fedd7ba2=\"\" href=\"#/event/1335\"><div class=\"bg-white event-card-container\" data-v-5f800d81=\"\"><div class=\"right-part\" data-v-5f800d81=\"\"><div class=\"rs-event-overline\" data-v-5f800d81=\"\"> Lead </div><div class=\"rs-event-name\" data-v-5f800d81=\"\"> IFSC Paraclimbing World Cup Salt Lake City 2023 </div><div class=\"rs-event-foot\" data-v-5f800d81=\"\"><div class=\"foot-date\" data-v-5f800d81=\"\"><svg class=\"calendar-logo\" data-v-5f800d81=\"\" fill=\"none\" height=\"16\" viewbox=\"0 0 14 16\" width=\"14\" xmlns=\"http://www.w3.org/2000/svg\"><path d=\"M12.4 1.86364H11.725V1.18182C11.725 0.806818 11.4213 0.5 11.05 0.5C10.6788 0.5 10.375 0.806818 10.375 1.18182V1.86364H3.625V1.18182C3.625 0.806818 3.32125 0.5 2.95 0.5C2.57875 0.5 2.275 0.806818 2.275 1.18182V1.86364H1.6C0.8575 1.86364 0.25 2.47727 0.25 3.22727V14.1364C0.25 14.8864 0.8575 15.5 1.6 15.5H12.4C13.1425 15.5 13.75 14.8864 13.75 14.1364V3.22727C13.75 2.47727 13.1425 1.86364 12.4 1.86364ZM11.725 14.1364H2.275C1.90375 14.1364 1.6 13.8295 1.6 13.4545V5.27273H12.4V13.4545C12.4 13.8295 12.0963 14.1364 11.725 14.1364Z\" data-v-5f800d81=\"\" fill=\"#8B8C89\"></path><rect data-v-5f800d81=\"\" fill=\"#8B8C89\" height=\"3.75\" rx=\"1\" width=\"3.75\" x=\"7\" y=\"8.75\"></rect></svg> 16 May - 17 May </div><div class=\"foot-location\" data-v-5f800d81=\"\"><svg class=\"location-logo\" data-v-5f800d81=\"\" fill=\"none\" height=\"16\" viewbox=\"0 0 12 16\" width=\"12\" xmlns=\"http://www.w3.org/2000/svg\"><path d=\"M6 8C5.175 8 4.5 7.325 4.5 6.5C4.5 5.675 5.175 5 6 5C6.825 5 7.5 5.675 7.5 6.5C7.5 7.325 6.825 8 6 8ZM10.5 6.65C10.5 3.9275 8.5125 2 6 2C3.4875 2 1.5 3.9275 1.5 6.65C1.5 8.405 2.9625 10.73 6 13.505C9.0375 10.73 10.5 8.405 10.5 6.65ZM6 0.5C9.15 0.5 12 2.915 12 6.65C12 9.14 9.9975 12.0875 6 15.5C2.0025 12.0875 0 9.14 0 6.65C0 2.915 2.85 0.5 6 0.5Z\" data-v-5f800d81=\"\" fill=\"#8B8C89\"></path></svg> Salt Lake City </div></div></div><div class=\"left-part\" data-v-5f800d81=\"\"><div class=\"left-date\" data-v-5f800d81=\"\"> 16 - 17 </div><div class=\"left-month\" data-v-5f800d81=\"\"> May </div></div></div></a><a class=\"\" data-v-5f800d81=\"\" data-v-fedd7ba2=\"\" href=\"#/event/1294\"><div class=\"bg-white event-card-container\" data-v-5f800d81=\"\"><div class=\"right-part\" data-v-5f800d81=\"\"><div class=\"rs-event-overline\" data-v-5f800d81=\"\"> Boulder • Speed </div><div class=\"rs-event-name\" data-v-5f800d81=\"\"> IFSC World Cup Salt Lake City 2023 </div><div class=\"rs-event-foot\" data-v-5f800d81=\"\"><div class=\"foot-date\" data-v-5f800d81=\"\"><svg class=\"calendar-logo\" data-v-5f800d81=\"\" fill=\"none\" height=\"16\" viewbox=\"0 0 14 16\" width=\"14\" xmlns=\"http://www.w3.org/2000/svg\"><path d=\"M12.4 1.86364H11.725V1.18182C11.725 0.806818 11.4213 0.5 11.05 0.5C10.6788 0.5 10.375 0.806818 10.375 1.18182V1.86364H3.625V1.18182C3.625 0.806818 3.32125 0.5 2.95 0.5C2.57875 0.5 2.275 0.806818 2.275 1.18182V1.86364H1.6C0.8575 1.86364 0.25 2.47727 0.25 3.22727V14.1364C0.25 14.8864 0.8575 15.5 1.6 15.5H12.4C13.1425 15.5 13.75 14.8864 13.75 14.1364V3.22727C13.75 2.47727 13.1425 1.86364 12.4 1.86364ZM11.725 14.1364H2.275C1.90375 14.1364 1.6 13.8295 1.6 13.4545V5.27273H12.4V13.4545C12.4 13.8295 12.0963 14.1364 11.725 14.1364Z\" data-v-5f800d81=\"\" fill=\"#8B8C89\"></path><rect data-v-5f800d81=\"\" fill=\"#8B8C89\" height=\"3.75\" rx=\"1\" width=\"3.75\" x=\"7\" y=\"8.75\"></rect></svg> 19 May - 21 May </div><div class=\"foot-location\" data-v-5f800d81=\"\"><svg class=\"location-logo\" data-v-5f800d81=\"\" fill=\"none\" height=\"16\" viewbox=\"0 0 12 16\" width=\"12\" xmlns=\"http://www.w3.org/2000/svg\"><path d=\"M6 8C5.175 8 4.5 7.325 4.5 6.5C4.5 5.675 5.175 5 6 5C6.825 5 7.5 5.675 7.5 6.5C7.5 7.325 6.825 8 6 8ZM10.5 6.65C10.5 3.9275 8.5125 2 6 2C3.4875 2 1.5 3.9275 1.5 6.65C1.5 8.405 2.9625 10.73 6 13.505C9.0375 10.73 10.5 8.405 10.5 6.65ZM6 0.5C9.15 0.5 12 2.915 12 6.65C12 9.14 9.9975 12.0875 6 15.5C2.0025 12.0875 0 9.14 0 6.65C0 2.915 2.85 0.5 6 0.5Z\" data-v-5f800d81=\"\" fill=\"#8B8C89\"></path></svg> Salt Lake City </div></div></div><div class=\"left-part\" data-v-5f800d81=\"\"><div class=\"left-date\" data-v-5f800d81=\"\"> 19 - 21 </div><div class=\"left-month\" data-v-5f800d81=\"\"> May </div></div></div></a><a class=\"\" data-v-5f800d81=\"\" data-v-fedd7ba2=\"\" href=\"#/event/1318\"><div class=\"bg-white event-card-container\" data-v-5f800d81=\"\"><div class=\"right-part\" data-v-5f800d81=\"\"><div class=\"rs-event-overline\" data-v-5f800d81=\"\"> Boulder </div><div class=\"rs-event-name\" data-v-5f800d81=\"\"> IFSC European Cup Loverval 2023 </div><div class=\"rs-event-foot\" data-v-5f800d81=\"\"><div class=\"foot-date\" data-v-5f800d81=\"\"><svg class=\"calendar-logo\" data-v-5f800d81=\"\" fill=\"none\" height=\"16\" viewbox=\"0 0 14 16\" width=\"14\" xmlns=\"http://www.w3.org/2000/svg\"><path d=\"M12.4 1.86364H11.725V1.18182C11.725 0.806818 11.4213 0.5 11.05 0.5C10.6788 0.5 10.375 0.806818 10.375 1.18182V1.86364H3.625V1.18182C3.625 0.806818 3.32125 0.5 2.95 0.5C2.57875 0.5 2.275 0.806818 2.275 1.18182V1.86364H1.6C0.8575 1.86364 0.25 2.47727 0.25 3.22727V14.1364C0.25 14.8864 0.8575 15.5 1.6 15.5H12.4C13.1425 15.5 13.75 14.8864 13.75 14.1364V3.22727C13.75 2.47727 13.1425 1.86364 12.4 1.86364ZM11.725 14.1364H2.275C1.90375 14.1364 1.6 13.8295 1.6 13.4545V5.27273H12.4V13.4545C12.4 13.8295 12.0963 14.1364 11.725 14.1364Z\" data-v-5f800d81=\"\" fill=\"#8B8C89\"></path><rect data-v-5f800d81=\"\" fill=\"#8B8C89\" height=\"3.75\" rx=\"1\" width=\"3.75\" x=\"7\" y=\"8.75\"></rect></svg> 27 May - 28 May </div><div class=\"foot-location\" data-v-5f800d81=\"\"><svg class=\"location-logo\" data-v-5f800d81=\"\" fill=\"none\" height=\"16\" viewbox=\"0 0 12 16\" width=\"12\" xmlns=\"http://www.w3.org/2000/svg\"><path d=\"M6 8C5.175 8 4.5 7.325 4.5 6.5C4.5 5.675 5.175 5 6 5C6.825 5 7.5 5.675 7.5 6.5C7.5 7.325 6.825 8 6 8ZM10.5 6.65C10.5 3.9275 8.5125 2 6 2C3.4875 2 1.5 3.9275 1.5 6.65C1.5 8.405 2.9625 10.73 6 13.505C9.0375 10.73 10.5 8.405 10.5 6.65ZM6 0.5C9.15 0.5 12 2.915 12 6.65C12 9.14 9.9975 12.0875 6 15.5C2.0025 12.0875 0 9.14 0 6.65C0 2.915 2.85 0.5 6 0.5Z\" data-v-5f800d81=\"\" fill=\"#8B8C89\"></path></svg> Loverval </div></div></div><div class=\"left-part\" data-v-5f800d81=\"\"><div class=\"left-date\" data-v-5f800d81=\"\"> 27 - 28 </div><div class=\"left-month\" data-v-5f800d81=\"\"> May </div></div></div></a><a class=\"\" data-v-5f800d81=\"\" data-v-fedd7ba2=\"\" href=\"#/event/1295\"><div class=\"bg-white event-card-container\" data-v-5f800d81=\"\"><div class=\"right-part\" data-v-5f800d81=\"\"><div class=\"rs-event-overline\" data-v-5f800d81=\"\"> Boulder </div><div class=\"rs-event-name\" data-v-5f800d81=\"\"> IFSC World Cup Prague 2023 </div><div class=\"rs-event-foot\" data-v-5f800d81=\"\"><div class=\"foot-date\" data-v-5f800d81=\"\"><svg class=\"calendar-logo\" data-v-5f800d81=\"\" fill=\"none\" height=\"16\" viewbox=\"0 0 14 16\" width=\"14\" xmlns=\"http://www.w3.org/2000/svg\"><path d=\"M12.4 1.86364H11.725V1.18182C11.725 0.806818 11.4213 0.5 11.05 0.5C10.6788 0.5 10.375 0.806818 10.375 1.18182V1.86364H3.625V1.18182C3.625 0.806818 3.32125 0.5 2.95 0.5C2.57875 0.5 2.275 0.806818 2.275 1.18182V1.86364H1.6C0.8575 1.86364 0.25 2.47727 0.25 3.22727V14.1364C0.25 14.8864 0.8575 15.5 1.6 15.5H12.4C13.1425 15.5 13.75 14.8864 13.75 14.1364V3.22727C13.75 2.47727 13.1425 1.86364 12.4 1.86364ZM11.725 14.1364H2.275C1.90375 14.1364 1.6 13.8295 1.6 13.4545V5.27273H12.4V13.4545C12.4 13.8295 12.0963 14.1364 11.725 14.1364Z\" data-v-5f800d81=\"\" fill=\"#8B8C89\"></path><rect data-v-5f800d81=\"\" fill=\"#8B8C89\" height=\"3.75\" rx=\"1\" width=\"3.75\" x=\"7\" y=\"8.75\"></rect></svg> 2 Jun - 4 Jun </div><div class=\"foot-location\" data-v-5f800d81=\"\"><svg class=\"location-logo\" data-v-5f800d81=\"\" fill=\"none\" height=\"16\" viewbox=\"0 0 12 16\" width=\"12\" xmlns=\"http://www.w3.org/2000/svg\"><path d=\"M6 8C5.175 8 4.5 7.325 4.5 6.5C4.5 5.675 5.175 5 6 5C6.825 5 7.5 5.675 7.5 6.5C7.5 7.325 6.825 8 6 8ZM10.5 6.65C10.5 3.9275 8.5125 2 6 2C3.4875 2 1.5 3.9275 1.5 6.65C1.5 8.405 2.9625 10.73 6 13.505C9.0375 10.73 10.5 8.405 10.5 6.65ZM6 0.5C9.15 0.5 12 2.915 12 6.65C12 9.14 9.9975 12.0875 6 15.5C2.0025 12.0875 0 9.14 0 6.65C0 2.915 2.85 0.5 6 0.5Z\" data-v-5f800d81=\"\" fill=\"#8B8C89\"></path></svg> Prague </div></div></div><div class=\"left-part\" data-v-5f800d81=\"\"><div class=\"left-date\" data-v-5f800d81=\"\"> 2 - 4 </div><div class=\"left-month\" data-v-5f800d81=\"\"> Jun </div></div></div></a><a class=\"\" data-v-5f800d81=\"\" data-v-fedd7ba2=\"\" href=\"#/event/1329\"><div class=\"bg-white event-card-container\" data-v-5f800d81=\"\"><div class=\"right-part\" data-v-5f800d81=\"\"><div class=\"rs-event-overline\" data-v-5f800d81=\"\"> Boulder • Speed </div><div class=\"rs-event-name\" data-v-5f800d81=\"\"> IFSC Europe - Continental Youth Championship (B,S) - Duisburg (GER) 2023 </div><div class=\"rs-event-foot\" data-v-5f800d81=\"\"><div class=\"foot-date\" data-v-5f800d81=\"\"><svg class=\"calendar-logo\" data-v-5f800d81=\"\" fill=\"none\" height=\"16\" viewbox=\"0 0 14 16\" width=\"14\" xmlns=\"http://www.w3.org/2000/svg\"><path d=\"M12.4 1.86364H11.725V1.18182C11.725 0.806818 11.4213 0.5 11.05 0.5C10.6788 0.5 10.375 0.806818 10.375 1.18182V1.86364H3.625V1.18182C3.625 0.806818 3.32125 0.5 2.95 0.5C2.57875 0.5 2.275 0.806818 2.275 1.18182V1.86364H1.6C0.8575 1.86364 0.25 2.47727 0.25 3.22727V14.1364C0.25 14.8864 0.8575 15.5 1.6 15.5H12.4C13.1425 15.5 13.75 14.8864 13.75 14.1364V3.22727C13.75 2.47727 13.1425 1.86364 12.4 1.86364ZM11.725 14.1364H2.275C1.90375 14.1364 1.6 13.8295 1.6 13.4545V5.27273H12.4V13.4545C12.4 13.8295 12.0963 14.1364 11.725 14.1364Z\" data-v-5f800d81=\"\" fill=\"#8B8C89\"></path><rect data-v-5f800d81=\"\" fill=\"#8B8C89\" height=\"3.75\" rx=\"1\" width=\"3.75\" x=\"7\" y=\"8.75\"></rect></svg> 8 Jun - 11 Jun </div><div class=\"foot-location\" data-v-5f800d81=\"\"><svg class=\"location-logo\" data-v-5f800d81=\"\" fill=\"none\" height=\"16\" viewbox=\"0 0 12 16\" width=\"12\" xmlns=\"http://www.w3.org/2000/svg\"><path d=\"M6 8C5.175 8 4.5 7.325 4.5 6.5C4.5 5.675 5.175 5 6 5C6.825 5 7.5 5.675 7.5 6.5C7.5 7.325 6.825 8 6 8ZM10.5 6.65C10.5 3.9275 8.5125 2 6 2C3.4875 2 1.5 3.9275 1.5 6.65C1.5 8.405 2.9625 10.73 6 13.505C9.0375 10.73 10.5 8.405 10.5 6.65ZM6 0.5C9.15 0.5 12 2.915 12 6.65C12 9.14 9.9975 12.0875 6 15.5C2.0025 12.0875 0 9.14 0 6.65C0 2.915 2.85 0.5 6 0.5Z\" data-v-5f800d81=\"\" fill=\"#8B8C89\"></path></svg> Duisburg </div></div></div><div class=\"left-part\" data-v-5f800d81=\"\"><div class=\"left-date\" data-v-5f800d81=\"\"> 8 - 11 </div><div class=\"left-month\" data-v-5f800d81=\"\"> Jun </div></div></div></a><a class=\"\" data-v-5f800d81=\"\" data-v-fedd7ba2=\"\" href=\"#/event/1296\"><div class=\"bg-white event-card-container\" data-v-5f800d81=\"\"><div class=\"right-part\" data-v-5f800d81=\"\"><div class=\"rs-event-overline\" data-v-5f800d81=\"\"> Boulder </div><div class=\"rs-event-name\" data-v-5f800d81=\"\"> IFSC World Cup Brixen 2023 </div><div class=\"rs-event-foot\" data-v-5f800d81=\"\"><div class=\"foot-date\" data-v-5f800d81=\"\"><svg class=\"calendar-logo\" data-v-5f800d81=\"\" fill=\"none\" height=\"16\" viewbox=\"0 0 14 16\" width=\"14\" xmlns=\"http://www.w3.org/2000/svg\"><path d=\"M12.4 1.86364H11.725V1.18182C11.725 0.806818 11.4213 0.5 11.05 0.5C10.6788 0.5 10.375 0.806818 10.375 1.18182V1.86364H3.625V1.18182C3.625 0.806818 3.32125 0.5 2.95 0.5C2.57875 0.5 2.275 0.806818 2.275 1.18182V1.86364H1.6C0.8575 1.86364 0.25 2.47727 0.25 3.22727V14.1364C0.25 14.8864 0.8575 15.5 1.6 15.5H12.4C13.1425 15.5 13.75 14.8864 13.75 14.1364V3.22727C13.75 2.47727 13.1425 1.86364 12.4 1.86364ZM11.725 14.1364H2.275C1.90375 14.1364 1.6 13.8295 1.6 13.4545V5.27273H12.4V13.4545C12.4 13.8295 12.0963 14.1364 11.725 14.1364Z\" data-v-5f800d81=\"\" fill=\"#8B8C89\"></path><rect data-v-5f800d81=\"\" fill=\"#8B8C89\" height=\"3.75\" rx=\"1\" width=\"3.75\" x=\"7\" y=\"8.75\"></rect></svg> 9 Jun - 11 Jun </div><div class=\"foot-location\" data-v-5f800d81=\"\"><svg class=\"location-logo\" data-v-5f800d81=\"\" fill=\"none\" height=\"16\" viewbox=\"0 0 12 16\" width=\"12\" xmlns=\"http://www.w3.org/2000/svg\"><path d=\"M6 8C5.175 8 4.5 7.325 4.5 6.5C4.5 5.675 5.175 5 6 5C6.825 5 7.5 5.675 7.5 6.5C7.5 7.325 6.825 8 6 8ZM10.5 6.65C10.5 3.9275 8.5125 2 6 2C3.4875 2 1.5 3.9275 1.5 6.65C1.5 8.405 2.9625 10.73 6 13.505C9.0375 10.73 10.5 8.405 10.5 6.65ZM6 0.5C9.15 0.5 12 2.915 12 6.65C12 9.14 9.9975 12.0875 6 15.5C2.0025 12.0875 0 9.14 0 6.65C0 2.915 2.85 0.5 6 0.5Z\" data-v-5f800d81=\"\" fill=\"#8B8C89\"></path></svg> Brixen </div></div></div><div class=\"left-part\" data-v-5f800d81=\"\"><div class=\"left-date\" data-v-5f800d81=\"\"> 9 - 11 </div><div class=\"left-month\" data-v-5f800d81=\"\"> Jun </div></div></div></a><a class=\"\" data-v-5f800d81=\"\" data-v-fedd7ba2=\"\" href=\"#/event/1325\"><div class=\"bg-white event-card-container\" data-v-5f800d81=\"\"><div class=\"right-part\" data-v-5f800d81=\"\"><div class=\"rs-event-overline\" data-v-5f800d81=\"\"> Speed </div><div class=\"rs-event-name\" data-v-5f800d81=\"\"> IFSC European Cup Innsbruck 2023 </div><div class=\"rs-event-foot\" data-v-5f800d81=\"\"><div class=\"foot-date\" data-v-5f800d81=\"\"><svg class=\"calendar-logo\" data-v-5f800d81=\"\" fill=\"none\" height=\"16\" viewbox=\"0 0 14 16\" width=\"14\" xmlns=\"http://www.w3.org/2000/svg\"><path d=\"M12.4 1.86364H11.725V1.18182C11.725 0.806818 11.4213 0.5 11.05 0.5C10.6788 0.5 10.375 0.806818 10.375 1.18182V1.86364H3.625V1.18182C3.625 0.806818 3.32125 0.5 2.95 0.5C2.57875 0.5 2.275 0.806818 2.275 1.18182V1.86364H1.6C0.8575 1.86364 0.25 2.47727 0.25 3.22727V14.1364C0.25 14.8864 0.8575 15.5 1.6 15.5H12.4C13.1425 15.5 13.75 14.8864 13.75 14.1364V3.22727C13.75 2.47727 13.1425 1.86364 12.4 1.86364ZM11.725 14.1364H2.275C1.90375 14.1364 1.6 13.8295 1.6 13.4545V5.27273H12.4V13.4545C12.4 13.8295 12.0963 14.1364 11.725 14.1364Z\" data-v-5f800d81=\"\" fill=\"#8B8C89\"></path><rect data-v-5f800d81=\"\" fill=\"#8B8C89\" height=\"3.75\" rx=\"1\" width=\"3.75\" x=\"7\" y=\"8.75\"></rect></svg> 12 Jun 2023 </div><div class=\"foot-location\" data-v-5f800d81=\"\"><svg class=\"location-logo\" data-v-5f800d81=\"\" fill=\"none\" height=\"16\" viewbox=\"0 0 12 16\" width=\"12\" xmlns=\"http://www.w3.org/2000/svg\"><path d=\"M6 8C5.175 8 4.5 7.325 4.5 6.5C4.5 5.675 5.175 5 6 5C6.825 5 7.5 5.675 7.5 6.5C7.5 7.325 6.825 8 6 8ZM10.5 6.65C10.5 3.9275 8.5125 2 6 2C3.4875 2 1.5 3.9275 1.5 6.65C1.5 8.405 2.9625 10.73 6 13.505C9.0375 10.73 10.5 8.405 10.5 6.65ZM6 0.5C9.15 0.5 12 2.915 12 6.65C12 9.14 9.9975 12.0875 6 15.5C2.0025 12.0875 0 9.14 0 6.65C0 2.915 2.85 0.5 6 0.5Z\" data-v-5f800d81=\"\" fill=\"#8B8C89\"></path></svg> Innsbruck </div></div></div><div class=\"left-part\" data-v-5f800d81=\"\"><div class=\"left-date\" data-v-5f800d81=\"\"> 12 </div><div class=\"left-month\" data-v-5f800d81=\"\"> Jun </div></div></div></a><a class=\"\" data-v-5f800d81=\"\" data-v-fedd7ba2=\"\" href=\"#/event/1337\"><div class=\"bg-white event-card-container\" data-v-5f800d81=\"\"><div class=\"right-part\" data-v-5f800d81=\"\"><div class=\"rs-event-overline\" data-v-5f800d81=\"\"> Lead </div><div class=\"rs-event-name\" data-v-5f800d81=\"\"> IFSC Paraclimbing World Cup Innsbruck 2023 </div><div class=\"rs-event-foot\" data-v-5f800d81=\"\"><div class=\"foot-date\" data-v-5f800d81=\"\"><svg class=\"calendar-logo\" data-v-5f800d81=\"\" fill=\"none\" height=\"16\" viewbox=\"0 0 14 16\" width=\"14\" xmlns=\"http://www.w3.org/2000/svg\"><path d=\"M12.4 1.86364H11.725V1.18182C11.725 0.806818 11.4213 0.5 11.05 0.5C10.6788 0.5 10.375 0.806818 10.375 1.18182V1.86364H3.625V1.18182C3.625 0.806818 3.32125 0.5 2.95 0.5C2.57875 0.5 2.275 0.806818 2.275 1.18182V1.86364H1.6C0.8575 1.86364 0.25 2.47727 0.25 3.22727V14.1364C0.25 14.8864 0.8575 15.5 1.6 15.5H12.4C13.1425 15.5 13.75 14.8864 13.75 14.1364V3.22727C13.75 2.47727 13.1425 1.86364 12.4 1.86364ZM11.725 14.1364H2.275C1.90375 14.1364 1.6 13.8295 1.6 13.4545V5.27273H12.4V13.4545C12.4 13.8295 12.0963 14.1364 11.725 14.1364Z\" data-v-5f800d81=\"\" fill=\"#8B8C89\"></path><rect data-v-5f800d81=\"\" fill=\"#8B8C89\" height=\"3.75\" rx=\"1\" width=\"3.75\" x=\"7\" y=\"8.75\"></rect></svg> 12 Jun - 13 Jun </div><div class=\"foot-location\" data-v-5f800d81=\"\"><svg class=\"location-logo\" data-v-5f800d81=\"\" fill=\"none\" height=\"16\" viewbox=\"0 0 12 16\" width=\"12\" xmlns=\"http://www.w3.org/2000/svg\"><path d=\"M6 8C5.175 8 4.5 7.325 4.5 6.5C4.5 5.675 5.175 5 6 5C6.825 5 7.5 5.675 7.5 6.5C7.5 7.325 6.825 8 6 8ZM10.5 6.65C10.5 3.9275 8.5125 2 6 2C3.4875 2 1.5 3.9275 1.5 6.65C1.5 8.405 2.9625 10.73 6 13.505C9.0375 10.73 10.5 8.405 10.5 6.65ZM6 0.5C9.15 0.5 12 2.915 12 6.65C12 9.14 9.9975 12.0875 6 15.5C2.0025 12.0875 0 9.14 0 6.65C0 2.915 2.85 0.5 6 0.5Z\" data-v-5f800d81=\"\" fill=\"#8B8C89\"></path></svg> Innsbruck </div></div></div><div class=\"left-part\" data-v-5f800d81=\"\"><div class=\"left-date\" data-v-5f800d81=\"\"> 12 - 13 </div><div class=\"left-month\" data-v-5f800d81=\"\"> Jun </div></div></div></a><a class=\"\" data-v-5f800d81=\"\" data-v-fedd7ba2=\"\" href=\"#/event/1297\"><div class=\"bg-white event-card-container\" data-v-5f800d81=\"\"><div class=\"right-part\" data-v-5f800d81=\"\"><div class=\"rs-event-overline\" data-v-5f800d81=\"\"> Boulder • Lead </div><div class=\"rs-event-name\" data-v-5f800d81=\"\"> IFSC World Cup Innsbruck 2023 </div><div class=\"rs-event-foot\" data-v-5f800d81=\"\"><div class=\"foot-date\" data-v-5f800d81=\"\"><svg class=\"calendar-logo\" data-v-5f800d81=\"\" fill=\"none\" height=\"16\" viewbox=\"0 0 14 16\" width=\"14\" xmlns=\"http://www.w3.org/2000/svg\"><path d=\"M12.4 1.86364H11.725V1.18182C11.725 0.806818 11.4213 0.5 11.05 0.5C10.6788 0.5 10.375 0.806818 10.375 1.18182V1.86364H3.625V1.18182C3.625 0.806818 3.32125 0.5 2.95 0.5C2.57875 0.5 2.275 0.806818 2.275 1.18182V1.86364H1.6C0.8575 1.86364 0.25 2.47727 0.25 3.22727V14.1364C0.25 14.8864 0.8575 15.5 1.6 15.5H12.4C13.1425 15.5 13.75 14.8864 13.75 14.1364V3.22727C13.75 2.47727 13.1425 1.86364 12.4 1.86364ZM11.725 14.1364H2.275C1.90375 14.1364 1.6 13.8295 1.6 13.4545V5.27273H12.4V13.4545C12.4 13.8295 12.0963 14.1364 11.725 14.1364Z\" data-v-5f800d81=\"\" fill=\"#8B8C89\"></path><rect data-v-5f800d81=\"\" fill=\"#8B8C89\" height=\"3.75\" rx=\"1\" width=\"3.75\" x=\"7\" y=\"8.75\"></rect></svg> 14 Jun - 18 Jun </div><div class=\"foot-location\" data-v-5f800d81=\"\"><svg class=\"location-logo\" data-v-5f800d81=\"\" fill=\"none\" height=\"16\" viewbox=\"0 0 12 16\" width=\"12\" xmlns=\"http://www.w3.org/2000/svg\"><path d=\"M6 8C5.175 8 4.5 7.325 4.5 6.5C4.5 5.675 5.175 5 6 5C6.825 5 7.5 5.675 7.5 6.5C7.5 7.325 6.825 8 6 8ZM10.5 6.65C10.5 3.9275 8.5125 2 6 2C3.4875 2 1.5 3.9275 1.5 6.65C1.5 8.405 2.9625 10.73 6 13.505C9.0375 10.73 10.5 8.405 10.5 6.65ZM6 0.5C9.15 0.5 12 2.915 12 6.65C12 9.14 9.9975 12.0875 6 15.5C2.0025 12.0875 0 9.14 0 6.65C0 2.915 2.85 0.5 6 0.5Z\" data-v-5f800d81=\"\" fill=\"#8B8C89\"></path></svg> Innsbruck </div></div></div><div class=\"left-part\" data-v-5f800d81=\"\"><div class=\"left-date\" data-v-5f800d81=\"\"> 14 - 18 </div><div class=\"left-month\" data-v-5f800d81=\"\"> Jun </div></div></div></a><a class=\"\" data-v-5f800d81=\"\" data-v-fedd7ba2=\"\" href=\"#/event/1326\"><div class=\"bg-white event-card-container\" data-v-5f800d81=\"\"><div class=\"right-part\" data-v-5f800d81=\"\"><div class=\"rs-event-overline\" data-v-5f800d81=\"\"> Lead </div><div class=\"rs-event-name\" data-v-5f800d81=\"\"> IFSC Europe - Continental Youth Cup (L) - Niederwangen (SUI) 2023 </div><div class=\"rs-event-foot\" data-v-5f800d81=\"\"><div class=\"foot-date\" data-v-5f800d81=\"\"><svg class=\"calendar-logo\" data-v-5f800d81=\"\" fill=\"none\" height=\"16\" viewbox=\"0 0 14 16\" width=\"14\" xmlns=\"http://www.w3.org/2000/svg\"><path d=\"M12.4 1.86364H11.725V1.18182C11.725 0.806818 11.4213 0.5 11.05 0.5C10.6788 0.5 10.375 0.806818 10.375 1.18182V1.86364H3.625V1.18182C3.625 0.806818 3.32125 0.5 2.95 0.5C2.57875 0.5 2.275 0.806818 2.275 1.18182V1.86364H1.6C0.8575 1.86364 0.25 2.47727 0.25 3.22727V14.1364C0.25 14.8864 0.8575 15.5 1.6 15.5H12.4C13.1425 15.5 13.75 14.8864 13.75 14.1364V3.22727C13.75 2.47727 13.1425 1.86364 12.4 1.86364ZM11.725 14.1364H2.275C1.90375 14.1364 1.6 13.8295 1.6 13.4545V5.27273H12.4V13.4545C12.4 13.8295 12.0963 14.1364 11.725 14.1364Z\" data-v-5f800d81=\"\" fill=\"#8B8C89\"></path><rect data-v-5f800d81=\"\" fill=\"#8B8C89\" height=\"3.75\" rx=\"1\" width=\"3.75\" x=\"7\" y=\"8.75\"></rect></svg> 17 Jun - 18 Jun </div><div class=\"foot-location\" data-v-5f800d81=\"\"><svg class=\"location-logo\" data-v-5f800d81=\"\" fill=\"none\" height=\"16\" viewbox=\"0 0 12 16\" width=\"12\" xmlns=\"http://www.w3.org/2000/svg\"><path d=\"M6 8C5.175 8 4.5 7.325 4.5 6.5C4.5 5.675 5.175 5 6 5C6.825 5 7.5 5.675 7.5 6.5C7.5 7.325 6.825 8 6 8ZM10.5 6.65C10.5 3.9275 8.5125 2 6 2C3.4875 2 1.5 3.9275 1.5 6.65C1.5 8.405 2.9625 10.73 6 13.505C9.0375 10.73 10.5 8.405 10.5 6.65ZM6 0.5C9.15 0.5 12 2.915 12 6.65C12 9.14 9.9975 12.0875 6 15.5C2.0025 12.0875 0 9.14 0 6.65C0 2.915 2.85 0.5 6 0.5Z\" data-v-5f800d81=\"\" fill=\"#8B8C89\"></path></svg> Niederwangen </div></div></div><div class=\"left-part\" data-v-5f800d81=\"\"><div class=\"left-date\" data-v-5f800d81=\"\"> 17 - 18 </div><div class=\"left-month\" data-v-5f800d81=\"\"> Jun </div></div></div></a><a class=\"\" data-v-5f800d81=\"\" data-v-fedd7ba2=\"\" href=\"#/event/1305\"><div class=\"bg-white event-card-container\" data-v-5f800d81=\"\"><div class=\"right-part\" data-v-5f800d81=\"\"><div class=\"rs-event-overline\" data-v-5f800d81=\"\"> Boulder • Lead • Speed </div><div class=\"rs-event-name\" data-v-5f800d81=\"\"> European Games Krakow-Malopolska 2023 </div><div class=\"rs-event-foot\" data-v-5f800d81=\"\"><div class=\"foot-date\" data-v-5f800d81=\"\"><svg class=\"calendar-logo\" data-v-5f800d81=\"\" fill=\"none\" height=\"16\" viewbox=\"0 0 14 16\" width=\"14\" xmlns=\"http://www.w3.org/2000/svg\"><path d=\"M12.4 1.86364H11.725V1.18182C11.725 0.806818 11.4213 0.5 11.05 0.5C10.6788 0.5 10.375 0.806818 10.375 1.18182V1.86364H3.625V1.18182C3.625 0.806818 3.32125 0.5 2.95 0.5C2.57875 0.5 2.275 0.806818 2.275 1.18182V1.86364H1.6C0.8575 1.86364 0.25 2.47727 0.25 3.22727V14.1364C0.25 14.8864 0.8575 15.5 1.6 15.5H12.4C13.1425 15.5 13.75 14.8864 13.75 14.1364V3.22727C13.75 2.47727 13.1425 1.86364 12.4 1.86364ZM11.725 14.1364H2.275C1.90375 14.1364 1.6 13.8295 1.6 13.4545V5.27273H12.4V13.4545C12.4 13.8295 12.0963 14.1364 11.725 14.1364Z\" data-v-5f800d81=\"\" fill=\"#8B8C89\"></path><rect data-v-5f800d81=\"\" fill=\"#8B8C89\" height=\"3.75\" rx=\"1\" width=\"3.75\" x=\"7\" y=\"8.75\"></rect></svg> 21 Jun - 2 Jul </div><div class=\"foot-location\" data-v-5f800d81=\"\"><svg class=\"location-logo\" data-v-5f800d81=\"\" fill=\"none\" height=\"16\" viewbox=\"0 0 12 16\" width=\"12\" xmlns=\"http://www.w3.org/2000/svg\"><path d=\"M6 8C5.175 8 4.5 7.325 4.5 6.5C4.5 5.675 5.175 5 6 5C6.825 5 7.5 5.675 7.5 6.5C7.5 7.325 6.825 8 6 8ZM10.5 6.65C10.5 3.9275 8.5125 2 6 2C3.4875 2 1.5 3.9275 1.5 6.65C1.5 8.405 2.9625 10.73 6 13.505C9.0375 10.73 10.5 8.405 10.5 6.65ZM6 0.5C9.15 0.5 12 2.915 12 6.65C12 9.14 9.9975 12.0875 6 15.5C2.0025 12.0875 0 9.14 0 6.65C0 2.915 2.85 0.5 6 0.5Z\" data-v-5f800d81=\"\" fill=\"#8B8C89\"></path></svg> Tarnow </div></div></div><div class=\"left-part\" data-v-5f800d81=\"\"><div class=\"left-date\" data-v-5f800d81=\"\"> 21 - 2 </div><div class=\"left-month\" data-v-5f800d81=\"\"> Jun - Jul </div></div></div></a><a class=\"\" data-v-5f800d81=\"\" data-v-fedd7ba2=\"\" href=\"#/event/1341\"><div class=\"bg-white event-card-container\" data-v-5f800d81=\"\"><div class=\"right-part\" data-v-5f800d81=\"\"><div class=\"rs-event-overline\" data-v-5f800d81=\"\"> Lead </div><div class=\"rs-event-name\" data-v-5f800d81=\"\"> IFSC Paraclimbing World Cup Villars 2023 </div><div class=\"rs-event-foot\" data-v-5f800d81=\"\"><div class=\"foot-date\" data-v-5f800d81=\"\"><svg class=\"calendar-logo\" data-v-5f800d81=\"\" fill=\"none\" height=\"16\" viewbox=\"0 0 14 16\" width=\"14\" xmlns=\"http://www.w3.org/2000/svg\"><path d=\"M12.4 1.86364H11.725V1.18182C11.725 0.806818 11.4213 0.5 11.05 0.5C10.6788 0.5 10.375 0.806818 10.375 1.18182V1.86364H3.625V1.18182C3.625 0.806818 3.32125 0.5 2.95 0.5C2.57875 0.5 2.275 0.806818 2.275 1.18182V1.86364H1.6C0.8575 1.86364 0.25 2.47727 0.25 3.22727V14.1364C0.25 14.8864 0.8575 15.5 1.6 15.5H12.4C13.1425 15.5 13.75 14.8864 13.75 14.1364V3.22727C13.75 2.47727 13.1425 1.86364 12.4 1.86364ZM11.725 14.1364H2.275C1.90375 14.1364 1.6 13.8295 1.6 13.4545V5.27273H12.4V13.4545C12.4 13.8295 12.0963 14.1364 11.725 14.1364Z\" data-v-5f800d81=\"\" fill=\"#8B8C89\"></path><rect data-v-5f800d81=\"\" fill=\"#8B8C89\" height=\"3.75\" rx=\"1\" width=\"3.75\" x=\"7\" y=\"8.75\"></rect></svg> 23 Jun - 24 Jun </div><div class=\"foot-location\" data-v-5f800d81=\"\"><svg class=\"location-logo\" data-v-5f800d81=\"\" fill=\"none\" height=\"16\" viewbox=\"0 0 12 16\" width=\"12\" xmlns=\"http://www.w3.org/2000/svg\"><path d=\"M6 8C5.175 8 4.5 7.325 4.5 6.5C4.5 5.675 5.175 5 6 5C6.825 5 7.5 5.675 7.5 6.5C7.5 7.325 6.825 8 6 8ZM10.5 6.65C10.5 3.9275 8.5125 2 6 2C3.4875 2 1.5 3.9275 1.5 6.65C1.5 8.405 2.9625 10.73 6 13.505C9.0375 10.73 10.5 8.405 10.5 6.65ZM6 0.5C9.15 0.5 12 2.915 12 6.65C12 9.14 9.9975 12.0875 6 15.5C2.0025 12.0875 0 9.14 0 6.65C0 2.915 2.85 0.5 6 0.5Z\" data-v-5f800d81=\"\" fill=\"#8B8C89\"></path></svg> Villars-sur-Ollon </div></div></div><div class=\"left-part\" data-v-5f800d81=\"\"><div class=\"left-date\" data-v-5f800d81=\"\"> 23 - 24 </div><div class=\"left-month\" data-v-5f800d81=\"\"> Jun </div></div></div></a><a class=\"\" data-v-5f800d81=\"\" data-v-fedd7ba2=\"\" href=\"#/event/1327\"><div class=\"bg-white event-card-container\" data-v-5f800d81=\"\"><div class=\"right-part\" data-v-5f800d81=\"\"><div class=\"rs-event-overline\" data-v-5f800d81=\"\"> Lead </div><div class=\"rs-event-name\" data-v-5f800d81=\"\"> IFSC Europe - Continental Youth Cup (L) - St. Pierre en Faucigny (FRA) 2023 </div><div class=\"rs-event-foot\" data-v-5f800d81=\"\"><div class=\"foot-date\" data-v-5f800d81=\"\"><svg class=\"calendar-logo\" data-v-5f800d81=\"\" fill=\"none\" height=\"16\" viewbox=\"0 0 14 16\" width=\"14\" xmlns=\"http://www.w3.org/2000/svg\"><path d=\"M12.4 1.86364H11.725V1.18182C11.725 0.806818 11.4213 0.5 11.05 0.5C10.6788 0.5 10.375 0.806818 10.375 1.18182V1.86364H3.625V1.18182C3.625 0.806818 3.32125 0.5 2.95 0.5C2.57875 0.5 2.275 0.806818 2.275 1.18182V1.86364H1.6C0.8575 1.86364 0.25 2.47727 0.25 3.22727V14.1364C0.25 14.8864 0.8575 15.5 1.6 15.5H12.4C13.1425 15.5 13.75 14.8864 13.75 14.1364V3.22727C13.75 2.47727 13.1425 1.86364 12.4 1.86364ZM11.725 14.1364H2.275C1.90375 14.1364 1.6 13.8295 1.6 13.4545V5.27273H12.4V13.4545C12.4 13.8295 12.0963 14.1364 11.725 14.1364Z\" data-v-5f800d81=\"\" fill=\"#8B8C89\"></path><rect data-v-5f800d81=\"\" fill=\"#8B8C89\" height=\"3.75\" rx=\"1\" width=\"3.75\" x=\"7\" y=\"8.75\"></rect></svg> 24 Jun - 25 Jun </div><div class=\"foot-location\" data-v-5f800d81=\"\"><svg class=\"location-logo\" data-v-5f800d81=\"\" fill=\"none\" height=\"16\" viewbox=\"0 0 12 16\" width=\"12\" xmlns=\"http://www.w3.org/2000/svg\"><path d=\"M6 8C5.175 8 4.5 7.325 4.5 6.5C4.5 5.675 5.175 5 6 5C6.825 5 7.5 5.675 7.5 6.5C7.5 7.325 6.825 8 6 8ZM10.5 6.65C10.5 3.9275 8.5125 2 6 2C3.4875 2 1.5 3.9275 1.5 6.65C1.5 8.405 2.9625 10.73 6 13.505C9.0375 10.73 10.5 8.405 10.5 6.65ZM6 0.5C9.15 0.5 12 2.915 12 6.65C12 9.14 9.9975 12.0875 6 15.5C2.0025 12.0875 0 9.14 0 6.65C0 2.915 2.85 0.5 6 0.5Z\" data-v-5f800d81=\"\" fill=\"#8B8C89\"></path></svg> St. Pierre en Faucigny </div></div></div><div class=\"left-part\" data-v-5f800d81=\"\"><div class=\"left-date\" data-v-5f800d81=\"\"> 24 - 25 </div><div class=\"left-month\" data-v-5f800d81=\"\"> Jun </div></div></div></a><a class=\"\" data-v-5f800d81=\"\" data-v-fedd7ba2=\"\" href=\"#/event/1298\"><div class=\"bg-white event-card-container\" data-v-5f800d81=\"\"><div class=\"right-part\" data-v-5f800d81=\"\"><div class=\"rs-event-overline\" data-v-5f800d81=\"\"> Lead • Speed </div><div class=\"rs-event-name\" data-v-5f800d81=\"\"> IFSC World Cup Villars 2023 </div><div class=\"rs-event-foot\" data-v-5f800d81=\"\"><div class=\"foot-date\" data-v-5f800d81=\"\"><svg class=\"calendar-logo\" data-v-5f800d81=\"\" fill=\"none\" height=\"16\" viewbox=\"0 0 14 16\" width=\"14\" xmlns=\"http://www.w3.org/2000/svg\"><path d=\"M12.4 1.86364H11.725V1.18182C11.725 0.806818 11.4213 0.5 11.05 0.5C10.6788 0.5 10.375 0.806818 10.375 1.18182V1.86364H3.625V1.18182C3.625 0.806818 3.32125 0.5 2.95 0.5C2.57875 0.5 2.275 0.806818 2.275 1.18182V1.86364H1.6C0.8575 1.86364 0.25 2.47727 0.25 3.22727V14.1364C0.25 14.8864 0.8575 15.5 1.6 15.5H12.4C13.1425 15.5 13.75 14.8864 13.75 14.1364V3.22727C13.75 2.47727 13.1425 1.86364 12.4 1.86364ZM11.725 14.1364H2.275C1.90375 14.1364 1.6 13.8295 1.6 13.4545V5.27273H12.4V13.4545C12.4 13.8295 12.0963 14.1364 11.725 14.1364Z\" data-v-5f800d81=\"\" fill=\"#8B8C89\"></path><rect data-v-5f800d81=\"\" fill=\"#8B8C89\" height=\"3.75\" rx=\"1\" width=\"3.75\" x=\"7\" y=\"8.75\"></rect></svg> 30 Jun - 2 Jul </div><div class=\"foot-location\" data-v-5f800d81=\"\"><svg class=\"location-logo\" data-v-5f800d81=\"\" fill=\"none\" height=\"16\" viewbox=\"0 0 12 16\" width=\"12\" xmlns=\"http://www.w3.org/2000/svg\"><path d=\"M6 8C5.175 8 4.5 7.325 4.5 6.5C4.5 5.675 5.175 5 6 5C6.825 5 7.5 5.675 7.5 6.5C7.5 7.325 6.825 8 6 8ZM10.5 6.65C10.5 3.9275 8.5125 2 6 2C3.4875 2 1.5 3.9275 1.5 6.65C1.5 8.405 2.9625 10.73 6 13.505C9.0375 10.73 10.5 8.405 10.5 6.65ZM6 0.5C9.15 0.5 12 2.915 12 6.65C12 9.14 9.9975 12.0875 6 15.5C2.0025 12.0875 0 9.14 0 6.65C0 2.915 2.85 0.5 6 0.5Z\" data-v-5f800d81=\"\" fill=\"#8B8C89\"></path></svg> Villars-sur-Ollon </div></div></div><div class=\"left-part\" data-v-5f800d81=\"\"><div class=\"left-date\" data-v-5f800d81=\"\"> 30 - 2 </div><div class=\"left-month\" data-v-5f800d81=\"\"> Jun - Jul </div></div></div></a><a class=\"\" data-v-5f800d81=\"\" data-v-fedd7ba2=\"\" href=\"#/event/1328\"><div class=\"bg-white event-card-container\" data-v-5f800d81=\"\"><div class=\"right-part\" data-v-5f800d81=\"\"><div class=\"rs-event-overline\" data-v-5f800d81=\"\"> Lead • Speed </div><div class=\"rs-event-name\" data-v-5f800d81=\"\"> IFSC Europe - Continental Youth Cup (L,S) - Imst (AUT) 2023 </div><div class=\"rs-event-foot\" data-v-5f800d81=\"\"><div class=\"foot-date\" data-v-5f800d81=\"\"><svg class=\"calendar-logo\" data-v-5f800d81=\"\" fill=\"none\" height=\"16\" viewbox=\"0 0 14 16\" width=\"14\" xmlns=\"http://www.w3.org/2000/svg\"><path d=\"M12.4 1.86364H11.725V1.18182C11.725 0.806818 11.4213 0.5 11.05 0.5C10.6788 0.5 10.375 0.806818 10.375 1.18182V1.86364H3.625V1.18182C3.625 0.806818 3.32125 0.5 2.95 0.5C2.57875 0.5 2.275 0.806818 2.275 1.18182V1.86364H1.6C0.8575 1.86364 0.25 2.47727 0.25 3.22727V14.1364C0.25 14.8864 0.8575 15.5 1.6 15.5H12.4C13.1425 15.5 13.75 14.8864 13.75 14.1364V3.22727C13.75 2.47727 13.1425 1.86364 12.4 1.86364ZM11.725 14.1364H2.275C1.90375 14.1364 1.6 13.8295 1.6 13.4545V5.27273H12.4V13.4545C12.4 13.8295 12.0963 14.1364 11.725 14.1364Z\" data-v-5f800d81=\"\" fill=\"#8B8C89\"></path><rect data-v-5f800d81=\"\" fill=\"#8B8C89\" height=\"3.75\" rx=\"1\" width=\"3.75\" x=\"7\" y=\"8.75\"></rect></svg> 30 Jun - 2 Jul </div><div class=\"foot-location\" data-v-5f800d81=\"\"><svg class=\"location-logo\" data-v-5f800d81=\"\" fill=\"none\" height=\"16\" viewbox=\"0 0 12 16\" width=\"12\" xmlns=\"http://www.w3.org/2000/svg\"><path d=\"M6 8C5.175 8 4.5 7.325 4.5 6.5C4.5 5.675 5.175 5 6 5C6.825 5 7.5 5.675 7.5 6.5C7.5 7.325 6.825 8 6 8ZM10.5 6.65C10.5 3.9275 8.5125 2 6 2C3.4875 2 1.5 3.9275 1.5 6.65C1.5 8.405 2.9625 10.73 6 13.505C9.0375 10.73 10.5 8.405 10.5 6.65ZM6 0.5C9.15 0.5 12 2.915 12 6.65C12 9.14 9.9975 12.0875 6 15.5C2.0025 12.0875 0 9.14 0 6.65C0 2.915 2.85 0.5 6 0.5Z\" data-v-5f800d81=\"\" fill=\"#8B8C89\"></path></svg> Imst </div></div></div><div class=\"left-part\" data-v-5f800d81=\"\"><div class=\"left-date\" data-v-5f800d81=\"\"> 30 - 2 </div><div class=\"left-month\" data-v-5f800d81=\"\"> Jun - Jul </div></div></div></a><a class=\"\" data-v-5f800d81=\"\" data-v-fedd7ba2=\"\" href=\"#/event/1299\"><div class=\"bg-white event-card-container\" data-v-5f800d81=\"\"><div class=\"right-part\" data-v-5f800d81=\"\"><div class=\"rs-event-overline\" data-v-5f800d81=\"\"> Lead • Speed </div><div class=\"rs-event-name\" data-v-5f800d81=\"\"> IFSC World Cup Chamonix 2023 </div><div class=\"rs-event-foot\" data-v-5f800d81=\"\"><div class=\"foot-date\" data-v-5f800d81=\"\"><svg class=\"calendar-logo\" data-v-5f800d81=\"\" fill=\"none\" height=\"16\" viewbox=\"0 0 14 16\" width=\"14\" xmlns=\"http://www.w3.org/2000/svg\"><path d=\"M12.4 1.86364H11.725V1.18182C11.725 0.806818 11.4213 0.5 11.05 0.5C10.6788 0.5 10.375 0.806818 10.375 1.18182V1.86364H3.625V1.18182C3.625 0.806818 3.32125 0.5 2.95 0.5C2.57875 0.5 2.275 0.806818 2.275 1.18182V1.86364H1.6C0.8575 1.86364 0.25 2.47727 0.25 3.22727V14.1364C0.25 14.8864 0.8575 15.5 1.6 15.5H12.4C13.1425 15.5 13.75 14.8864 13.75 14.1364V3.22727C13.75 2.47727 13.1425 1.86364 12.4 1.86364ZM11.725 14.1364H2.275C1.90375 14.1364 1.6 13.8295 1.6 13.4545V5.27273H12.4V13.4545C12.4 13.8295 12.0963 14.1364 11.725 14.1364Z\" data-v-5f800d81=\"\" fill=\"#8B8C89\"></path><rect data-v-5f800d81=\"\" fill=\"#8B8C89\" height=\"3.75\" rx=\"1\" width=\"3.75\" x=\"7\" y=\"8.75\"></rect></svg> 7 Jul - 9 Jul </div><div class=\"foot-location\" data-v-5f800d81=\"\"><svg class=\"location-logo\" data-v-5f800d81=\"\" fill=\"none\" height=\"16\" viewbox=\"0 0 12 16\" width=\"12\" xmlns=\"http://www.w3.org/2000/svg\"><path d=\"M6 8C5.175 8 4.5 7.325 4.5 6.5C4.5 5.675 5.175 5 6 5C6.825 5 7.5 5.675 7.5 6.5C7.5 7.325 6.825 8 6 8ZM10.5 6.65C10.5 3.9275 8.5125 2 6 2C3.4875 2 1.5 3.9275 1.5 6.65C1.5 8.405 2.9625 10.73 6 13.505C9.0375 10.73 10.5 8.405 10.5 6.65ZM6 0.5C9.15 0.5 12 2.915 12 6.65C12 9.14 9.9975 12.0875 6 15.5C2.0025 12.0875 0 9.14 0 6.65C0 2.915 2.85 0.5 6 0.5Z\" data-v-5f800d81=\"\" fill=\"#8B8C89\"></path></svg> Chamonix </div></div></div><div class=\"left-part\" data-v-5f800d81=\"\"><div class=\"left-date\" data-v-5f800d81=\"\"> 7 - 9 </div><div class=\"left-month\" data-v-5f800d81=\"\"> Jul </div></div></div></a><a class=\"\" data-v-5f800d81=\"\" data-v-fedd7ba2=\"\" href=\"#/event/1342\"><div class=\"bg-white event-card-container\" data-v-5f800d81=\"\"><div class=\"right-part\" data-v-5f800d81=\"\"><div class=\"rs-event-overline\" data-v-5f800d81=\"\"> Speed </div><div class=\"rs-event-name\" data-v-5f800d81=\"\"> IFSC Asia - Continental Youth Cup (S) - Singapore (SGP) 2023 </div><div class=\"rs-event-foot\" data-v-5f800d81=\"\"><div class=\"foot-date\" data-v-5f800d81=\"\"><svg class=\"calendar-logo\" data-v-5f800d81=\"\" fill=\"none\" height=\"16\" viewbox=\"0 0 14 16\" width=\"14\" xmlns=\"http://www.w3.org/2000/svg\"><path d=\"M12.4 1.86364H11.725V1.18182C11.725 0.806818 11.4213 0.5 11.05 0.5C10.6788 0.5 10.375 0.806818 10.375 1.18182V1.86364H3.625V1.18182C3.625 0.806818 3.32125 0.5 2.95 0.5C2.57875 0.5 2.275 0.806818 2.275 1.18182V1.86364H1.6C0.8575 1.86364 0.25 2.47727 0.25 3.22727V14.1364C0.25 14.8864 0.8575 15.5 1.6 15.5H12.4C13.1425 15.5 13.75 14.8864 13.75 14.1364V3.22727C13.75 2.47727 13.1425 1.86364 12.4 1.86364ZM11.725 14.1364H2.275C1.90375 14.1364 1.6 13.8295 1.6 13.4545V5.27273H12.4V13.4545C12.4 13.8295 12.0963 14.1364 11.725 14.1364Z\" data-v-5f800d81=\"\" fill=\"#8B8C89\"></path><rect data-v-5f800d81=\"\" fill=\"#8B8C89\" height=\"3.75\" rx=\"1\" width=\"3.75\" x=\"7\" y=\"8.75\"></rect></svg> 8 Jul 2023 </div><div class=\"foot-location\" data-v-5f800d81=\"\"><svg class=\"location-logo\" data-v-5f800d81=\"\" fill=\"none\" height=\"16\" viewbox=\"0 0 12 16\" width=\"12\" xmlns=\"http://www.w3.org/2000/svg\"><path d=\"M6 8C5.175 8 4.5 7.325 4.5 6.5C4.5 5.675 5.175 5 6 5C6.825 5 7.5 5.675 7.5 6.5C7.5 7.325 6.825 8 6 8ZM10.5 6.65C10.5 3.9275 8.5125 2 6 2C3.4875 2 1.5 3.9275 1.5 6.65C1.5 8.405 2.9625 10.73 6 13.505C9.0375 10.73 10.5 8.405 10.5 6.65ZM6 0.5C9.15 0.5 12 2.915 12 6.65C12 9.14 9.9975 12.0875 6 15.5C2.0025 12.0875 0 9.14 0 6.65C0 2.915 2.85 0.5 6 0.5Z\" data-v-5f800d81=\"\" fill=\"#8B8C89\"></path></svg> Singapore </div></div></div><div class=\"left-part\" data-v-5f800d81=\"\"><div class=\"left-date\" data-v-5f800d81=\"\"> 8 </div><div class=\"left-month\" data-v-5f800d81=\"\"> Jul </div></div></div></a><a class=\"\" data-v-5f800d81=\"\" data-v-fedd7ba2=\"\" href=\"#/event/1300\"><div class=\"bg-white event-card-container\" data-v-5f800d81=\"\"><div class=\"right-part\" data-v-5f800d81=\"\"><div class=\"rs-event-overline\" data-v-5f800d81=\"\"> Lead </div><div class=\"rs-event-name\" data-v-5f800d81=\"\"> IFSC World Cup Briançon 2023 </div><div class=\"rs-event-foot\" data-v-5f800d81=\"\"><div class=\"foot-date\" data-v-5f800d81=\"\"><svg class=\"calendar-logo\" data-v-5f800d81=\"\" fill=\"none\" height=\"16\" viewbox=\"0 0 14 16\" width=\"14\" xmlns=\"http://www.w3.org/2000/svg\"><path d=\"M12.4 1.86364H11.725V1.18182C11.725 0.806818 11.4213 0.5 11.05 0.5C10.6788 0.5 10.375 0.806818 10.375 1.18182V1.86364H3.625V1.18182C3.625 0.806818 3.32125 0.5 2.95 0.5C2.57875 0.5 2.275 0.806818 2.275 1.18182V1.86364H1.6C0.8575 1.86364 0.25 2.47727 0.25 3.22727V14.1364C0.25 14.8864 0.8575 15.5 1.6 15.5H12.4C13.1425 15.5 13.75 14.8864 13.75 14.1364V3.22727C13.75 2.47727 13.1425 1.86364 12.4 1.86364ZM11.725 14.1364H2.275C1.90375 14.1364 1.6 13.8295 1.6 13.4545V5.27273H12.4V13.4545C12.4 13.8295 12.0963 14.1364 11.725 14.1364Z\" data-v-5f800d81=\"\" fill=\"#8B8C89\"></path><rect data-v-5f800d81=\"\" fill=\"#8B8C89\" height=\"3.75\" rx=\"1\" width=\"3.75\" x=\"7\" y=\"8.75\"></rect></svg> 14 Jul - 15 Jul </div><div class=\"foot-location\" data-v-5f800d81=\"\"><svg class=\"location-logo\" data-v-5f800d81=\"\" fill=\"none\" height=\"16\" viewbox=\"0 0 12 16\" width=\"12\" xmlns=\"http://www.w3.org/2000/svg\"><path d=\"M6 8C5.175 8 4.5 7.325 4.5 6.5C4.5 5.675 5.175 5 6 5C6.825 5 7.5 5.675 7.5 6.5C7.5 7.325 6.825 8 6 8ZM10.5 6.65C10.5 3.9275 8.5125 2 6 2C3.4875 2 1.5 3.9275 1.5 6.65C1.5 8.405 2.9625 10.73 6 13.505C9.0375 10.73 10.5 8.405 10.5 6.65ZM6 0.5C9.15 0.5 12 2.915 12 6.65C12 9.14 9.9975 12.0875 6 15.5C2.0025 12.0875 0 9.14 0 6.65C0 2.915 2.85 0.5 6 0.5Z\" data-v-5f800d81=\"\" fill=\"#8B8C89\"></path></svg> Briançon </div></div></div><div class=\"left-part\" data-v-5f800d81=\"\"><div class=\"left-date\" data-v-5f800d81=\"\"> 14 - 15 </div><div class=\"left-month\" data-v-5f800d81=\"\"> Jul </div></div></div></a><a class=\"\" data-v-5f800d81=\"\" data-v-fedd7ba2=\"\" href=\"#/event/1324\"><div class=\"bg-white event-card-container\" data-v-5f800d81=\"\"><div class=\"right-part\" data-v-5f800d81=\"\"><div class=\"rs-event-overline\" data-v-5f800d81=\"\"> Lead • Speed </div><div class=\"rs-event-name\" data-v-5f800d81=\"\"> IFSC European Cup Žilina 2023 </div><div class=\"rs-event-foot\" data-v-5f800d81=\"\"><div class=\"foot-date\" data-v-5f800d81=\"\"><svg class=\"calendar-logo\" data-v-5f800d81=\"\" fill=\"none\" height=\"16\" viewbox=\"0 0 14 16\" width=\"14\" xmlns=\"http://www.w3.org/2000/svg\"><path d=\"M12.4 1.86364H11.725V1.18182C11.725 0.806818 11.4213 0.5 11.05 0.5C10.6788 0.5 10.375 0.806818 10.375 1.18182V1.86364H3.625V1.18182C3.625 0.806818 3.32125 0.5 2.95 0.5C2.57875 0.5 2.275 0.806818 2.275 1.18182V1.86364H1.6C0.8575 1.86364 0.25 2.47727 0.25 3.22727V14.1364C0.25 14.8864 0.8575 15.5 1.6 15.5H12.4C13.1425 15.5 13.75 14.8864 13.75 14.1364V3.22727C13.75 2.47727 13.1425 1.86364 12.4 1.86364ZM11.725 14.1364H2.275C1.90375 14.1364 1.6 13.8295 1.6 13.4545V5.27273H12.4V13.4545C12.4 13.8295 12.0963 14.1364 11.725 14.1364Z\" data-v-5f800d81=\"\" fill=\"#8B8C89\"></path><rect data-v-5f800d81=\"\" fill=\"#8B8C89\" height=\"3.75\" rx=\"1\" width=\"3.75\" x=\"7\" y=\"8.75\"></rect></svg> 21 Jul - 22 Jul </div><div class=\"foot-location\" data-v-5f800d81=\"\"><svg class=\"location-logo\" data-v-5f800d81=\"\" fill=\"none\" height=\"16\" viewbox=\"0 0 12 16\" width=\"12\" xmlns=\"http://www.w3.org/2000/svg\"><path d=\"M6 8C5.175 8 4.5 7.325 4.5 6.5C4.5 5.675 5.175 5 6 5C6.825 5 7.5 5.675 7.5 6.5C7.5 7.325 6.825 8 6 8ZM10.5 6.65C10.5 3.9275 8.5125 2 6 2C3.4875 2 1.5 3.9275 1.5 6.65C1.5 8.405 2.9625 10.73 6 13.505C9.0375 10.73 10.5 8.405 10.5 6.65ZM6 0.5C9.15 0.5 12 2.915 12 6.65C12 9.14 9.9975 12.0875 6 15.5C2.0025 12.0875 0 9.14 0 6.65C0 2.915 2.85 0.5 6 0.5Z\" data-v-5f800d81=\"\" fill=\"#8B8C89\"></path></svg> Žilina </div></div></div><div class=\"left-part\" data-v-5f800d81=\"\"><div class=\"left-date\" data-v-5f800d81=\"\"> 21 - 22 </div><div class=\"left-month\" data-v-5f800d81=\"\"> Jul </div></div></div></a><a class=\"\" data-v-5f800d81=\"\" data-v-fedd7ba2=\"\" href=\"#/event/1301\"><div class=\"bg-white event-card-container\" data-v-5f800d81=\"\"><div class=\"right-part\" data-v-5f800d81=\"\"><div class=\"rs-event-overline\" data-v-5f800d81=\"\"> Boulder • Lead • Speed • Boulder&amp;Lead </div><div class=\"rs-event-name\" data-v-5f800d81=\"\"> IFSC World Championships Bern 2023 </div><div class=\"rs-event-foot\" data-v-5f800d81=\"\"><div class=\"foot-date\" data-v-5f800d81=\"\"><svg class=\"calendar-logo\" data-v-5f800d81=\"\" fill=\"none\" height=\"16\" viewbox=\"0 0 14 16\" width=\"14\" xmlns=\"http://www.w3.org/2000/svg\"><path d=\"M12.4 1.86364H11.725V1.18182C11.725 0.806818 11.4213 0.5 11.05 0.5C10.6788 0.5 10.375 0.806818 10.375 1.18182V1.86364H3.625V1.18182C3.625 0.806818 3.32125 0.5 2.95 0.5C2.57875 0.5 2.275 0.806818 2.275 1.18182V1.86364H1.6C0.8575 1.86364 0.25 2.47727 0.25 3.22727V14.1364C0.25 14.8864 0.8575 15.5 1.6 15.5H12.4C13.1425 15.5 13.75 14.8864 13.75 14.1364V3.22727C13.75 2.47727 13.1425 1.86364 12.4 1.86364ZM11.725 14.1364H2.275C1.90375 14.1364 1.6 13.8295 1.6 13.4545V5.27273H12.4V13.4545C12.4 13.8295 12.0963 14.1364 11.725 14.1364Z\" data-v-5f800d81=\"\" fill=\"#8B8C89\"></path><rect data-v-5f800d81=\"\" fill=\"#8B8C89\" height=\"3.75\" rx=\"1\" width=\"3.75\" x=\"7\" y=\"8.75\"></rect></svg> 1 Aug - 12 Aug </div><div class=\"foot-location\" data-v-5f800d81=\"\"><svg class=\"location-logo\" data-v-5f800d81=\"\" fill=\"none\" height=\"16\" viewbox=\"0 0 12 16\" width=\"12\" xmlns=\"http://www.w3.org/2000/svg\"><path d=\"M6 8C5.175 8 4.5 7.325 4.5 6.5C4.5 5.675 5.175 5 6 5C6.825 5 7.5 5.675 7.5 6.5C7.5 7.325 6.825 8 6 8ZM10.5 6.65C10.5 3.9275 8.5125 2 6 2C3.4875 2 1.5 3.9275 1.5 6.65C1.5 8.405 2.9625 10.73 6 13.505C9.0375 10.73 10.5 8.405 10.5 6.65ZM6 0.5C9.15 0.5 12 2.915 12 6.65C12 9.14 9.9975 12.0875 6 15.5C2.0025 12.0875 0 9.14 0 6.65C0 2.915 2.85 0.5 6 0.5Z\" data-v-5f800d81=\"\" fill=\"#8B8C89\"></path></svg> Bern </div></div></div><div class=\"left-part\" data-v-5f800d81=\"\"><div class=\"left-date\" data-v-5f800d81=\"\"> 1 - 12 </div><div class=\"left-month\" data-v-5f800d81=\"\"> Aug </div></div></div></a><a class=\"\" data-v-5f800d81=\"\" data-v-fedd7ba2=\"\" href=\"#/event/1338\"><div class=\"bg-white event-card-container\" data-v-5f800d81=\"\"><div class=\"right-part\" data-v-5f800d81=\"\"><div class=\"rs-event-overline\" data-v-5f800d81=\"\"> Lead </div><div class=\"rs-event-name\" data-v-5f800d81=\"\"> IFSC Paraclimbing World Championships Bern 2023 </div><div class=\"rs-event-foot\" data-v-5f800d81=\"\"><div class=\"foot-date\" data-v-5f800d81=\"\"><svg class=\"calendar-logo\" data-v-5f800d81=\"\" fill=\"none\" height=\"16\" viewbox=\"0 0 14 16\" width=\"14\" xmlns=\"http://www.w3.org/2000/svg\"><path d=\"M12.4 1.86364H11.725V1.18182C11.725 0.806818 11.4213 0.5 11.05 0.5C10.6788 0.5 10.375 0.806818 10.375 1.18182V1.86364H3.625V1.18182C3.625 0.806818 3.32125 0.5 2.95 0.5C2.57875 0.5 2.275 0.806818 2.275 1.18182V1.86364H1.6C0.8575 1.86364 0.25 2.47727 0.25 3.22727V14.1364C0.25 14.8864 0.8575 15.5 1.6 15.5H12.4C13.1425 15.5 13.75 14.8864 13.75 14.1364V3.22727C13.75 2.47727 13.1425 1.86364 12.4 1.86364ZM11.725 14.1364H2.275C1.90375 14.1364 1.6 13.8295 1.6 13.4545V5.27273H12.4V13.4545C12.4 13.8295 12.0963 14.1364 11.725 14.1364Z\" data-v-5f800d81=\"\" fill=\"#8B8C89\"></path><rect data-v-5f800d81=\"\" fill=\"#8B8C89\" height=\"3.75\" rx=\"1\" width=\"3.75\" x=\"7\" y=\"8.75\"></rect></svg> 8 Aug - 10 Aug </div><div class=\"foot-location\" data-v-5f800d81=\"\"><svg class=\"location-logo\" data-v-5f800d81=\"\" fill=\"none\" height=\"16\" viewbox=\"0 0 12 16\" width=\"12\" xmlns=\"http://www.w3.org/2000/svg\"><path d=\"M6 8C5.175 8 4.5 7.325 4.5 6.5C4.5 5.675 5.175 5 6 5C6.825 5 7.5 5.675 7.5 6.5C7.5 7.325 6.825 8 6 8ZM10.5 6.65C10.5 3.9275 8.5125 2 6 2C3.4875 2 1.5 3.9275 1.5 6.65C1.5 8.405 2.9625 10.73 6 13.505C9.0375 10.73 10.5 8.405 10.5 6.65ZM6 0.5C9.15 0.5 12 2.915 12 6.65C12 9.14 9.9975 12.0875 6 15.5C2.0025 12.0875 0 9.14 0 6.65C0 2.915 2.85 0.5 6 0.5Z\" data-v-5f800d81=\"\" fill=\"#8B8C89\"></path></svg> Bern </div></div></div><div class=\"left-part\" data-v-5f800d81=\"\"><div class=\"left-date\" data-v-5f800d81=\"\"> 8 - 10 </div><div class=\"left-month\" data-v-5f800d81=\"\"> Aug </div></div></div></a><a class=\"\" data-v-5f800d81=\"\" data-v-fedd7ba2=\"\" href=\"#/event/1304\"><div class=\"bg-white event-card-container\" data-v-5f800d81=\"\"><div class=\"right-part\" data-v-5f800d81=\"\"><div class=\"rs-event-overline\" data-v-5f800d81=\"\"> Boulder • Lead • Speed </div><div class=\"rs-event-name\" data-v-5f800d81=\"\"> IFSC Youth World Championships Seoul 2023 </div><div class=\"rs-event-foot\" data-v-5f800d81=\"\"><div class=\"foot-date\" data-v-5f800d81=\"\"><svg class=\"calendar-logo\" data-v-5f800d81=\"\" fill=\"none\" height=\"16\" viewbox=\"0 0 14 16\" width=\"14\" xmlns=\"http://www.w3.org/2000/svg\"><path d=\"M12.4 1.86364H11.725V1.18182C11.725 0.806818 11.4213 0.5 11.05 0.5C10.6788 0.5 10.375 0.806818 10.375 1.18182V1.86364H3.625V1.18182C3.625 0.806818 3.32125 0.5 2.95 0.5C2.57875 0.5 2.275 0.806818 2.275 1.18182V1.86364H1.6C0.8575 1.86364 0.25 2.47727 0.25 3.22727V14.1364C0.25 14.8864 0.8575 15.5 1.6 15.5H12.4C13.1425 15.5 13.75 14.8864 13.75 14.1364V3.22727C13.75 2.47727 13.1425 1.86364 12.4 1.86364ZM11.725 14.1364H2.275C1.90375 14.1364 1.6 13.8295 1.6 13.4545V5.27273H12.4V13.4545C12.4 13.8295 12.0963 14.1364 11.725 14.1364Z\" data-v-5f800d81=\"\" fill=\"#8B8C89\"></path><rect data-v-5f800d81=\"\" fill=\"#8B8C89\" height=\"3.75\" rx=\"1\" width=\"3.75\" x=\"7\" y=\"8.75\"></rect></svg> 18 Aug - 27 Aug </div><div class=\"foot-location\" data-v-5f800d81=\"\"><svg class=\"location-logo\" data-v-5f800d81=\"\" fill=\"none\" height=\"16\" viewbox=\"0 0 12 16\" width=\"12\" xmlns=\"http://www.w3.org/2000/svg\"><path d=\"M6 8C5.175 8 4.5 7.325 4.5 6.5C4.5 5.675 5.175 5 6 5C6.825 5 7.5 5.675 7.5 6.5C7.5 7.325 6.825 8 6 8ZM10.5 6.65C10.5 3.9275 8.5125 2 6 2C3.4875 2 1.5 3.9275 1.5 6.65C1.5 8.405 2.9625 10.73 6 13.505C9.0375 10.73 10.5 8.405 10.5 6.65ZM6 0.5C9.15 0.5 12 2.915 12 6.65C12 9.14 9.9975 12.0875 6 15.5C2.0025 12.0875 0 9.14 0 6.65C0 2.915 2.85 0.5 6 0.5Z\" data-v-5f800d81=\"\" fill=\"#8B8C89\"></path></svg> South Korea </div></div></div><div class=\"left-part\" data-v-5f800d81=\"\"><div class=\"left-date\" data-v-5f800d81=\"\"> 18 - 27 </div><div class=\"left-month\" data-v-5f800d81=\"\"> Aug </div></div></div></a><a class=\"\" data-v-5f800d81=\"\" data-v-fedd7ba2=\"\" href=\"#/event/1348\"><div class=\"bg-white event-card-container\" data-v-5f800d81=\"\"><div class=\"right-part\" data-v-5f800d81=\"\"><div class=\"rs-event-overline\" data-v-5f800d81=\"\"> </div><div class=\"rs-event-name\" data-v-5f800d81=\"\"> International Climbing Series - Rock Master - Arco (ITA) 2023 </div><div class=\"rs-event-foot\" data-v-5f800d81=\"\"><div class=\"foot-date\" data-v-5f800d81=\"\"><svg class=\"calendar-logo\" data-v-5f800d81=\"\" fill=\"none\" height=\"16\" viewbox=\"0 0 14 16\" width=\"14\" xmlns=\"http://www.w3.org/2000/svg\"><path d=\"M12.4 1.86364H11.725V1.18182C11.725 0.806818 11.4213 0.5 11.05 0.5C10.6788 0.5 10.375 0.806818 10.375 1.18182V1.86364H3.625V1.18182C3.625 0.806818 3.32125 0.5 2.95 0.5C2.57875 0.5 2.275 0.806818 2.275 1.18182V1.86364H1.6C0.8575 1.86364 0.25 2.47727 0.25 3.22727V14.1364C0.25 14.8864 0.8575 15.5 1.6 15.5H12.4C13.1425 15.5 13.75 14.8864 13.75 14.1364V3.22727C13.75 2.47727 13.1425 1.86364 12.4 1.86364ZM11.725 14.1364H2.275C1.90375 14.1364 1.6 13.8295 1.6 13.4545V5.27273H12.4V13.4545C12.4 13.8295 12.0963 14.1364 11.725 14.1364Z\" data-v-5f800d81=\"\" fill=\"#8B8C89\"></path><rect data-v-5f800d81=\"\" fill=\"#8B8C89\" height=\"3.75\" rx=\"1\" width=\"3.75\" x=\"7\" y=\"8.75\"></rect></svg> 1 Sep 2023 </div><div class=\"foot-location\" data-v-5f800d81=\"\"><svg class=\"location-logo\" data-v-5f800d81=\"\" fill=\"none\" height=\"16\" viewbox=\"0 0 12 16\" width=\"12\" xmlns=\"http://www.w3.org/2000/svg\"><path d=\"M6 8C5.175 8 4.5 7.325 4.5 6.5C4.5 5.675 5.175 5 6 5C6.825 5 7.5 5.675 7.5 6.5C7.5 7.325 6.825 8 6 8ZM10.5 6.65C10.5 3.9275 8.5125 2 6 2C3.4875 2 1.5 3.9275 1.5 6.65C1.5 8.405 2.9625 10.73 6 13.505C9.0375 10.73 10.5 8.405 10.5 6.65ZM6 0.5C9.15 0.5 12 2.915 12 6.65C12 9.14 9.9975 12.0875 6 15.5C2.0025 12.0875 0 9.14 0 6.65C0 2.915 2.85 0.5 6 0.5Z\" data-v-5f800d81=\"\" fill=\"#8B8C89\"></path></svg> Arco </div></div></div><div class=\"left-part\" data-v-5f800d81=\"\"><div class=\"left-date\" data-v-5f800d81=\"\"> 1 </div><div class=\"left-month\" data-v-5f800d81=\"\"> Sep </div></div></div></a><a class=\"\" data-v-5f800d81=\"\" data-v-fedd7ba2=\"\" href=\"#/event/1336\"><div class=\"bg-white event-card-container\" data-v-5f800d81=\"\"><div class=\"right-part\" data-v-5f800d81=\"\"><div class=\"rs-event-overline\" data-v-5f800d81=\"\"> Lead • Speed </div><div class=\"rs-event-name\" data-v-5f800d81=\"\"> IFSC European Cup Bologna 2023 </div><div class=\"rs-event-foot\" data-v-5f800d81=\"\"><div class=\"foot-date\" data-v-5f800d81=\"\"><svg class=\"calendar-logo\" data-v-5f800d81=\"\" fill=\"none\" height=\"16\" viewbox=\"0 0 14 16\" width=\"14\" xmlns=\"http://www.w3.org/2000/svg\"><path d=\"M12.4 1.86364H11.725V1.18182C11.725 0.806818 11.4213 0.5 11.05 0.5C10.6788 0.5 10.375 0.806818 10.375 1.18182V1.86364H3.625V1.18182C3.625 0.806818 3.32125 0.5 2.95 0.5C2.57875 0.5 2.275 0.806818 2.275 1.18182V1.86364H1.6C0.8575 1.86364 0.25 2.47727 0.25 3.22727V14.1364C0.25 14.8864 0.8575 15.5 1.6 15.5H12.4C13.1425 15.5 13.75 14.8864 13.75 14.1364V3.22727C13.75 2.47727 13.1425 1.86364 12.4 1.86364ZM11.725 14.1364H2.275C1.90375 14.1364 1.6 13.8295 1.6 13.4545V5.27273H12.4V13.4545C12.4 13.8295 12.0963 14.1364 11.725 14.1364Z\" data-v-5f800d81=\"\" fill=\"#8B8C89\"></path><rect data-v-5f800d81=\"\" fill=\"#8B8C89\" height=\"3.75\" rx=\"1\" width=\"3.75\" x=\"7\" y=\"8.75\"></rect></svg> 2 Sep - 3 Sep </div><div class=\"foot-location\" data-v-5f800d81=\"\"><svg class=\"location-logo\" data-v-5f800d81=\"\" fill=\"none\" height=\"16\" viewbox=\"0 0 12 16\" width=\"12\" xmlns=\"http://www.w3.org/2000/svg\"><path d=\"M6 8C5.175 8 4.5 7.325 4.5 6.5C4.5 5.675 5.175 5 6 5C6.825 5 7.5 5.675 7.5 6.5C7.5 7.325 6.825 8 6 8ZM10.5 6.65C10.5 3.9275 8.5125 2 6 2C3.4875 2 1.5 3.9275 1.5 6.65C1.5 8.405 2.9625 10.73 6 13.505C9.0375 10.73 10.5 8.405 10.5 6.65ZM6 0.5C9.15 0.5 12 2.915 12 6.65C12 9.14 9.9975 12.0875 6 15.5C2.0025 12.0875 0 9.14 0 6.65C0 2.915 2.85 0.5 6 0.5Z\" data-v-5f800d81=\"\" fill=\"#8B8C89\"></path></svg> Bologna </div></div></div><div class=\"left-part\" data-v-5f800d81=\"\"><div class=\"left-date\" data-v-5f800d81=\"\"> 2 - 3 </div><div class=\"left-month\" data-v-5f800d81=\"\"> Sep </div></div></div></a><a class=\"\" data-v-5f800d81=\"\" data-v-fedd7ba2=\"\" href=\"#/event/1345\"><div class=\"bg-white event-card-container\" data-v-5f800d81=\"\"><div class=\"right-part\" data-v-5f800d81=\"\"><div class=\"rs-event-overline\" data-v-5f800d81=\"\"> </div><div class=\"rs-event-name\" data-v-5f800d81=\"\"> International Climbing Series - Triglav The Rock - Ljubljana (SLO) 2023 </div><div class=\"rs-event-foot\" data-v-5f800d81=\"\"><div class=\"foot-date\" data-v-5f800d81=\"\"><svg class=\"calendar-logo\" data-v-5f800d81=\"\" fill=\"none\" height=\"16\" viewbox=\"0 0 14 16\" width=\"14\" xmlns=\"http://www.w3.org/2000/svg\"><path d=\"M12.4 1.86364H11.725V1.18182C11.725 0.806818 11.4213 0.5 11.05 0.5C10.6788 0.5 10.375 0.806818 10.375 1.18182V1.86364H3.625V1.18182C3.625 0.806818 3.32125 0.5 2.95 0.5C2.57875 0.5 2.275 0.806818 2.275 1.18182V1.86364H1.6C0.8575 1.86364 0.25 2.47727 0.25 3.22727V14.1364C0.25 14.8864 0.8575 15.5 1.6 15.5H12.4C13.1425 15.5 13.75 14.8864 13.75 14.1364V3.22727C13.75 2.47727 13.1425 1.86364 12.4 1.86364ZM11.725 14.1364H2.275C1.90375 14.1364 1.6 13.8295 1.6 13.4545V5.27273H12.4V13.4545C12.4 13.8295 12.0963 14.1364 11.725 14.1364Z\" data-v-5f800d81=\"\" fill=\"#8B8C89\"></path><rect data-v-5f800d81=\"\" fill=\"#8B8C89\" height=\"3.75\" rx=\"1\" width=\"3.75\" x=\"7\" y=\"8.75\"></rect></svg> 2 Sep 2023 </div><div class=\"foot-location\" data-v-5f800d81=\"\"><svg class=\"location-logo\" data-v-5f800d81=\"\" fill=\"none\" height=\"16\" viewbox=\"0 0 12 16\" width=\"12\" xmlns=\"http://www.w3.org/2000/svg\"><path d=\"M6 8C5.175 8 4.5 7.325 4.5 6.5C4.5 5.675 5.175 5 6 5C6.825 5 7.5 5.675 7.5 6.5C7.5 7.325 6.825 8 6 8ZM10.5 6.65C10.5 3.9275 8.5125 2 6 2C3.4875 2 1.5 3.9275 1.5 6.65C1.5 8.405 2.9625 10.73 6 13.505C9.0375 10.73 10.5 8.405 10.5 6.65ZM6 0.5C9.15 0.5 12 2.915 12 6.65C12 9.14 9.9975 12.0875 6 15.5C2.0025 12.0875 0 9.14 0 6.65C0 2.915 2.85 0.5 6 0.5Z\" data-v-5f800d81=\"\" fill=\"#8B8C89\"></path></svg> Ljubljana </div></div></div><div class=\"left-part\" data-v-5f800d81=\"\"><div class=\"left-date\" data-v-5f800d81=\"\"> 2 </div><div class=\"left-month\" data-v-5f800d81=\"\"> Sep </div></div></div></a><a class=\"\" data-v-5f800d81=\"\" data-v-fedd7ba2=\"\" href=\"#/event/1302\"><div class=\"bg-white event-card-container\" data-v-5f800d81=\"\"><div class=\"right-part\" data-v-5f800d81=\"\"><div class=\"rs-event-overline\" data-v-5f800d81=\"\"> Lead </div><div class=\"rs-event-name\" data-v-5f800d81=\"\"> IFSC World Cup Koper 2023 </div><div class=\"rs-event-foot\" data-v-5f800d81=\"\"><div class=\"foot-date\" data-v-5f800d81=\"\"><svg class=\"calendar-logo\" data-v-5f800d81=\"\" fill=\"none\" height=\"16\" viewbox=\"0 0 14 16\" width=\"14\" xmlns=\"http://www.w3.org/2000/svg\"><path d=\"M12.4 1.86364H11.725V1.18182C11.725 0.806818 11.4213 0.5 11.05 0.5C10.6788 0.5 10.375 0.806818 10.375 1.18182V1.86364H3.625V1.18182C3.625 0.806818 3.32125 0.5 2.95 0.5C2.57875 0.5 2.275 0.806818 2.275 1.18182V1.86364H1.6C0.8575 1.86364 0.25 2.47727 0.25 3.22727V14.1364C0.25 14.8864 0.8575 15.5 1.6 15.5H12.4C13.1425 15.5 13.75 14.8864 13.75 14.1364V3.22727C13.75 2.47727 13.1425 1.86364 12.4 1.86364ZM11.725 14.1364H2.275C1.90375 14.1364 1.6 13.8295 1.6 13.4545V5.27273H12.4V13.4545C12.4 13.8295 12.0963 14.1364 11.725 14.1364Z\" data-v-5f800d81=\"\" fill=\"#8B8C89\"></path><rect data-v-5f800d81=\"\" fill=\"#8B8C89\" height=\"3.75\" rx=\"1\" width=\"3.75\" x=\"7\" y=\"8.75\"></rect></svg> 8 Sep - 9 Sep </div><div class=\"foot-location\" data-v-5f800d81=\"\"><svg class=\"location-logo\" data-v-5f800d81=\"\" fill=\"none\" height=\"16\" viewbox=\"0 0 12 16\" width=\"12\" xmlns=\"http://www.w3.org/2000/svg\"><path d=\"M6 8C5.175 8 4.5 7.325 4.5 6.5C4.5 5.675 5.175 5 6 5C6.825 5 7.5 5.675 7.5 6.5C7.5 7.325 6.825 8 6 8ZM10.5 6.65C10.5 3.9275 8.5125 2 6 2C3.4875 2 1.5 3.9275 1.5 6.65C1.5 8.405 2.9625 10.73 6 13.505C9.0375 10.73 10.5 8.405 10.5 6.65ZM6 0.5C9.15 0.5 12 2.915 12 6.65C12 9.14 9.9975 12.0875 6 15.5C2.0025 12.0875 0 9.14 0 6.65C0 2.915 2.85 0.5 6 0.5Z\" data-v-5f800d81=\"\" fill=\"#8B8C89\"></path></svg> Koper </div></div></div><div class=\"left-part\" data-v-5f800d81=\"\"><div class=\"left-date\" data-v-5f800d81=\"\"> 8 - 9 </div><div class=\"left-month\" data-v-5f800d81=\"\"> Sep </div></div></div></a><a class=\"\" data-v-5f800d81=\"\" data-v-fedd7ba2=\"\" href=\"#/event/1343\"><div class=\"bg-white event-card-container\" data-v-5f800d81=\"\"><div class=\"right-part\" data-v-5f800d81=\"\"><div class=\"rs-event-overline\" data-v-5f800d81=\"\"> Boulder </div><div class=\"rs-event-name\" data-v-5f800d81=\"\"> IFSC Asian Cup Hong Kong, China 2023 </div><div class=\"rs-event-foot\" data-v-5f800d81=\"\"><div class=\"foot-date\" data-v-5f800d81=\"\"><svg class=\"calendar-logo\" data-v-5f800d81=\"\" fill=\"none\" height=\"16\" viewbox=\"0 0 14 16\" width=\"14\" xmlns=\"http://www.w3.org/2000/svg\"><path d=\"M12.4 1.86364H11.725V1.18182C11.725 0.806818 11.4213 0.5 11.05 0.5C10.6788 0.5 10.375 0.806818 10.375 1.18182V1.86364H3.625V1.18182C3.625 0.806818 3.32125 0.5 2.95 0.5C2.57875 0.5 2.275 0.806818 2.275 1.18182V1.86364H1.6C0.8575 1.86364 0.25 2.47727 0.25 3.22727V14.1364C0.25 14.8864 0.8575 15.5 1.6 15.5H12.4C13.1425 15.5 13.75 14.8864 13.75 14.1364V3.22727C13.75 2.47727 13.1425 1.86364 12.4 1.86364ZM11.725 14.1364H2.275C1.90375 14.1364 1.6 13.8295 1.6 13.4545V5.27273H12.4V13.4545C12.4 13.8295 12.0963 14.1364 11.725 14.1364Z\" data-v-5f800d81=\"\" fill=\"#8B8C89\"></path><rect data-v-5f800d81=\"\" fill=\"#8B8C89\" height=\"3.75\" rx=\"1\" width=\"3.75\" x=\"7\" y=\"8.75\"></rect></svg> 9 Sep - 10 Sep </div><div class=\"foot-location\" data-v-5f800d81=\"\"><svg class=\"location-logo\" data-v-5f800d81=\"\" fill=\"none\" height=\"16\" viewbox=\"0 0 12 16\" width=\"12\" xmlns=\"http://www.w3.org/2000/svg\"><path d=\"M6 8C5.175 8 4.5 7.325 4.5 6.5C4.5 5.675 5.175 5 6 5C6.825 5 7.5 5.675 7.5 6.5C7.5 7.325 6.825 8 6 8ZM10.5 6.65C10.5 3.9275 8.5125 2 6 2C3.4875 2 1.5 3.9275 1.5 6.65C1.5 8.405 2.9625 10.73 6 13.505C9.0375 10.73 10.5 8.405 10.5 6.65ZM6 0.5C9.15 0.5 12 2.915 12 6.65C12 9.14 9.9975 12.0875 6 15.5C2.0025 12.0875 0 9.14 0 6.65C0 2.915 2.85 0.5 6 0.5Z\" data-v-5f800d81=\"\" fill=\"#8B8C89\"></path></svg> Hong Kong </div></div></div><div class=\"left-part\" data-v-5f800d81=\"\"><div class=\"left-date\" data-v-5f800d81=\"\"> 9 - 10 </div><div class=\"left-month\" data-v-5f800d81=\"\"> Sep </div></div></div></a><a class=\"\" data-v-5f800d81=\"\" data-v-fedd7ba2=\"\" href=\"#/event/1330\"><div class=\"bg-white event-card-container\" data-v-5f800d81=\"\"><div class=\"right-part\" data-v-5f800d81=\"\"><div class=\"rs-event-overline\" data-v-5f800d81=\"\"> Lead • Boulder&amp;Lead </div><div class=\"rs-event-name\" data-v-5f800d81=\"\"> IFSC Europe - Youth Championship - Helsinki (FIN) 2023 </div><div class=\"rs-event-foot\" data-v-5f800d81=\"\"><div class=\"foot-date\" data-v-5f800d81=\"\"><svg class=\"calendar-logo\" data-v-5f800d81=\"\" fill=\"none\" height=\"16\" viewbox=\"0 0 14 16\" width=\"14\" xmlns=\"http://www.w3.org/2000/svg\"><path d=\"M12.4 1.86364H11.725V1.18182C11.725 0.806818 11.4213 0.5 11.05 0.5C10.6788 0.5 10.375 0.806818 10.375 1.18182V1.86364H3.625V1.18182C3.625 0.806818 3.32125 0.5 2.95 0.5C2.57875 0.5 2.275 0.806818 2.275 1.18182V1.86364H1.6C0.8575 1.86364 0.25 2.47727 0.25 3.22727V14.1364C0.25 14.8864 0.8575 15.5 1.6 15.5H12.4C13.1425 15.5 13.75 14.8864 13.75 14.1364V3.22727C13.75 2.47727 13.1425 1.86364 12.4 1.86364ZM11.725 14.1364H2.275C1.90375 14.1364 1.6 13.8295 1.6 13.4545V5.27273H12.4V13.4545C12.4 13.8295 12.0963 14.1364 11.725 14.1364Z\" data-v-5f800d81=\"\" fill=\"#8B8C89\"></path><rect data-v-5f800d81=\"\" fill=\"#8B8C89\" height=\"3.75\" rx=\"1\" width=\"3.75\" x=\"7\" y=\"8.75\"></rect></svg> 15 Sep - 16 Sep </div><div class=\"foot-location\" data-v-5f800d81=\"\"><svg class=\"location-logo\" data-v-5f800d81=\"\" fill=\"none\" height=\"16\" viewbox=\"0 0 12 16\" width=\"12\" xmlns=\"http://www.w3.org/2000/svg\"><path d=\"M6 8C5.175 8 4.5 7.325 4.5 6.5C4.5 5.675 5.175 5 6 5C6.825 5 7.5 5.675 7.5 6.5C7.5 7.325 6.825 8 6 8ZM10.5 6.65C10.5 3.9275 8.5125 2 6 2C3.4875 2 1.5 3.9275 1.5 6.65C1.5 8.405 2.9625 10.73 6 13.505C9.0375 10.73 10.5 8.405 10.5 6.65ZM6 0.5C9.15 0.5 12 2.915 12 6.65C12 9.14 9.9975 12.0875 6 15.5C2.0025 12.0875 0 9.14 0 6.65C0 2.915 2.85 0.5 6 0.5Z\" data-v-5f800d81=\"\" fill=\"#8B8C89\"></path></svg> Helsinki </div></div></div><div class=\"left-part\" data-v-5f800d81=\"\"><div class=\"left-date\" data-v-5f800d81=\"\"> 15 - 16 </div><div class=\"left-month\" data-v-5f800d81=\"\"> Sep </div></div></div></a><a class=\"\" data-v-5f800d81=\"\" data-v-fedd7ba2=\"\" href=\"#/event/1309\"><div class=\"bg-white event-card-container\" data-v-5f800d81=\"\"><div class=\"right-part\" data-v-5f800d81=\"\"><div class=\"rs-event-overline\" data-v-5f800d81=\"\"> Speed </div><div class=\"rs-event-name\" data-v-5f800d81=\"\"> IFSC European Qualifier Rome 2023 </div><div class=\"rs-event-foot\" data-v-5f800d81=\"\"><div class=\"foot-date\" data-v-5f800d81=\"\"><svg class=\"calendar-logo\" data-v-5f800d81=\"\" fill=\"none\" height=\"16\" viewbox=\"0 0 14 16\" width=\"14\" xmlns=\"http://www.w3.org/2000/svg\"><path d=\"M12.4 1.86364H11.725V1.18182C11.725 0.806818 11.4213 0.5 11.05 0.5C10.6788 0.5 10.375 0.806818 10.375 1.18182V1.86364H3.625V1.18182C3.625 0.806818 3.32125 0.5 2.95 0.5C2.57875 0.5 2.275 0.806818 2.275 1.18182V1.86364H1.6C0.8575 1.86364 0.25 2.47727 0.25 3.22727V14.1364C0.25 14.8864 0.8575 15.5 1.6 15.5H12.4C13.1425 15.5 13.75 14.8864 13.75 14.1364V3.22727C13.75 2.47727 13.1425 1.86364 12.4 1.86364ZM11.725 14.1364H2.275C1.90375 14.1364 1.6 13.8295 1.6 13.4545V5.27273H12.4V13.4545C12.4 13.8295 12.0963 14.1364 11.725 14.1364Z\" data-v-5f800d81=\"\" fill=\"#8B8C89\"></path><rect data-v-5f800d81=\"\" fill=\"#8B8C89\" height=\"3.75\" rx=\"1\" width=\"3.75\" x=\"7\" y=\"8.75\"></rect></svg> 15 Sep 2023 </div><div class=\"foot-location\" data-v-5f800d81=\"\"><svg class=\"location-logo\" data-v-5f800d81=\"\" fill=\"none\" height=\"16\" viewbox=\"0 0 12 16\" width=\"12\" xmlns=\"http://www.w3.org/2000/svg\"><path d=\"M6 8C5.175 8 4.5 7.325 4.5 6.5C4.5 5.675 5.175 5 6 5C6.825 5 7.5 5.675 7.5 6.5C7.5 7.325 6.825 8 6 8ZM10.5 6.65C10.5 3.9275 8.5125 2 6 2C3.4875 2 1.5 3.9275 1.5 6.65C1.5 8.405 2.9625 10.73 6 13.505C9.0375 10.73 10.5 8.405 10.5 6.65ZM6 0.5C9.15 0.5 12 2.915 12 6.65C12 9.14 9.9975 12.0875 6 15.5C2.0025 12.0875 0 9.14 0 6.65C0 2.915 2.85 0.5 6 0.5Z\" data-v-5f800d81=\"\" fill=\"#8B8C89\"></path></svg> Rome </div></div></div><div class=\"left-part\" data-v-5f800d81=\"\"><div class=\"left-date\" data-v-5f800d81=\"\"> 15 </div><div class=\"left-month\" data-v-5f800d81=\"\"> Sep </div></div></div></a><a class=\"\" data-v-5f800d81=\"\" data-v-fedd7ba2=\"\" href=\"#/event/1303\"><div class=\"bg-white event-card-container\" data-v-5f800d81=\"\"><div class=\"right-part\" data-v-5f800d81=\"\"><div class=\"rs-event-overline\" data-v-5f800d81=\"\"> Lead • Speed </div><div class=\"rs-event-name\" data-v-5f800d81=\"\"> IFSC World Cup Wujiang 2023 </div><div class=\"rs-event-foot\" data-v-5f800d81=\"\"><div class=\"foot-date\" data-v-5f800d81=\"\"><svg class=\"calendar-logo\" data-v-5f800d81=\"\" fill=\"none\" height=\"16\" viewbox=\"0 0 14 16\" width=\"14\" xmlns=\"http://www.w3.org/2000/svg\"><path d=\"M12.4 1.86364H11.725V1.18182C11.725 0.806818 11.4213 0.5 11.05 0.5C10.6788 0.5 10.375 0.806818 10.375 1.18182V1.86364H3.625V1.18182C3.625 0.806818 3.32125 0.5 2.95 0.5C2.57875 0.5 2.275 0.806818 2.275 1.18182V1.86364H1.6C0.8575 1.86364 0.25 2.47727 0.25 3.22727V14.1364C0.25 14.8864 0.8575 15.5 1.6 15.5H12.4C13.1425 15.5 13.75 14.8864 13.75 14.1364V3.22727C13.75 2.47727 13.1425 1.86364 12.4 1.86364ZM11.725 14.1364H2.275C1.90375 14.1364 1.6 13.8295 1.6 13.4545V5.27273H12.4V13.4545C12.4 13.8295 12.0963 14.1364 11.725 14.1364Z\" data-v-5f800d81=\"\" fill=\"#8B8C89\"></path><rect data-v-5f800d81=\"\" fill=\"#8B8C89\" height=\"3.75\" rx=\"1\" width=\"3.75\" x=\"7\" y=\"8.75\"></rect></svg> 22 Sep - 24 Sep </div><div class=\"foot-location\" data-v-5f800d81=\"\"><svg class=\"location-logo\" data-v-5f800d81=\"\" fill=\"none\" height=\"16\" viewbox=\"0 0 12 16\" width=\"12\" xmlns=\"http://www.w3.org/2000/svg\"><path d=\"M6 8C5.175 8 4.5 7.325 4.5 6.5C4.5 5.675 5.175 5 6 5C6.825 5 7.5 5.675 7.5 6.5C7.5 7.325 6.825 8 6 8ZM10.5 6.65C10.5 3.9275 8.5125 2 6 2C3.4875 2 1.5 3.9275 1.5 6.65C1.5 8.405 2.9625 10.73 6 13.505C9.0375 10.73 10.5 8.405 10.5 6.65ZM6 0.5C9.15 0.5 12 2.915 12 6.65C12 9.14 9.9975 12.0875 6 15.5C2.0025 12.0875 0 9.14 0 6.65C0 2.915 2.85 0.5 6 0.5Z\" data-v-5f800d81=\"\" fill=\"#8B8C89\"></path></svg> Wujiang </div></div></div><div class=\"left-part\" data-v-5f800d81=\"\"><div class=\"left-date\" data-v-5f800d81=\"\"> 22 - 24 </div><div class=\"left-month\" data-v-5f800d81=\"\"> Sep </div></div></div></a><a class=\"\" data-v-5f800d81=\"\" data-v-fedd7ba2=\"\" href=\"#/event/1306\"><div class=\"bg-white event-card-container\" data-v-5f800d81=\"\"><div class=\"right-part\" data-v-5f800d81=\"\"><div class=\"rs-event-overline\" data-v-5f800d81=\"\"> </div><div class=\"rs-event-name\" data-v-5f800d81=\"\"> Asian Games Hangzhou 2022 </div><div class=\"rs-event-foot\" data-v-5f800d81=\"\"><div class=\"foot-date\" data-v-5f800d81=\"\"><svg class=\"calendar-logo\" data-v-5f800d81=\"\" fill=\"none\" height=\"16\" viewbox=\"0 0 14 16\" width=\"14\" xmlns=\"http://www.w3.org/2000/svg\"><path d=\"M12.4 1.86364H11.725V1.18182C11.725 0.806818 11.4213 0.5 11.05 0.5C10.6788 0.5 10.375 0.806818 10.375 1.18182V1.86364H3.625V1.18182C3.625 0.806818 3.32125 0.5 2.95 0.5C2.57875 0.5 2.275 0.806818 2.275 1.18182V1.86364H1.6C0.8575 1.86364 0.25 2.47727 0.25 3.22727V14.1364C0.25 14.8864 0.8575 15.5 1.6 15.5H12.4C13.1425 15.5 13.75 14.8864 13.75 14.1364V3.22727C13.75 2.47727 13.1425 1.86364 12.4 1.86364ZM11.725 14.1364H2.275C1.90375 14.1364 1.6 13.8295 1.6 13.4545V5.27273H12.4V13.4545C12.4 13.8295 12.0963 14.1364 11.725 14.1364Z\" data-v-5f800d81=\"\" fill=\"#8B8C89\"></path><rect data-v-5f800d81=\"\" fill=\"#8B8C89\" height=\"3.75\" rx=\"1\" width=\"3.75\" x=\"7\" y=\"8.75\"></rect></svg> 23 Sep - 8 Oct </div><div class=\"foot-location\" data-v-5f800d81=\"\"><svg class=\"location-logo\" data-v-5f800d81=\"\" fill=\"none\" height=\"16\" viewbox=\"0 0 12 16\" width=\"12\" xmlns=\"http://www.w3.org/2000/svg\"><path d=\"M6 8C5.175 8 4.5 7.325 4.5 6.5C4.5 5.675 5.175 5 6 5C6.825 5 7.5 5.675 7.5 6.5C7.5 7.325 6.825 8 6 8ZM10.5 6.65C10.5 3.9275 8.5125 2 6 2C3.4875 2 1.5 3.9275 1.5 6.65C1.5 8.405 2.9625 10.73 6 13.505C9.0375 10.73 10.5 8.405 10.5 6.65ZM6 0.5C9.15 0.5 12 2.915 12 6.65C12 9.14 9.9975 12.0875 6 15.5C2.0025 12.0875 0 9.14 0 6.65C0 2.915 2.85 0.5 6 0.5Z\" data-v-5f800d81=\"\" fill=\"#8B8C89\"></path></svg> Hangzhou </div></div></div><div class=\"left-part\" data-v-5f800d81=\"\"><div class=\"left-date\" data-v-5f800d81=\"\"> 23 - 8 </div><div class=\"left-month\" data-v-5f800d81=\"\"> Sep - Oct </div></div></div></a><a class=\"\" data-v-5f800d81=\"\" data-v-fedd7ba2=\"\" href=\"#/event/1334\"><div class=\"bg-white event-card-container\" data-v-5f800d81=\"\"><div class=\"right-part\" data-v-5f800d81=\"\"><div class=\"rs-event-overline\" data-v-5f800d81=\"\"> Speed </div><div class=\"rs-event-name\" data-v-5f800d81=\"\"> IFSC Europe - Continental Youth Cup (S) - Hamburg (GER) 2023 </div><div class=\"rs-event-foot\" data-v-5f800d81=\"\"><div class=\"foot-date\" data-v-5f800d81=\"\"><svg class=\"calendar-logo\" data-v-5f800d81=\"\" fill=\"none\" height=\"16\" viewbox=\"0 0 14 16\" width=\"14\" xmlns=\"http://www.w3.org/2000/svg\"><path d=\"M12.4 1.86364H11.725V1.18182C11.725 0.806818 11.4213 0.5 11.05 0.5C10.6788 0.5 10.375 0.806818 10.375 1.18182V1.86364H3.625V1.18182C3.625 0.806818 3.32125 0.5 2.95 0.5C2.57875 0.5 2.275 0.806818 2.275 1.18182V1.86364H1.6C0.8575 1.86364 0.25 2.47727 0.25 3.22727V14.1364C0.25 14.8864 0.8575 15.5 1.6 15.5H12.4C13.1425 15.5 13.75 14.8864 13.75 14.1364V3.22727C13.75 2.47727 13.1425 1.86364 12.4 1.86364ZM11.725 14.1364H2.275C1.90375 14.1364 1.6 13.8295 1.6 13.4545V5.27273H12.4V13.4545C12.4 13.8295 12.0963 14.1364 11.725 14.1364Z\" data-v-5f800d81=\"\" fill=\"#8B8C89\"></path><rect data-v-5f800d81=\"\" fill=\"#8B8C89\" height=\"3.75\" rx=\"1\" width=\"3.75\" x=\"7\" y=\"8.75\"></rect></svg> 24 Sep 2023 </div><div class=\"foot-location\" data-v-5f800d81=\"\"><svg class=\"location-logo\" data-v-5f800d81=\"\" fill=\"none\" height=\"16\" viewbox=\"0 0 12 16\" width=\"12\" xmlns=\"http://www.w3.org/2000/svg\"><path d=\"M6 8C5.175 8 4.5 7.325 4.5 6.5C4.5 5.675 5.175 5 6 5C6.825 5 7.5 5.675 7.5 6.5C7.5 7.325 6.825 8 6 8ZM10.5 6.65C10.5 3.9275 8.5125 2 6 2C3.4875 2 1.5 3.9275 1.5 6.65C1.5 8.405 2.9625 10.73 6 13.505C9.0375 10.73 10.5 8.405 10.5 6.65ZM6 0.5C9.15 0.5 12 2.915 12 6.65C12 9.14 9.9975 12.0875 6 15.5C2.0025 12.0875 0 9.14 0 6.65C0 2.915 2.85 0.5 6 0.5Z\" data-v-5f800d81=\"\" fill=\"#8B8C89\"></path></svg> Hamburg </div></div></div><div class=\"left-part\" data-v-5f800d81=\"\"><div class=\"left-date\" data-v-5f800d81=\"\"> 24 </div><div class=\"left-month\" data-v-5f800d81=\"\"> Sep </div></div></div></a><a class=\"\" data-v-5f800d81=\"\" data-v-fedd7ba2=\"\" href=\"#/event/1350\"><div class=\"bg-white event-card-container\" data-v-5f800d81=\"\"><div class=\"right-part\" data-v-5f800d81=\"\"><div class=\"rs-event-overline\" data-v-5f800d81=\"\"> Boulder </div><div class=\"rs-event-name\" data-v-5f800d81=\"\"> International Climbing Series - El-Capp Fest (B) - La Rochelle (FRA) 2023 </div><div class=\"rs-event-foot\" data-v-5f800d81=\"\"><div class=\"foot-date\" data-v-5f800d81=\"\"><svg class=\"calendar-logo\" data-v-5f800d81=\"\" fill=\"none\" height=\"16\" viewbox=\"0 0 14 16\" width=\"14\" xmlns=\"http://www.w3.org/2000/svg\"><path d=\"M12.4 1.86364H11.725V1.18182C11.725 0.806818 11.4213 0.5 11.05 0.5C10.6788 0.5 10.375 0.806818 10.375 1.18182V1.86364H3.625V1.18182C3.625 0.806818 3.32125 0.5 2.95 0.5C2.57875 0.5 2.275 0.806818 2.275 1.18182V1.86364H1.6C0.8575 1.86364 0.25 2.47727 0.25 3.22727V14.1364C0.25 14.8864 0.8575 15.5 1.6 15.5H12.4C13.1425 15.5 13.75 14.8864 13.75 14.1364V3.22727C13.75 2.47727 13.1425 1.86364 12.4 1.86364ZM11.725 14.1364H2.275C1.90375 14.1364 1.6 13.8295 1.6 13.4545V5.27273H12.4V13.4545C12.4 13.8295 12.0963 14.1364 11.725 14.1364Z\" data-v-5f800d81=\"\" fill=\"#8B8C89\"></path><rect data-v-5f800d81=\"\" fill=\"#8B8C89\" height=\"3.75\" rx=\"1\" width=\"3.75\" x=\"7\" y=\"8.75\"></rect></svg> 29 Sep - 30 Sep </div><div class=\"foot-location\" data-v-5f800d81=\"\"><svg class=\"location-logo\" data-v-5f800d81=\"\" fill=\"none\" height=\"16\" viewbox=\"0 0 12 16\" width=\"12\" xmlns=\"http://www.w3.org/2000/svg\"><path d=\"M6 8C5.175 8 4.5 7.325 4.5 6.5C4.5 5.675 5.175 5 6 5C6.825 5 7.5 5.675 7.5 6.5C7.5 7.325 6.825 8 6 8ZM10.5 6.65C10.5 3.9275 8.5125 2 6 2C3.4875 2 1.5 3.9275 1.5 6.65C1.5 8.405 2.9625 10.73 6 13.505C9.0375 10.73 10.5 8.405 10.5 6.65ZM6 0.5C9.15 0.5 12 2.915 12 6.65C12 9.14 9.9975 12.0875 6 15.5C2.0025 12.0875 0 9.14 0 6.65C0 2.915 2.85 0.5 6 0.5Z\" data-v-5f800d81=\"\" fill=\"#8B8C89\"></path></svg> La Rochelle </div></div></div><div class=\"left-part\" data-v-5f800d81=\"\"><div class=\"left-date\" data-v-5f800d81=\"\"> 29 - 30 </div><div class=\"left-month\" data-v-5f800d81=\"\"> Sep </div></div></div></a><a class=\"\" data-v-5f800d81=\"\" data-v-fedd7ba2=\"\" href=\"#/event/1349\"><div class=\"bg-white event-card-container\" data-v-5f800d81=\"\"><div class=\"right-part\" data-v-5f800d81=\"\"><div class=\"rs-event-overline\" data-v-5f800d81=\"\"> Lead • Speed • Boulder • Boulder&amp;Lead </div><div class=\"rs-event-name\" data-v-5f800d81=\"\"> IFSC Asia - Continental Youth Championships (B, S, L, B&amp;L) - Chongqing (CHN) 2023 </div><div class=\"rs-event-foot\" data-v-5f800d81=\"\"><div class=\"foot-date\" data-v-5f800d81=\"\"><svg class=\"calendar-logo\" data-v-5f800d81=\"\" fill=\"none\" height=\"16\" viewbox=\"0 0 14 16\" width=\"14\" xmlns=\"http://www.w3.org/2000/svg\"><path d=\"M12.4 1.86364H11.725V1.18182C11.725 0.806818 11.4213 0.5 11.05 0.5C10.6788 0.5 10.375 0.806818 10.375 1.18182V1.86364H3.625V1.18182C3.625 0.806818 3.32125 0.5 2.95 0.5C2.57875 0.5 2.275 0.806818 2.275 1.18182V1.86364H1.6C0.8575 1.86364 0.25 2.47727 0.25 3.22727V14.1364C0.25 14.8864 0.8575 15.5 1.6 15.5H12.4C13.1425 15.5 13.75 14.8864 13.75 14.1364V3.22727C13.75 2.47727 13.1425 1.86364 12.4 1.86364ZM11.725 14.1364H2.275C1.90375 14.1364 1.6 13.8295 1.6 13.4545V5.27273H12.4V13.4545C12.4 13.8295 12.0963 14.1364 11.725 14.1364Z\" data-v-5f800d81=\"\" fill=\"#8B8C89\"></path><rect data-v-5f800d81=\"\" fill=\"#8B8C89\" height=\"3.75\" rx=\"1\" width=\"3.75\" x=\"7\" y=\"8.75\"></rect></svg> 18 Oct - 22 Oct </div><div class=\"foot-location\" data-v-5f800d81=\"\"><svg class=\"location-logo\" data-v-5f800d81=\"\" fill=\"none\" height=\"16\" viewbox=\"0 0 12 16\" width=\"12\" xmlns=\"http://www.w3.org/2000/svg\"><path d=\"M6 8C5.175 8 4.5 7.325 4.5 6.5C4.5 5.675 5.175 5 6 5C6.825 5 7.5 5.675 7.5 6.5C7.5 7.325 6.825 8 6 8ZM10.5 6.65C10.5 3.9275 8.5125 2 6 2C3.4875 2 1.5 3.9275 1.5 6.65C1.5 8.405 2.9625 10.73 6 13.505C9.0375 10.73 10.5 8.405 10.5 6.65ZM6 0.5C9.15 0.5 12 2.915 12 6.65C12 9.14 9.9975 12.0875 6 15.5C2.0025 12.0875 0 9.14 0 6.65C0 2.915 2.85 0.5 6 0.5Z\" data-v-5f800d81=\"\" fill=\"#8B8C89\"></path></svg> Chongqing </div></div></div><div class=\"left-part\" data-v-5f800d81=\"\"><div class=\"left-date\" data-v-5f800d81=\"\"> 18 - 22 </div><div class=\"left-month\" data-v-5f800d81=\"\"> Oct </div></div></div></a><a class=\"\" data-v-5f800d81=\"\" data-v-fedd7ba2=\"\" href=\"#/event/1307\"><div class=\"bg-white event-card-container\" data-v-5f800d81=\"\"><div class=\"right-part\" data-v-5f800d81=\"\"><div class=\"rs-event-overline\" data-v-5f800d81=\"\"> Speed • Boulder&amp;Lead </div><div class=\"rs-event-name\" data-v-5f800d81=\"\"> Pan American Games Santiago 2023 </div><div class=\"rs-event-foot\" data-v-5f800d81=\"\"><div class=\"foot-date\" data-v-5f800d81=\"\"><svg class=\"calendar-logo\" data-v-5f800d81=\"\" fill=\"none\" height=\"16\" viewbox=\"0 0 14 16\" width=\"14\" xmlns=\"http://www.w3.org/2000/svg\"><path d=\"M12.4 1.86364H11.725V1.18182C11.725 0.806818 11.4213 0.5 11.05 0.5C10.6788 0.5 10.375 0.806818 10.375 1.18182V1.86364H3.625V1.18182C3.625 0.806818 3.32125 0.5 2.95 0.5C2.57875 0.5 2.275 0.806818 2.275 1.18182V1.86364H1.6C0.8575 1.86364 0.25 2.47727 0.25 3.22727V14.1364C0.25 14.8864 0.8575 15.5 1.6 15.5H12.4C13.1425 15.5 13.75 14.8864 13.75 14.1364V3.22727C13.75 2.47727 13.1425 1.86364 12.4 1.86364ZM11.725 14.1364H2.275C1.90375 14.1364 1.6 13.8295 1.6 13.4545V5.27273H12.4V13.4545C12.4 13.8295 12.0963 14.1364 11.725 14.1364Z\" data-v-5f800d81=\"\" fill=\"#8B8C89\"></path><rect data-v-5f800d81=\"\" fill=\"#8B8C89\" height=\"3.75\" rx=\"1\" width=\"3.75\" x=\"7\" y=\"8.75\"></rect></svg> 20 Oct - 25 Oct </div><div class=\"foot-location\" data-v-5f800d81=\"\"><svg class=\"location-logo\" data-v-5f800d81=\"\" fill=\"none\" height=\"16\" viewbox=\"0 0 12 16\" width=\"12\" xmlns=\"http://www.w3.org/2000/svg\"><path d=\"M6 8C5.175 8 4.5 7.325 4.5 6.5C4.5 5.675 5.175 5 6 5C6.825 5 7.5 5.675 7.5 6.5C7.5 7.325 6.825 8 6 8ZM10.5 6.65C10.5 3.9275 8.5125 2 6 2C3.4875 2 1.5 3.9275 1.5 6.65C1.5 8.405 2.9625 10.73 6 13.505C9.0375 10.73 10.5 8.405 10.5 6.65ZM6 0.5C9.15 0.5 12 2.915 12 6.65C12 9.14 9.9975 12.0875 6 15.5C2.0025 12.0875 0 9.14 0 6.65C0 2.915 2.85 0.5 6 0.5Z\" data-v-5f800d81=\"\" fill=\"#8B8C89\"></path></svg> Santiago </div></div></div><div class=\"left-part\" data-v-5f800d81=\"\"><div class=\"left-date\" data-v-5f800d81=\"\"> 20 - 25 </div><div class=\"left-month\" data-v-5f800d81=\"\"> Oct </div></div></div></a><a class=\"\" data-v-5f800d81=\"\" data-v-fedd7ba2=\"\" href=\"#/event/1308\"><div class=\"bg-white event-card-container\" data-v-5f800d81=\"\"><div class=\"right-part\" data-v-5f800d81=\"\"><div class=\"rs-event-overline\" data-v-5f800d81=\"\"> Boulder&amp;Lead </div><div class=\"rs-event-name\" data-v-5f800d81=\"\"> IFSC European Qualifier Laval 2023 </div><div class=\"rs-event-foot\" data-v-5f800d81=\"\"><div class=\"foot-date\" data-v-5f800d81=\"\"><svg class=\"calendar-logo\" data-v-5f800d81=\"\" fill=\"none\" height=\"16\" viewbox=\"0 0 14 16\" width=\"14\" xmlns=\"http://www.w3.org/2000/svg\"><path d=\"M12.4 1.86364H11.725V1.18182C11.725 0.806818 11.4213 0.5 11.05 0.5C10.6788 0.5 10.375 0.806818 10.375 1.18182V1.86364H3.625V1.18182C3.625 0.806818 3.32125 0.5 2.95 0.5C2.57875 0.5 2.275 0.806818 2.275 1.18182V1.86364H1.6C0.8575 1.86364 0.25 2.47727 0.25 3.22727V14.1364C0.25 14.8864 0.8575 15.5 1.6 15.5H12.4C13.1425 15.5 13.75 14.8864 13.75 14.1364V3.22727C13.75 2.47727 13.1425 1.86364 12.4 1.86364ZM11.725 14.1364H2.275C1.90375 14.1364 1.6 13.8295 1.6 13.4545V5.27273H12.4V13.4545C12.4 13.8295 12.0963 14.1364 11.725 14.1364Z\" data-v-5f800d81=\"\" fill=\"#8B8C89\"></path><rect data-v-5f800d81=\"\" fill=\"#8B8C89\" height=\"3.75\" rx=\"1\" width=\"3.75\" x=\"7\" y=\"8.75\"></rect></svg> 26 Oct - 29 Oct </div><div class=\"foot-location\" data-v-5f800d81=\"\"><svg class=\"location-logo\" data-v-5f800d81=\"\" fill=\"none\" height=\"16\" viewbox=\"0 0 12 16\" width=\"12\" xmlns=\"http://www.w3.org/2000/svg\"><path d=\"M6 8C5.175 8 4.5 7.325 4.5 6.5C4.5 5.675 5.175 5 6 5C6.825 5 7.5 5.675 7.5 6.5C7.5 7.325 6.825 8 6 8ZM10.5 6.65C10.5 3.9275 8.5125 2 6 2C3.4875 2 1.5 3.9275 1.5 6.65C1.5 8.405 2.9625 10.73 6 13.505C9.0375 10.73 10.5 8.405 10.5 6.65ZM6 0.5C9.15 0.5 12 2.915 12 6.65C12 9.14 9.9975 12.0875 6 15.5C2.0025 12.0875 0 9.14 0 6.65C0 2.915 2.85 0.5 6 0.5Z\" data-v-5f800d81=\"\" fill=\"#8B8C89\"></path></svg> Laval </div></div></div><div class=\"left-part\" data-v-5f800d81=\"\"><div class=\"left-date\" data-v-5f800d81=\"\"> 26 - 29 </div><div class=\"left-month\" data-v-5f800d81=\"\"> Oct </div></div></div></a><a class=\"\" data-v-5f800d81=\"\" data-v-fedd7ba2=\"\" href=\"#/event/1310\"><div class=\"bg-white event-card-container\" data-v-5f800d81=\"\"><div class=\"right-part\" data-v-5f800d81=\"\"><div class=\"rs-event-overline\" data-v-5f800d81=\"\"> Speed • Boulder&amp;Lead </div><div class=\"rs-event-name\" data-v-5f800d81=\"\"> IFSC Asian Qualifier Jakarta 2023 </div><div class=\"rs-event-foot\" data-v-5f800d81=\"\"><div class=\"foot-date\" data-v-5f800d81=\"\"><svg class=\"calendar-logo\" data-v-5f800d81=\"\" fill=\"none\" height=\"16\" viewbox=\"0 0 14 16\" width=\"14\" xmlns=\"http://www.w3.org/2000/svg\"><path d=\"M12.4 1.86364H11.725V1.18182C11.725 0.806818 11.4213 0.5 11.05 0.5C10.6788 0.5 10.375 0.806818 10.375 1.18182V1.86364H3.625V1.18182C3.625 0.806818 3.32125 0.5 2.95 0.5C2.57875 0.5 2.275 0.806818 2.275 1.18182V1.86364H1.6C0.8575 1.86364 0.25 2.47727 0.25 3.22727V14.1364C0.25 14.8864 0.8575 15.5 1.6 15.5H12.4C13.1425 15.5 13.75 14.8864 13.75 14.1364V3.22727C13.75 2.47727 13.1425 1.86364 12.4 1.86364ZM11.725 14.1364H2.275C1.90375 14.1364 1.6 13.8295 1.6 13.4545V5.27273H12.4V13.4545C12.4 13.8295 12.0963 14.1364 11.725 14.1364Z\" data-v-5f800d81=\"\" fill=\"#8B8C89\"></path><rect data-v-5f800d81=\"\" fill=\"#8B8C89\" height=\"3.75\" rx=\"1\" width=\"3.75\" x=\"7\" y=\"8.75\"></rect></svg> 9 Nov - 12 Nov </div><div class=\"foot-location\" data-v-5f800d81=\"\"><svg class=\"location-logo\" data-v-5f800d81=\"\" fill=\"none\" height=\"16\" viewbox=\"0 0 12 16\" width=\"12\" xmlns=\"http://www.w3.org/2000/svg\"><path d=\"M6 8C5.175 8 4.5 7.325 4.5 6.5C4.5 5.675 5.175 5 6 5C6.825 5 7.5 5.675 7.5 6.5C7.5 7.325 6.825 8 6 8ZM10.5 6.65C10.5 3.9275 8.5125 2 6 2C3.4875 2 1.5 3.9275 1.5 6.65C1.5 8.405 2.9625 10.73 6 13.505C9.0375 10.73 10.5 8.405 10.5 6.65ZM6 0.5C9.15 0.5 12 2.915 12 6.65C12 9.14 9.9975 12.0875 6 15.5C2.0025 12.0875 0 9.14 0 6.65C0 2.915 2.85 0.5 6 0.5Z\" data-v-5f800d81=\"\" fill=\"#8B8C89\"></path></svg> Jakarta </div></div></div><div class=\"left-part\" data-v-5f800d81=\"\"><div class=\"left-date\" data-v-5f800d81=\"\"> 9 - 12 </div><div class=\"left-month\" data-v-5f800d81=\"\"> Nov </div></div></div></a><a class=\"\" data-v-5f800d81=\"\" data-v-fedd7ba2=\"\" href=\"#/event/1380\"><div class=\"bg-white event-card-container\" data-v-5f800d81=\"\"><div class=\"right-part\" data-v-5f800d81=\"\"><div class=\"rs-event-overline\" data-v-5f800d81=\"\"> Speed </div><div class=\"rs-event-name\" data-v-5f800d81=\"\"> International Climbing Series - The Belt and Road (S) - Ningbo (CHN) 2023 </div><div class=\"rs-event-foot\" data-v-5f800d81=\"\"><div class=\"foot-date\" data-v-5f800d81=\"\"><svg class=\"calendar-logo\" data-v-5f800d81=\"\" fill=\"none\" height=\"16\" viewbox=\"0 0 14 16\" width=\"14\" xmlns=\"http://www.w3.org/2000/svg\"><path d=\"M12.4 1.86364H11.725V1.18182C11.725 0.806818 11.4213 0.5 11.05 0.5C10.6788 0.5 10.375 0.806818 10.375 1.18182V1.86364H3.625V1.18182C3.625 0.806818 3.32125 0.5 2.95 0.5C2.57875 0.5 2.275 0.806818 2.275 1.18182V1.86364H1.6C0.8575 1.86364 0.25 2.47727 0.25 3.22727V14.1364C0.25 14.8864 0.8575 15.5 1.6 15.5H12.4C13.1425 15.5 13.75 14.8864 13.75 14.1364V3.22727C13.75 2.47727 13.1425 1.86364 12.4 1.86364ZM11.725 14.1364H2.275C1.90375 14.1364 1.6 13.8295 1.6 13.4545V5.27273H12.4V13.4545C12.4 13.8295 12.0963 14.1364 11.725 14.1364Z\" data-v-5f800d81=\"\" fill=\"#8B8C89\"></path><rect data-v-5f800d81=\"\" fill=\"#8B8C89\" height=\"3.75\" rx=\"1\" width=\"3.75\" x=\"7\" y=\"8.75\"></rect></svg> 16 Nov 2023 </div><div class=\"foot-location\" data-v-5f800d81=\"\"><svg class=\"location-logo\" data-v-5f800d81=\"\" fill=\"none\" height=\"16\" viewbox=\"0 0 12 16\" width=\"12\" xmlns=\"http://www.w3.org/2000/svg\"><path d=\"M6 8C5.175 8 4.5 7.325 4.5 6.5C4.5 5.675 5.175 5 6 5C6.825 5 7.5 5.675 7.5 6.5C7.5 7.325 6.825 8 6 8ZM10.5 6.65C10.5 3.9275 8.5125 2 6 2C3.4875 2 1.5 3.9275 1.5 6.65C1.5 8.405 2.9625 10.73 6 13.505C9.0375 10.73 10.5 8.405 10.5 6.65ZM6 0.5C9.15 0.5 12 2.915 12 6.65C12 9.14 9.9975 12.0875 6 15.5C2.0025 12.0875 0 9.14 0 6.65C0 2.915 2.85 0.5 6 0.5Z\" data-v-5f800d81=\"\" fill=\"#8B8C89\"></path></svg> Ningbo </div></div></div><div class=\"left-part\" data-v-5f800d81=\"\"><div class=\"left-date\" data-v-5f800d81=\"\"> 16 </div><div class=\"left-month\" data-v-5f800d81=\"\"> Nov </div></div></div></a><a class=\"\" data-v-5f800d81=\"\" data-v-fedd7ba2=\"\" href=\"#/event/1351\"><div class=\"bg-white event-card-container\" data-v-5f800d81=\"\"><div class=\"right-part\" data-v-5f800d81=\"\"><div class=\"rs-event-overline\" data-v-5f800d81=\"\"> Speed • Boulder </div><div class=\"rs-event-name\" data-v-5f800d81=\"\"> NEOM IFSC Masters 2023 </div><div class=\"rs-event-foot\" data-v-5f800d81=\"\"><div class=\"foot-date\" data-v-5f800d81=\"\"><svg class=\"calendar-logo\" data-v-5f800d81=\"\" fill=\"none\" height=\"16\" viewbox=\"0 0 14 16\" width=\"14\" xmlns=\"http://www.w3.org/2000/svg\"><path d=\"M12.4 1.86364H11.725V1.18182C11.725 0.806818 11.4213 0.5 11.05 0.5C10.6788 0.5 10.375 0.806818 10.375 1.18182V1.86364H3.625V1.18182C3.625 0.806818 3.32125 0.5 2.95 0.5C2.57875 0.5 2.275 0.806818 2.275 1.18182V1.86364H1.6C0.8575 1.86364 0.25 2.47727 0.25 3.22727V14.1364C0.25 14.8864 0.8575 15.5 1.6 15.5H12.4C13.1425 15.5 13.75 14.8864 13.75 14.1364V3.22727C13.75 2.47727 13.1425 1.86364 12.4 1.86364ZM11.725 14.1364H2.275C1.90375 14.1364 1.6 13.8295 1.6 13.4545V5.27273H12.4V13.4545C12.4 13.8295 12.0963 14.1364 11.725 14.1364Z\" data-v-5f800d81=\"\" fill=\"#8B8C89\"></path><rect data-v-5f800d81=\"\" fill=\"#8B8C89\" height=\"3.75\" rx=\"1\" width=\"3.75\" x=\"7\" y=\"8.75\"></rect></svg> 22 Nov - 24 Nov </div><div class=\"foot-location\" data-v-5f800d81=\"\"><svg class=\"location-logo\" data-v-5f800d81=\"\" fill=\"none\" height=\"16\" viewbox=\"0 0 12 16\" width=\"12\" xmlns=\"http://www.w3.org/2000/svg\"><path d=\"M6 8C5.175 8 4.5 7.325 4.5 6.5C4.5 5.675 5.175 5 6 5C6.825 5 7.5 5.675 7.5 6.5C7.5 7.325 6.825 8 6 8ZM10.5 6.65C10.5 3.9275 8.5125 2 6 2C3.4875 2 1.5 3.9275 1.5 6.65C1.5 8.405 2.9625 10.73 6 13.505C9.0375 10.73 10.5 8.405 10.5 6.65ZM6 0.5C9.15 0.5 12 2.915 12 6.65C12 9.14 9.9975 12.0875 6 15.5C2.0025 12.0875 0 9.14 0 6.65C0 2.915 2.85 0.5 6 0.5Z\" data-v-5f800d81=\"\" fill=\"#8B8C89\"></path></svg> Neom Beach Games Mountain Village </div></div></div><div class=\"left-part\" data-v-5f800d81=\"\"><div class=\"left-date\" data-v-5f800d81=\"\"> 22 - 24 </div><div class=\"left-month\" data-v-5f800d81=\"\"> Nov </div></div></div></a><a class=\"\" data-v-5f800d81=\"\" data-v-fedd7ba2=\"\" href=\"#/event/1311\"><div class=\"bg-white event-card-container\" data-v-5f800d81=\"\"><div class=\"right-part\" data-v-5f800d81=\"\"><div class=\"rs-event-overline\" data-v-5f800d81=\"\"> Speed • Boulder&amp;Lead </div><div class=\"rs-event-name\" data-v-5f800d81=\"\"> IFSC Oceania Qualifier Melbourne 2023 </div><div class=\"rs-event-foot\" data-v-5f800d81=\"\"><div class=\"foot-date\" data-v-5f800d81=\"\"><svg class=\"calendar-logo\" data-v-5f800d81=\"\" fill=\"none\" height=\"16\" viewbox=\"0 0 14 16\" width=\"14\" xmlns=\"http://www.w3.org/2000/svg\"><path d=\"M12.4 1.86364H11.725V1.18182C11.725 0.806818 11.4213 0.5 11.05 0.5C10.6788 0.5 10.375 0.806818 10.375 1.18182V1.86364H3.625V1.18182C3.625 0.806818 3.32125 0.5 2.95 0.5C2.57875 0.5 2.275 0.806818 2.275 1.18182V1.86364H1.6C0.8575 1.86364 0.25 2.47727 0.25 3.22727V14.1364C0.25 14.8864 0.8575 15.5 1.6 15.5H12.4C13.1425 15.5 13.75 14.8864 13.75 14.1364V3.22727C13.75 2.47727 13.1425 1.86364 12.4 1.86364ZM11.725 14.1364H2.275C1.90375 14.1364 1.6 13.8295 1.6 13.4545V5.27273H12.4V13.4545C12.4 13.8295 12.0963 14.1364 11.725 14.1364Z\" data-v-5f800d81=\"\" fill=\"#8B8C89\"></path><rect data-v-5f800d81=\"\" fill=\"#8B8C89\" height=\"3.75\" rx=\"1\" width=\"3.75\" x=\"7\" y=\"8.75\"></rect></svg> 24 Nov - 26 Nov </div><div class=\"foot-location\" data-v-5f800d81=\"\"><svg class=\"location-logo\" data-v-5f800d81=\"\" fill=\"none\" height=\"16\" viewbox=\"0 0 12 16\" width=\"12\" xmlns=\"http://www.w3.org/2000/svg\"><path d=\"M6 8C5.175 8 4.5 7.325 4.5 6.5C4.5 5.675 5.175 5 6 5C6.825 5 7.5 5.675 7.5 6.5C7.5 7.325 6.825 8 6 8ZM10.5 6.65C10.5 3.9275 8.5125 2 6 2C3.4875 2 1.5 3.9275 1.5 6.65C1.5 8.405 2.9625 10.73 6 13.505C9.0375 10.73 10.5 8.405 10.5 6.65ZM6 0.5C9.15 0.5 12 2.915 12 6.65C12 9.14 9.9975 12.0875 6 15.5C2.0025 12.0875 0 9.14 0 6.65C0 2.915 2.85 0.5 6 0.5Z\" data-v-5f800d81=\"\" fill=\"#8B8C89\"></path></svg> Melbourne </div></div></div><div class=\"left-part\" data-v-5f800d81=\"\"><div class=\"left-date\" data-v-5f800d81=\"\"> 24 - 26 </div><div class=\"left-month\" data-v-5f800d81=\"\"> Nov </div></div></div></a><a class=\"\" data-v-5f800d81=\"\" data-v-fedd7ba2=\"\" href=\"#/event/1346\"><div class=\"bg-white event-card-container\" data-v-5f800d81=\"\"><div class=\"right-part\" data-v-5f800d81=\"\"><div class=\"rs-event-overline\" data-v-5f800d81=\"\"> Boulder </div><div class=\"rs-event-name\" data-v-5f800d81=\"\"> IFSC South American Cup Curitiba 2023 </div><div class=\"rs-event-foot\" data-v-5f800d81=\"\"><div class=\"foot-date\" data-v-5f800d81=\"\"><svg class=\"calendar-logo\" data-v-5f800d81=\"\" fill=\"none\" height=\"16\" viewbox=\"0 0 14 16\" width=\"14\" xmlns=\"http://www.w3.org/2000/svg\"><path d=\"M12.4 1.86364H11.725V1.18182C11.725 0.806818 11.4213 0.5 11.05 0.5C10.6788 0.5 10.375 0.806818 10.375 1.18182V1.86364H3.625V1.18182C3.625 0.806818 3.32125 0.5 2.95 0.5C2.57875 0.5 2.275 0.806818 2.275 1.18182V1.86364H1.6C0.8575 1.86364 0.25 2.47727 0.25 3.22727V14.1364C0.25 14.8864 0.8575 15.5 1.6 15.5H12.4C13.1425 15.5 13.75 14.8864 13.75 14.1364V3.22727C13.75 2.47727 13.1425 1.86364 12.4 1.86364ZM11.725 14.1364H2.275C1.90375 14.1364 1.6 13.8295 1.6 13.4545V5.27273H12.4V13.4545C12.4 13.8295 12.0963 14.1364 11.725 14.1364Z\" data-v-5f800d81=\"\" fill=\"#8B8C89\"></path><rect data-v-5f800d81=\"\" fill=\"#8B8C89\" height=\"3.75\" rx=\"1\" width=\"3.75\" x=\"7\" y=\"8.75\"></rect></svg> 1 Dec - 3 Dec </div><div class=\"foot-location\" data-v-5f800d81=\"\"><svg class=\"location-logo\" data-v-5f800d81=\"\" fill=\"none\" height=\"16\" viewbox=\"0 0 12 16\" width=\"12\" xmlns=\"http://www.w3.org/2000/svg\"><path d=\"M6 8C5.175 8 4.5 7.325 4.5 6.5C4.5 5.675 5.175 5 6 5C6.825 5 7.5 5.675 7.5 6.5C7.5 7.325 6.825 8 6 8ZM10.5 6.65C10.5 3.9275 8.5125 2 6 2C3.4875 2 1.5 3.9275 1.5 6.65C1.5 8.405 2.9625 10.73 6 13.505C9.0375 10.73 10.5 8.405 10.5 6.65ZM6 0.5C9.15 0.5 12 2.915 12 6.65C12 9.14 9.9975 12.0875 6 15.5C2.0025 12.0875 0 9.14 0 6.65C0 2.915 2.85 0.5 6 0.5Z\" data-v-5f800d81=\"\" fill=\"#8B8C89\"></path></svg> Curitiba </div></div></div><div class=\"left-part\" data-v-5f800d81=\"\"><div class=\"left-date\" data-v-5f800d81=\"\"> 1 - 3 </div><div class=\"left-month\" data-v-5f800d81=\"\"> Dec </div></div></div></a><a class=\"\" data-v-5f800d81=\"\" data-v-fedd7ba2=\"\" href=\"#/event/1312\"><div class=\"bg-white event-card-container\" data-v-5f800d81=\"\"><div class=\"right-part\" data-v-5f800d81=\"\"><div class=\"rs-event-overline\" data-v-5f800d81=\"\"> Speed • Boulder&amp;Lead </div><div class=\"rs-event-name\" data-v-5f800d81=\"\"> IFSC African Qualifier Pretoria 2023 </div><div class=\"rs-event-foot\" data-v-5f800d81=\"\"><div class=\"foot-date\" data-v-5f800d81=\"\"><svg class=\"calendar-logo\" data-v-5f800d81=\"\" fill=\"none\" height=\"16\" viewbox=\"0 0 14 16\" width=\"14\" xmlns=\"http://www.w3.org/2000/svg\"><path d=\"M12.4 1.86364H11.725V1.18182C11.725 0.806818 11.4213 0.5 11.05 0.5C10.6788 0.5 10.375 0.806818 10.375 1.18182V1.86364H3.625V1.18182C3.625 0.806818 3.32125 0.5 2.95 0.5C2.57875 0.5 2.275 0.806818 2.275 1.18182V1.86364H1.6C0.8575 1.86364 0.25 2.47727 0.25 3.22727V14.1364C0.25 14.8864 0.8575 15.5 1.6 15.5H12.4C13.1425 15.5 13.75 14.8864 13.75 14.1364V3.22727C13.75 2.47727 13.1425 1.86364 12.4 1.86364ZM11.725 14.1364H2.275C1.90375 14.1364 1.6 13.8295 1.6 13.4545V5.27273H12.4V13.4545C12.4 13.8295 12.0963 14.1364 11.725 14.1364Z\" data-v-5f800d81=\"\" fill=\"#8B8C89\"></path><rect data-v-5f800d81=\"\" fill=\"#8B8C89\" height=\"3.75\" rx=\"1\" width=\"3.75\" x=\"7\" y=\"8.75\"></rect></svg> 7 Dec - 9 Dec </div><div class=\"foot-location\" data-v-5f800d81=\"\"><svg class=\"location-logo\" data-v-5f800d81=\"\" fill=\"none\" height=\"16\" viewbox=\"0 0 12 16\" width=\"12\" xmlns=\"http://www.w3.org/2000/svg\"><path d=\"M6 8C5.175 8 4.5 7.325 4.5 6.5C4.5 5.675 5.175 5 6 5C6.825 5 7.5 5.675 7.5 6.5C7.5 7.325 6.825 8 6 8ZM10.5 6.65C10.5 3.9275 8.5125 2 6 2C3.4875 2 1.5 3.9275 1.5 6.65C1.5 8.405 2.9625 10.73 6 13.505C9.0375 10.73 10.5 8.405 10.5 6.65ZM6 0.5C9.15 0.5 12 2.915 12 6.65C12 9.14 9.9975 12.0875 6 15.5C2.0025 12.0875 0 9.14 0 6.65C0 2.915 2.85 0.5 6 0.5Z\" data-v-5f800d81=\"\" fill=\"#8B8C89\"></path></svg> Pretoria </div></div></div><div class=\"left-part\" data-v-5f800d81=\"\"><div class=\"left-date\" data-v-5f800d81=\"\"> 7 - 9 </div><div class=\"left-month\" data-v-5f800d81=\"\"> Dec </div></div></div></a><a class=\"\" data-v-5f800d81=\"\" data-v-fedd7ba2=\"\" href=\"#/event/1382\"><div class=\"bg-white event-card-container\" data-v-5f800d81=\"\"><div class=\"right-part\" data-v-5f800d81=\"\"><div class=\"rs-event-overline\" data-v-5f800d81=\"\"> </div><div class=\"rs-event-name\" data-v-5f800d81=\"\"> IFSC Asia - Asian K Championships (B, L, S) - Jamshedpur (IND) 2023 </div><div class=\"rs-event-foot\" data-v-5f800d81=\"\"><div class=\"foot-date\" data-v-5f800d81=\"\"><svg class=\"calendar-logo\" data-v-5f800d81=\"\" fill=\"none\" height=\"16\" viewbox=\"0 0 14 16\" width=\"14\" xmlns=\"http://www.w3.org/2000/svg\"><path d=\"M12.4 1.86364H11.725V1.18182C11.725 0.806818 11.4213 0.5 11.05 0.5C10.6788 0.5 10.375 0.806818 10.375 1.18182V1.86364H3.625V1.18182C3.625 0.806818 3.32125 0.5 2.95 0.5C2.57875 0.5 2.275 0.806818 2.275 1.18182V1.86364H1.6C0.8575 1.86364 0.25 2.47727 0.25 3.22727V14.1364C0.25 14.8864 0.8575 15.5 1.6 15.5H12.4C13.1425 15.5 13.75 14.8864 13.75 14.1364V3.22727C13.75 2.47727 13.1425 1.86364 12.4 1.86364ZM11.725 14.1364H2.275C1.90375 14.1364 1.6 13.8295 1.6 13.4545V5.27273H12.4V13.4545C12.4 13.8295 12.0963 14.1364 11.725 14.1364Z\" data-v-5f800d81=\"\" fill=\"#8B8C89\"></path><rect data-v-5f800d81=\"\" fill=\"#8B8C89\" height=\"3.75\" rx=\"1\" width=\"3.75\" x=\"7\" y=\"8.75\"></rect></svg> 8 Dec - 10 Dec </div><div class=\"foot-location\" data-v-5f800d81=\"\"><svg class=\"location-logo\" data-v-5f800d81=\"\" fill=\"none\" height=\"16\" viewbox=\"0 0 12 16\" width=\"12\" xmlns=\"http://www.w3.org/2000/svg\"><path d=\"M6 8C5.175 8 4.5 7.325 4.5 6.5C4.5 5.675 5.175 5 6 5C6.825 5 7.5 5.675 7.5 6.5C7.5 7.325 6.825 8 6 8ZM10.5 6.65C10.5 3.9275 8.5125 2 6 2C3.4875 2 1.5 3.9275 1.5 6.65C1.5 8.405 2.9625 10.73 6 13.505C9.0375 10.73 10.5 8.405 10.5 6.65ZM6 0.5C9.15 0.5 12 2.915 12 6.65C12 9.14 9.9975 12.0875 6 15.5C2.0025 12.0875 0 9.14 0 6.65C0 2.915 2.85 0.5 6 0.5Z\" data-v-5f800d81=\"\" fill=\"#8B8C89\"></path></svg> Jamshedpur </div></div></div><div class=\"left-part\" data-v-5f800d81=\"\"><div class=\"left-date\" data-v-5f800d81=\"\"> 8 - 10 </div><div class=\"left-month\" data-v-5f800d81=\"\"> Dec </div></div></div></a><a class=\"\" data-v-5f800d81=\"\" data-v-fedd7ba2=\"\" href=\"#/event/1344\"><div class=\"bg-white event-card-container active\" data-v-5f800d81=\"\"><div class=\"right-part\" data-v-5f800d81=\"\"><div class=\"rs-event-overline\" data-v-5f800d81=\"\"> Boulder • Speed • Lead </div><div class=\"rs-event-name\" data-v-5f800d81=\"\"> IFSC Asian Cup Riyadh 2023 </div><div class=\"rs-event-foot\" data-v-5f800d81=\"\"><div class=\"foot-date\" data-v-5f800d81=\"\"><svg class=\"calendar-logo\" data-v-5f800d81=\"\" fill=\"none\" height=\"16\" viewbox=\"0 0 14 16\" width=\"14\" xmlns=\"http://www.w3.org/2000/svg\"><path d=\"M12.4 1.86364H11.725V1.18182C11.725 0.806818 11.4213 0.5 11.05 0.5C10.6788 0.5 10.375 0.806818 10.375 1.18182V1.86364H3.625V1.18182C3.625 0.806818 3.32125 0.5 2.95 0.5C2.57875 0.5 2.275 0.806818 2.275 1.18182V1.86364H1.6C0.8575 1.86364 0.25 2.47727 0.25 3.22727V14.1364C0.25 14.8864 0.8575 15.5 1.6 15.5H12.4C13.1425 15.5 13.75 14.8864 13.75 14.1364V3.22727C13.75 2.47727 13.1425 1.86364 12.4 1.86364ZM11.725 14.1364H2.275C1.90375 14.1364 1.6 13.8295 1.6 13.4545V5.27273H12.4V13.4545C12.4 13.8295 12.0963 14.1364 11.725 14.1364Z\" data-v-5f800d81=\"\" fill=\"#8B8C89\"></path><rect data-v-5f800d81=\"\" fill=\"#8B8C89\" height=\"3.75\" rx=\"1\" width=\"3.75\" x=\"7\" y=\"8.75\"></rect></svg> 12 Dec - 16 Dec </div><div class=\"foot-location\" data-v-5f800d81=\"\"><svg class=\"location-logo\" data-v-5f800d81=\"\" fill=\"none\" height=\"16\" viewbox=\"0 0 12 16\" width=\"12\" xmlns=\"http://www.w3.org/2000/svg\"><path d=\"M6 8C5.175 8 4.5 7.325 4.5 6.5C4.5 5.675 5.175 5 6 5C6.825 5 7.5 5.675 7.5 6.5C7.5 7.325 6.825 8 6 8ZM10.5 6.65C10.5 3.9275 8.5125 2 6 2C3.4875 2 1.5 3.9275 1.5 6.65C1.5 8.405 2.9625 10.73 6 13.505C9.0375 10.73 10.5 8.405 10.5 6.65ZM6 0.5C9.15 0.5 12 2.915 12 6.65C12 9.14 9.9975 12.0875 6 15.5C2.0025 12.0875 0 9.14 0 6.65C0 2.915 2.85 0.5 6 0.5Z\" data-v-5f800d81=\"\" fill=\"#8B8C89\"></path></svg> Riyadh </div></div></div><div class=\"left-part\" data-v-5f800d81=\"\"><div class=\"left-date\" data-v-5f800d81=\"\"> 12 - 16 </div><div class=\"left-month\" data-v-5f800d81=\"\"> Dec </div></div></div></a><a class=\"\" data-v-5f800d81=\"\" data-v-fedd7ba2=\"\" href=\"#/event/1347\"><div class=\"bg-white event-card-container\" data-v-5f800d81=\"\"><div class=\"right-part\" data-v-5f800d81=\"\"><div class=\"rs-event-overline\" data-v-5f800d81=\"\"> Boulder </div><div class=\"rs-event-name\" data-v-5f800d81=\"\"> IFSC South American Cup Mar del Plata 2023 </div><div class=\"rs-event-foot\" data-v-5f800d81=\"\"><div class=\"foot-date\" data-v-5f800d81=\"\"><svg class=\"calendar-logo\" data-v-5f800d81=\"\" fill=\"none\" height=\"16\" viewbox=\"0 0 14 16\" width=\"14\" xmlns=\"http://www.w3.org/2000/svg\"><path d=\"M12.4 1.86364H11.725V1.18182C11.725 0.806818 11.4213 0.5 11.05 0.5C10.6788 0.5 10.375 0.806818 10.375 1.18182V1.86364H3.625V1.18182C3.625 0.806818 3.32125 0.5 2.95 0.5C2.57875 0.5 2.275 0.806818 2.275 1.18182V1.86364H1.6C0.8575 1.86364 0.25 2.47727 0.25 3.22727V14.1364C0.25 14.8864 0.8575 15.5 1.6 15.5H12.4C13.1425 15.5 13.75 14.8864 13.75 14.1364V3.22727C13.75 2.47727 13.1425 1.86364 12.4 1.86364ZM11.725 14.1364H2.275C1.90375 14.1364 1.6 13.8295 1.6 13.4545V5.27273H12.4V13.4545C12.4 13.8295 12.0963 14.1364 11.725 14.1364Z\" data-v-5f800d81=\"\" fill=\"#8B8C89\"></path><rect data-v-5f800d81=\"\" fill=\"#8B8C89\" height=\"3.75\" rx=\"1\" width=\"3.75\" x=\"7\" y=\"8.75\"></rect></svg> 15 Dec - 17 Dec </div><div class=\"foot-location\" data-v-5f800d81=\"\"><svg class=\"location-logo\" data-v-5f800d81=\"\" fill=\"none\" height=\"16\" viewbox=\"0 0 12 16\" width=\"12\" xmlns=\"http://www.w3.org/2000/svg\"><path d=\"M6 8C5.175 8 4.5 7.325 4.5 6.5C4.5 5.675 5.175 5 6 5C6.825 5 7.5 5.675 7.5 6.5C7.5 7.325 6.825 8 6 8ZM10.5 6.65C10.5 3.9275 8.5125 2 6 2C3.4875 2 1.5 3.9275 1.5 6.65C1.5 8.405 2.9625 10.73 6 13.505C9.0375 10.73 10.5 8.405 10.5 6.65ZM6 0.5C9.15 0.5 12 2.915 12 6.65C12 9.14 9.9975 12.0875 6 15.5C2.0025 12.0875 0 9.14 0 6.65C0 2.915 2.85 0.5 6 0.5Z\" data-v-5f800d81=\"\" fill=\"#8B8C89\"></path></svg> Mar del Plata </div></div></div><div class=\"left-part\" data-v-5f800d81=\"\"><div class=\"left-date\" data-v-5f800d81=\"\"> 15 - 17 </div><div class=\"left-month\" data-v-5f800d81=\"\"> Dec </div></div></div></a></div></div></div><div class=\"bg-white rs-footer rs-footer\" data-v-9adfd589=\"\" data-v-fc16d168=\"\"><div class=\"rs-footer-container\" data-v-fc16d168=\"\"><div class=\"text-center pow-b\" data-v-fc16d168=\"\">POWERED BY</div><div class=\"d-flex justify-content-center\" data-v-fc16d168=\"\"><a data-v-fc16d168=\"\" href=\"https://www.vertical-life.info/\" target=\"_blank\"><div class=\"vl-logo-container text-center\" data-v-fc16d168=\"\"><img alt=\"\" class=\"vl-logo\" data-v-fc16d168=\"\" src=\"/vite/assets/vl-pano-0bb47113.png\"/></div></a></div><div class=\"footer-links\" data-v-fc16d168=\"\"><a data-v-fc16d168=\"\" href=\"https://www.vertical-life.info/en/legal/privacy-policy\" target=\"_blank\">Data privacy</a><a class=\"middle-item\" data-v-fc16d168=\"\" href=\"https://www.vertical-life.info/en/legal/terms-and-conditions\" target=\"_blank\">Terms &amp; conditions</a><a data-v-fc16d168=\"\" href=\"https://www.vertical-life.info/en/legal\" target=\"_blank\">Legal information</a></div></div></div></div>\n",
      "<script nomodule=\"nomodule\" src=\"/vite/assets/polyfills-7de44d98-legacy.js\"></script><script nomodule=\"nomodule\">System.import('/vite/assets/front_index-7602e27c-legacy.js')</script>\n",
      "</body></html>\n"
     ]
    }
   ],
   "source": [
    "class ifscScraper:\n",
    "    baseUrl = \"https://ifsc.results.info/\"\n",
    "    currenturl = \"\"\n",
    "    # driver = webdriver.Chrome(service=ChromeService(ChromeDriverManager().install()))\n",
    "\n",
    "    def __init__(self) -> None:\n",
    "        self.driver = webdriver.Chrome(service=ChromeService(ChromeDriverManager().install()))\n",
    "\n",
    "# Create a new instance of the Chrome driver\n",
    "    def getUrl (self, url): # return page source\n",
    "        self.driver.get(url)\n",
    "        # self.currenturl = url\n",
    "        self.driver.implicitly_wait(5)\n",
    "        # self.currentPage = self.driver.page_source\n",
    "        self.years = None;\n",
    "        # settings\n",
    "        self.eventType = \"World Cups and World Championships\"\n",
    "        self.eventYear = \"2022\" \n",
    "    def getSoup(self): # returns soup of current page\n",
    "        # self.currentPage = self.driver.\n",
    "        self.getUrl(self.baseUrl)\n",
    "        time.sleep(3)\n",
    "        return BeautifulSoup(self.driver.page_source, 'html.parser')\n",
    "\n",
    "    \n",
    "    def getEventNames(self):\n",
    "        # homepage event names\n",
    "        events = self.driver.find_elements(by=By.CLASS_NAME, value=\"rs-event-name\") \n",
    "        \n",
    "        # out = driver.find_element(by='CLASS_NAME', value=\"card-container\")\n",
    "        \n",
    "        return events\n",
    "\n",
    "    def getEventYears(self):\n",
    "        # homepage event years\n",
    "        if self.years == None:\n",
    "            self.years = self.driver.find_elements(by=By.ID, value=\"__BVID__11\") \n",
    "        \n",
    "        return self.years\n",
    "\n",
    "    def selectEvents(self): #selects menu elements via form\n",
    "        #select wc and wchamp\n",
    "        select_menu = self.driver.find_element(by=By.ID, value=self.typeForm)\n",
    "        select = Select(select_menu)\n",
    "        select.select_by_value(self.selectedEventTypeValue)\n",
    "        #\n",
    "        #select 2022 valu=34\n",
    "        select_menu = self.driver.find_element(by=By.ID, value=self.yearForm)\n",
    "        select = Select(select_menu)\n",
    "        select.select_by_value(self.selectedEventYearValue)\n",
    "\n",
    "    def clickChosenEventType(self):\n",
    "        #get year form id\n",
    "        self.yearForm = self.getSoup().select_one('.rs-event-filters :first-child').get('id')\n",
    "\n",
    "        # finds self.eventType random value and saves it to self.selectedEventTypeValue\n",
    "        first_child = self.getSoup().select_one('.rs-event-filters :first-child')\n",
    "        options = first_child.find_all('option')\n",
    "        for option in options:\n",
    "            print(option.text + \" value=\" + option.get('value'))\n",
    "            if option.text == self.eventYear:\n",
    "                print(\"found\")\n",
    "                scraper.selectedEventYearValue = option.get('value')\n",
    "\n",
    "        options = self.getSoup().select('.rs-event-filters :nth-child(3) option')\n",
    "# get third menu item select\n",
    "        self.typeForm = self.getSoup().select('.rs-event-filters select')[2].get('id')\n",
    "        for option in options:\n",
    "            print(option.text + \" value=\" + option.get('value'))\n",
    "            if option.text == self.eventType:\n",
    "                print(\"found\")\n",
    "                self.selectedEventTypeValue = option.get('value')\n",
    "\n",
    "    def getPageHrefs(self):\n",
    "        card_container = scraper.getSoup().select_one('.card-container')\n",
    "        pageEvents = []\n",
    "        for child in card_container.children:\n",
    "            href = child.get('href')\n",
    "            text = child.select_one('.rs-event-name').text\n",
    "            print(href + \" \" + text)\n",
    "            pageEvents.append([href,text])\n",
    "\n",
    "        self.pageEvents = pd.DataFrame(pageEvents, columns=['href','Event Title'])\n",
    "                \n",
    "\n",
    "        \n",
    "\n",
    "# Navigate to the URL\n",
    "# driver.get(url2)\n",
    "# driver.implicitly_wait(5)\n",
    "# Get the page source\n",
    "# page_source = driver.page_source\n",
    "\n",
    "# Close the driver\n",
    "# driver.quit()\n",
    "\n",
    "# Print the page source\n",
    "# print(page_source)\n",
    "scraper = ifscScraper()\n",
    "getSoup = scraper.getSoup()\n",
    "# getSoup = BeautifulSoup(scraper.driver.page_source,'html.parser') # soupify page\n",
    "print(getSoup) # soupify page"
   ]
  },
  {
   "cell_type": "code",
   "execution_count": null,
   "metadata": {},
   "outputs": [],
   "source": []
  },
  {
   "cell_type": "code",
   "execution_count": 355,
   "metadata": {},
   "outputs": [
    {
     "name": "stdout",
     "output_type": "stream",
     "text": [
      "IFSC - Climbing World Cup (B) - Meiringen (SUI) 2022\n",
      "IFSC - Climbing World Cup (B,S) - Seoul (KOR) 2022\n",
      "IFSC - Climbing World Cup (B,S) - Salt Lake City (USA) 2022\n",
      "IFSC - Climbing World Cup (B,S) - Salt Lake City (USA) 2022\n",
      "IFSC - Climbing World Cup (B) - Brixen (ITA) 2022\n",
      "IFSC - Climbing World Cup (B,L) - Innsbruck (AUT) 2022\n",
      "IFSC - Climbing World Cup (L,S) - Villars (SUI) 2022\n",
      "IFSC - Climbing World Cup (L,S) - Chamonix (FRA) 2022\n",
      "IFSC - Climbing World Cup (L) - Briançon (FRA) 2022\n",
      "IFSC - Climbing World Cup (L) - Koper (SLO) 2022\n",
      "IFSC - Climbing World Cup (L,S) - Edinburgh (GBR) 2022\n",
      "IFSC - Climbing World Cup (L,S) - Jakarta (INA) 2022\n",
      "IFSC - Climbing World Cup (B&L) - Morioka, Iwate (JPN) 2022\n"
     ]
    }
   ],
   "source": [
    "for x in scraper.getEventNames():\n",
    "    print(x.text)\n",
    "\n",
    "\n",
    "# select_menu = getSoup.find('select', id='__BVID__13')\n",
    "# options = select_menu.find_all('option')\n",
    "# for option in options:\n",
    "#     print(option.text + \" value=\" + option.get('value'))\n",
    "#     if option.text == \"World Cups and World Championships\":\n",
    "#         print(\"found\")\n",
    "#         selectedValue = option.get('value')\n",
    "\n"
   ]
  },
  {
   "cell_type": "code",
   "execution_count": 352,
   "metadata": {},
   "outputs": [
    {
     "name": "stdout",
     "output_type": "stream",
     "text": [
      "2024 value=36\n",
      "2023 value=35\n",
      "2022 value=34\n",
      "found\n",
      "2021 value=33\n",
      "2020 value=2\n",
      "2019 value=32\n",
      "2018 value=31\n",
      "2017 value=30\n",
      "2016 value=29\n",
      "2015 value=28\n",
      "2014 value=27\n",
      "2013 value=26\n",
      "2012 value=25\n",
      "2011 value=24\n",
      "2010 value=23\n",
      "2009 value=22\n",
      "2008 value=21\n",
      "2007 value=20\n",
      "2006 value=19\n",
      "2005 value=18\n",
      "2004 value=17\n",
      "2003 value=16\n",
      "2002 value=15\n",
      "2001 value=14\n",
      "2000 value=13\n",
      "1999 value=12\n",
      "1998 value=11\n",
      "1997 value=10\n",
      "1996 value=9\n",
      "1995 value=8\n",
      "1994 value=7\n",
      "1993 value=6\n",
      "1992 value=5\n",
      "1991 value=4\n",
      "1990 value=3\n",
      "All leagues value=\n",
      "World Cups and World Championships value=404\n",
      "found\n",
      "IFSC Youth value=405\n",
      "IFSC Asia Adults value=407\n",
      "IFSC Asia Youth value=408\n",
      "IFSC Europe Adults value=409\n",
      "IFSC Europe Youth value=410\n",
      "Games value=411\n",
      "IFSC Pan America Adults value=412\n",
      "IFSC Africa value=413\n",
      "IFSC Paraclimbing value=414\n",
      "IFSC Oceania value=415\n",
      "Other events value=416\n",
      "Masters and Promotional Events value=417\n"
     ]
    }
   ],
   "source": [
    "scraper.clickChosenEventType()"
   ]
  },
  {
   "cell_type": "code",
   "execution_count": 354,
   "metadata": {},
   "outputs": [],
   "source": [
    "scraper.selectEvents()"
   ]
  },
  {
   "cell_type": "code",
   "execution_count": 351,
   "metadata": {},
   "outputs": [
    {
     "data": {
      "text/plain": [
       "'__BVID__13'"
      ]
     },
     "execution_count": 351,
     "metadata": {},
     "output_type": "execute_result"
    }
   ],
   "source": [
    "scraper.typeForm"
   ]
  },
  {
   "cell_type": "code",
   "execution_count": 353,
   "metadata": {},
   "outputs": [
    {
     "data": {
      "text/plain": [
       "'404'"
      ]
     },
     "execution_count": 353,
     "metadata": {},
     "output_type": "execute_result"
    }
   ],
   "source": [
    "scraper.selectedEventTypeValue"
   ]
  },
  {
   "cell_type": "code",
   "execution_count": 371,
   "metadata": {},
   "outputs": [
    {
     "name": "stdout",
     "output_type": "stream",
     "text": [
      "#/event/1233  IFSC - Climbing World Cup (B) - Meiringen (SUI) 2022 \n",
      "#/event/1235  IFSC - Climbing World Cup (B,S) - Seoul (KOR) 2022 \n",
      "#/event/1236  IFSC - Climbing World Cup (B,S) - Salt Lake City (USA) 2022 \n",
      "#/event/1237  IFSC - Climbing World Cup (B,S) - Salt Lake City (USA) 2022 \n",
      "#/event/1284  IFSC - Climbing World Cup (B) - Brixen (ITA) 2022 \n",
      "#/event/1238  IFSC - Climbing World Cup (B,L) - Innsbruck (AUT) 2022 \n",
      "#/event/1239  IFSC - Climbing World Cup (L,S) - Villars (SUI) 2022 \n",
      "#/event/1240  IFSC - Climbing World Cup (L,S) - Chamonix (FRA) 2022 \n",
      "#/event/1241  IFSC - Climbing World Cup (L) - Briançon (FRA) 2022 \n",
      "#/event/1242  IFSC - Climbing World Cup (L) - Koper (SLO) 2022 \n",
      "#/event/1288  IFSC - Climbing World Cup (L,S) - Edinburgh (GBR) 2022 \n",
      "#/event/1243  IFSC - Climbing World Cup (L,S) - Jakarta (INA) 2022 \n",
      "#/event/1234  IFSC - Climbing World Cup (B&L) - Morioka, Iwate (JPN) 2022 \n"
     ]
    }
   ],
   "source": []
  },
  {
   "cell_type": "code",
   "execution_count": 374,
   "metadata": {},
   "outputs": [
    {
     "data": {
      "text/html": [
       "<div>\n",
       "<style scoped>\n",
       "    .dataframe tbody tr th:only-of-type {\n",
       "        vertical-align: middle;\n",
       "    }\n",
       "\n",
       "    .dataframe tbody tr th {\n",
       "        vertical-align: top;\n",
       "    }\n",
       "\n",
       "    .dataframe thead th {\n",
       "        text-align: right;\n",
       "    }\n",
       "</style>\n",
       "<table border=\"1\" class=\"dataframe\">\n",
       "  <thead>\n",
       "    <tr style=\"text-align: right;\">\n",
       "      <th></th>\n",
       "      <th>href</th>\n",
       "      <th>Event Title</th>\n",
       "    </tr>\n",
       "  </thead>\n",
       "  <tbody>\n",
       "    <tr>\n",
       "      <th>0</th>\n",
       "      <td>#/event/1233</td>\n",
       "      <td>IFSC - Climbing World Cup (B) - Meiringen (SU...</td>\n",
       "    </tr>\n",
       "    <tr>\n",
       "      <th>1</th>\n",
       "      <td>#/event/1235</td>\n",
       "      <td>IFSC - Climbing World Cup (B,S) - Seoul (KOR)...</td>\n",
       "    </tr>\n",
       "    <tr>\n",
       "      <th>2</th>\n",
       "      <td>#/event/1236</td>\n",
       "      <td>IFSC - Climbing World Cup (B,S) - Salt Lake C...</td>\n",
       "    </tr>\n",
       "    <tr>\n",
       "      <th>3</th>\n",
       "      <td>#/event/1237</td>\n",
       "      <td>IFSC - Climbing World Cup (B,S) - Salt Lake C...</td>\n",
       "    </tr>\n",
       "    <tr>\n",
       "      <th>4</th>\n",
       "      <td>#/event/1284</td>\n",
       "      <td>IFSC - Climbing World Cup (B) - Brixen (ITA) ...</td>\n",
       "    </tr>\n",
       "    <tr>\n",
       "      <th>5</th>\n",
       "      <td>#/event/1238</td>\n",
       "      <td>IFSC - Climbing World Cup (B,L) - Innsbruck (...</td>\n",
       "    </tr>\n",
       "    <tr>\n",
       "      <th>6</th>\n",
       "      <td>#/event/1239</td>\n",
       "      <td>IFSC - Climbing World Cup (L,S) - Villars (SU...</td>\n",
       "    </tr>\n",
       "    <tr>\n",
       "      <th>7</th>\n",
       "      <td>#/event/1240</td>\n",
       "      <td>IFSC - Climbing World Cup (L,S) - Chamonix (F...</td>\n",
       "    </tr>\n",
       "    <tr>\n",
       "      <th>8</th>\n",
       "      <td>#/event/1241</td>\n",
       "      <td>IFSC - Climbing World Cup (L) - Briançon (FRA...</td>\n",
       "    </tr>\n",
       "    <tr>\n",
       "      <th>9</th>\n",
       "      <td>#/event/1242</td>\n",
       "      <td>IFSC - Climbing World Cup (L) - Koper (SLO) 2...</td>\n",
       "    </tr>\n",
       "    <tr>\n",
       "      <th>10</th>\n",
       "      <td>#/event/1288</td>\n",
       "      <td>IFSC - Climbing World Cup (L,S) - Edinburgh (...</td>\n",
       "    </tr>\n",
       "    <tr>\n",
       "      <th>11</th>\n",
       "      <td>#/event/1243</td>\n",
       "      <td>IFSC - Climbing World Cup (L,S) - Jakarta (IN...</td>\n",
       "    </tr>\n",
       "    <tr>\n",
       "      <th>12</th>\n",
       "      <td>#/event/1234</td>\n",
       "      <td>IFSC - Climbing World Cup (B&amp;L) - Morioka, Iw...</td>\n",
       "    </tr>\n",
       "  </tbody>\n",
       "</table>\n",
       "</div>"
      ],
      "text/plain": [
       "            href                                        Event Title\n",
       "0   #/event/1233   IFSC - Climbing World Cup (B) - Meiringen (SU...\n",
       "1   #/event/1235   IFSC - Climbing World Cup (B,S) - Seoul (KOR)...\n",
       "2   #/event/1236   IFSC - Climbing World Cup (B,S) - Salt Lake C...\n",
       "3   #/event/1237   IFSC - Climbing World Cup (B,S) - Salt Lake C...\n",
       "4   #/event/1284   IFSC - Climbing World Cup (B) - Brixen (ITA) ...\n",
       "5   #/event/1238   IFSC - Climbing World Cup (B,L) - Innsbruck (...\n",
       "6   #/event/1239   IFSC - Climbing World Cup (L,S) - Villars (SU...\n",
       "7   #/event/1240   IFSC - Climbing World Cup (L,S) - Chamonix (F...\n",
       "8   #/event/1241   IFSC - Climbing World Cup (L) - Briançon (FRA...\n",
       "9   #/event/1242   IFSC - Climbing World Cup (L) - Koper (SLO) 2...\n",
       "10  #/event/1288   IFSC - Climbing World Cup (L,S) - Edinburgh (...\n",
       "11  #/event/1243   IFSC - Climbing World Cup (L,S) - Jakarta (IN...\n",
       "12  #/event/1234   IFSC - Climbing World Cup (B&L) - Morioka, Iw..."
      ]
     },
     "execution_count": 374,
     "metadata": {},
     "output_type": "execute_result"
    }
   ],
   "source": []
  },
  {
   "cell_type": "code",
   "execution_count": null,
   "metadata": {},
   "outputs": [],
   "source": []
  },
  {
   "cell_type": "code",
   "execution_count": null,
   "metadata": {},
   "outputs": [],
   "source": []
  },
  {
   "cell_type": "code",
   "execution_count": null,
   "metadata": {},
   "outputs": [],
   "source": []
  },
  {
   "cell_type": "code",
   "execution_count": null,
   "metadata": {},
   "outputs": [],
   "source": []
  },
  {
   "cell_type": "code",
   "execution_count": null,
   "metadata": {},
   "outputs": [],
   "source": []
  },
  {
   "cell_type": "code",
   "execution_count": null,
   "metadata": {},
   "outputs": [],
   "source": []
  },
  {
   "cell_type": "code",
   "execution_count": null,
   "metadata": {},
   "outputs": [],
   "source": []
  },
  {
   "cell_type": "code",
   "execution_count": null,
   "metadata": {},
   "outputs": [],
   "source": []
  },
  {
   "cell_type": "code",
   "execution_count": null,
   "metadata": {},
   "outputs": [],
   "source": []
  },
  {
   "cell_type": "code",
   "execution_count": null,
   "metadata": {},
   "outputs": [],
   "source": []
  },
  {
   "cell_type": "code",
   "execution_count": null,
   "metadata": {},
   "outputs": [],
   "source": []
  },
  {
   "cell_type": "code",
   "execution_count": null,
   "metadata": {},
   "outputs": [],
   "source": []
  },
  {
   "cell_type": "code",
   "execution_count": null,
   "metadata": {},
   "outputs": [],
   "source": []
  },
  {
   "cell_type": "code",
   "execution_count": null,
   "metadata": {},
   "outputs": [],
   "source": []
  },
  {
   "cell_type": "code",
   "execution_count": null,
   "metadata": {},
   "outputs": [],
   "source": []
  },
  {
   "cell_type": "code",
   "execution_count": null,
   "metadata": {},
   "outputs": [],
   "source": []
  },
  {
   "cell_type": "code",
   "execution_count": null,
   "metadata": {},
   "outputs": [],
   "source": []
  },
  {
   "cell_type": "code",
   "execution_count": null,
   "metadata": {},
   "outputs": [],
   "source": []
  },
  {
   "cell_type": "code",
   "execution_count": null,
   "metadata": {},
   "outputs": [],
   "source": []
  },
  {
   "cell_type": "code",
   "execution_count": 264,
   "metadata": {},
   "outputs": [
    {
     "ename": "TypeError",
     "evalue": "can only concatenate str (not \"NoneType\") to str",
     "output_type": "error",
     "traceback": [
      "\u001b[0;31m---------------------------------------------------------------------------\u001b[0m",
      "\u001b[0;31mTypeError\u001b[0m                                 Traceback (most recent call last)",
      "Cell \u001b[0;32mIn[264], line 4\u001b[0m\n\u001b[1;32m      2\u001b[0m names \u001b[38;5;241m=\u001b[39m scraper\u001b[38;5;241m.\u001b[39mgetSoup()\u001b[38;5;241m.\u001b[39mfind_all(class_\u001b[38;5;241m=\u001b[39m\u001b[38;5;124m'\u001b[39m\u001b[38;5;124mrs-event-name\u001b[39m\u001b[38;5;124m'\u001b[39m)\n\u001b[1;32m      3\u001b[0m \u001b[38;5;28;01mfor\u001b[39;00m name \u001b[38;5;129;01min\u001b[39;00m names:\n\u001b[0;32m----> 4\u001b[0m     \u001b[38;5;28mprint\u001b[39m(\u001b[43mname\u001b[49m\u001b[38;5;241;43m.\u001b[39;49m\u001b[43mtext\u001b[49m\u001b[43m \u001b[49m\u001b[38;5;241;43m+\u001b[39;49m\u001b[43m \u001b[49m\u001b[43mname\u001b[49m\u001b[38;5;241;43m.\u001b[39;49m\u001b[43mget\u001b[49m\u001b[43m(\u001b[49m\u001b[38;5;124;43m'\u001b[39;49m\u001b[38;5;124;43mvalue\u001b[39;49m\u001b[38;5;124;43m'\u001b[39;49m\u001b[43m)\u001b[49m)\n\u001b[1;32m      5\u001b[0m     \u001b[38;5;28;01mif\u001b[39;00m name\u001b[38;5;241m.\u001b[39mtext \u001b[38;5;241m==\u001b[39m scraper\u001b[38;5;241m.\u001b[39meventType:\n\u001b[1;32m      6\u001b[0m         \u001b[38;5;28mprint\u001b[39m(\u001b[38;5;124m\"\u001b[39m\u001b[38;5;124mfound\u001b[39m\u001b[38;5;124m\"\u001b[39m)\n",
      "\u001b[0;31mTypeError\u001b[0m: can only concatenate str (not \"NoneType\") to str"
     ]
    }
   ],
   "source": []
  },
  {
   "cell_type": "code",
   "execution_count": 269,
   "metadata": {},
   "outputs": [
    {
     "ename": "AttributeError",
     "evalue": "ResultSet object has no attribute 'text'. You're probably treating a list of elements like a single element. Did you call find_all() when you meant to call find()?",
     "output_type": "error",
     "traceback": [
      "\u001b[0;31m---------------------------------------------------------------------------\u001b[0m",
      "\u001b[0;31mAttributeError\u001b[0m                            Traceback (most recent call last)",
      "Cell \u001b[0;32mIn[269], line 1\u001b[0m\n\u001b[0;32m----> 1\u001b[0m \u001b[43mthird_child\u001b[49m\u001b[38;5;241;43m.\u001b[39;49m\u001b[43mtext\u001b[49m\n",
      "File \u001b[0;32m~/Documents/GitHub/ifsc-result-browser/.conda/lib/python3.11/site-packages/bs4/element.py:2428\u001b[0m, in \u001b[0;36mResultSet.__getattr__\u001b[0;34m(self, key)\u001b[0m\n\u001b[1;32m   2426\u001b[0m \u001b[38;5;28;01mdef\u001b[39;00m \u001b[38;5;21m__getattr__\u001b[39m(\u001b[38;5;28mself\u001b[39m, key):\n\u001b[1;32m   2427\u001b[0m \u001b[38;5;250m    \u001b[39m\u001b[38;5;124;03m\"\"\"Raise a helpful exception to explain a common code fix.\"\"\"\u001b[39;00m\n\u001b[0;32m-> 2428\u001b[0m     \u001b[38;5;28;01mraise\u001b[39;00m \u001b[38;5;167;01mAttributeError\u001b[39;00m(\n\u001b[1;32m   2429\u001b[0m         \u001b[38;5;124m\"\u001b[39m\u001b[38;5;124mResultSet object has no attribute \u001b[39m\u001b[38;5;124m'\u001b[39m\u001b[38;5;132;01m%s\u001b[39;00m\u001b[38;5;124m'\u001b[39m\u001b[38;5;124m. You\u001b[39m\u001b[38;5;124m'\u001b[39m\u001b[38;5;124mre probably treating a list of elements like a single element. Did you call find_all() when you meant to call find()?\u001b[39m\u001b[38;5;124m\"\u001b[39m \u001b[38;5;241m%\u001b[39m key\n\u001b[1;32m   2430\u001b[0m     )\n",
      "\u001b[0;31mAttributeError\u001b[0m: ResultSet object has no attribute 'text'. You're probably treating a list of elements like a single element. Did you call find_all() when you meant to call find()?"
     ]
    }
   ],
   "source": []
  },
  {
   "cell_type": "code",
   "execution_count": null,
   "metadata": {},
   "outputs": [],
   "source": []
  },
  {
   "cell_type": "code",
   "execution_count": null,
   "metadata": {},
   "outputs": [],
   "source": []
  },
  {
   "cell_type": "code",
   "execution_count": null,
   "metadata": {},
   "outputs": [],
   "source": []
  },
  {
   "cell_type": "code",
   "execution_count": null,
   "metadata": {},
   "outputs": [],
   "source": []
  },
  {
   "cell_type": "code",
   "execution_count": null,
   "metadata": {},
   "outputs": [],
   "source": []
  },
  {
   "cell_type": "code",
   "execution_count": 293,
   "metadata": {},
   "outputs": [
    {
     "name": "stdout",
     "output_type": "stream",
     "text": [
      "<form class=\"rs-event-filters form-inline\" data-v-fedd7ba2=\"\"><select class=\"custom-select\" data-v-fedd7ba2=\"\" id=\"__BVID__11\"><option value=\"36\">2024</option><option value=\"35\">2023</option><option value=\"34\">2022</option><option value=\"33\">2021</option><option value=\"2\">2020</option><option value=\"32\">2019</option><option value=\"31\">2018</option><option value=\"30\">2017</option><option value=\"29\">2016</option><option value=\"28\">2015</option><option value=\"27\">2014</option><option value=\"26\">2013</option><option value=\"25\">2012</option><option value=\"24\">2011</option><option value=\"23\">2010</option><option value=\"22\">2009</option><option value=\"21\">2008</option><option value=\"20\">2007</option><option value=\"19\">2006</option><option value=\"18\">2005</option><option value=\"17\">2004</option><option value=\"16\">2003</option><option value=\"15\">2002</option><option value=\"14\">2001</option><option value=\"13\">2000</option><option value=\"12\">1999</option><option value=\"11\">1998</option><option value=\"10\">1997</option><option value=\"9\">1996</option><option value=\"8\">1995</option><option value=\"7\">1994</option><option value=\"6\">1993</option><option value=\"5\">1992</option><option value=\"4\">1991</option><option value=\"3\">1990</option></select><select class=\"custom-select\" data-v-fedd7ba2=\"\" id=\"__BVID__12\"><option value=\"now-and-later\">Ongoing and future events</option><option value=\"present\">Ongoing events</option><option value=\"future\">Future events</option><option value=\"past\">Past events</option><option value=\"all\">All events</option></select><select class=\"custom-select\" data-v-fedd7ba2=\"\" id=\"__BVID__13\"><option value=\"\">All leagues</option><option value=\"418\">World Cups and World Championships</option><option value=\"419\">IFSC Youth</option><option value=\"420\">IFSC Paraclimbing</option><option value=\"421\">IFSC Asia Adults</option><option value=\"422\">IFSC Asia Youth</option><option value=\"423\">IFSC Europe Adults</option><option value=\"424\">IFSC Europe Youth</option><option value=\"425\">Games</option><option value=\"426\">Other events</option><option value=\"427\">Masters and Promotional Events</option><option value=\"428\">IFSC Pan America Adults</option><option value=\"429\">IFSC Oceania</option><option value=\"430\">IFSC Africa</option></select><select class=\"custom-select\" data-v-fedd7ba2=\"\" id=\"__BVID__14\"><option value=\"\">All disciplines</option><option value=\"lead\">Lead</option><option value=\"speed\">Speed</option><option value=\"boulder\">Boulder</option><option value=\"combined\">Combined</option><option value=\"boulder&amp;lead\">Boulder&amp;Lead</option></select><select class=\"custom-select\" data-v-fedd7ba2=\"\" id=\"__BVID__15\"><option value=\"\">All cups</option><option value=\"90\">IFSC Climbing World Cup 2023</option><option value=\"92\">IFSC-Europe Climbing European Cup 2023</option><option value=\"91\">IFSC-Europe Climbing European Youth Cup 2023</option></select></form>\n",
      "<select class=\"custom-select\" data-v-fedd7ba2=\"\" id=\"__BVID__11\"><option value=\"36\">2024</option><option value=\"35\">2023</option><option value=\"34\">2022</option><option value=\"33\">2021</option><option value=\"2\">2020</option><option value=\"32\">2019</option><option value=\"31\">2018</option><option value=\"30\">2017</option><option value=\"29\">2016</option><option value=\"28\">2015</option><option value=\"27\">2014</option><option value=\"26\">2013</option><option value=\"25\">2012</option><option value=\"24\">2011</option><option value=\"23\">2010</option><option value=\"22\">2009</option><option value=\"21\">2008</option><option value=\"20\">2007</option><option value=\"19\">2006</option><option value=\"18\">2005</option><option value=\"17\">2004</option><option value=\"16\">2003</option><option value=\"15\">2002</option><option value=\"14\">2001</option><option value=\"13\">2000</option><option value=\"12\">1999</option><option value=\"11\">1998</option><option value=\"10\">1997</option><option value=\"9\">1996</option><option value=\"8\">1995</option><option value=\"7\">1994</option><option value=\"6\">1993</option><option value=\"5\">1992</option><option value=\"4\">1991</option><option value=\"3\">1990</option></select>\n"
     ]
    }
   ],
   "source": [
    "select_menu = scraper.getSoup().find('form', class_='rs-event-filters')\n",
    "print(select_menu)\n",
    "\n",
    "first_child = scraper.getSoup().select_one('.rs-event-filters :first-child')\n",
    "print(first_child)"
   ]
  },
  {
   "cell_type": "code",
   "execution_count": 319,
   "metadata": {},
   "outputs": [
    {
     "name": "stdout",
     "output_type": "stream",
     "text": [
      "__BVID__11\n"
     ]
    }
   ],
   "source": [
    "print(first_child.get('id'))\n"
   ]
  },
  {
   "cell_type": "code",
   "execution_count": 331,
   "metadata": {},
   "outputs": [
    {
     "name": "stdout",
     "output_type": "stream",
     "text": [
      "<select class=\"custom-select\" data-v-fedd7ba2=\"\" id=\"__BVID__11\"><option value=\"36\">2024</option><option value=\"35\">2023</option><option value=\"34\">2022</option><option value=\"33\">2021</option><option value=\"2\">2020</option><option value=\"32\">2019</option><option value=\"31\">2018</option><option value=\"30\">2017</option><option value=\"29\">2016</option><option value=\"28\">2015</option><option value=\"27\">2014</option><option value=\"26\">2013</option><option value=\"25\">2012</option><option value=\"24\">2011</option><option value=\"23\">2010</option><option value=\"22\">2009</option><option value=\"21\">2008</option><option value=\"20\">2007</option><option value=\"19\">2006</option><option value=\"18\">2005</option><option value=\"17\">2004</option><option value=\"16\">2003</option><option value=\"15\">2002</option><option value=\"14\">2001</option><option value=\"13\">2000</option><option value=\"12\">1999</option><option value=\"11\">1998</option><option value=\"10\">1997</option><option value=\"9\">1996</option><option value=\"8\">1995</option><option value=\"7\">1994</option><option value=\"6\">1993</option><option value=\"5\">1992</option><option value=\"4\">1991</option><option value=\"3\">1990</option></select>\n",
      "<select class=\"custom-select\" data-v-fedd7ba2=\"\" id=\"__BVID__12\"><option value=\"now-and-later\">Ongoing and future events</option><option value=\"present\">Ongoing events</option><option value=\"future\">Future events</option><option value=\"past\">Past events</option><option value=\"all\">All events</option></select>\n",
      "<select class=\"custom-select\" data-v-fedd7ba2=\"\" id=\"__BVID__13\"><option value=\"\">All leagues</option><option value=\"418\">World Cups and World Championships</option><option value=\"419\">IFSC Youth</option><option value=\"420\">IFSC Paraclimbing</option><option value=\"421\">IFSC Asia Adults</option><option value=\"422\">IFSC Asia Youth</option><option value=\"423\">IFSC Europe Adults</option><option value=\"424\">IFSC Europe Youth</option><option value=\"425\">Games</option><option value=\"426\">Other events</option><option value=\"427\">Masters and Promotional Events</option><option value=\"428\">IFSC Pan America Adults</option><option value=\"429\">IFSC Oceania</option><option value=\"430\">IFSC Africa</option></select>\n",
      "<select class=\"custom-select\" data-v-fedd7ba2=\"\" id=\"__BVID__14\"><option value=\"\">All disciplines</option><option value=\"lead\">Lead</option><option value=\"speed\">Speed</option><option value=\"boulder\">Boulder</option><option value=\"combined\">Combined</option><option value=\"boulder&amp;lead\">Boulder&amp;Lead</option></select>\n",
      "<select class=\"custom-select\" data-v-fedd7ba2=\"\" id=\"__BVID__15\"><option value=\"\">All cups</option><option value=\"90\">IFSC Climbing World Cup 2023</option><option value=\"92\">IFSC-Europe Climbing European Cup 2023</option><option value=\"91\">IFSC-Europe Climbing European Youth Cup 2023</option></select>\n"
     ]
    }
   ],
   "source": [
    "third_child_custom_select = scraper.getSoup().select('.rs-event-filters select')\n",
    "for x in third_child_custom_select:\n",
    "    print(x)\n",
    "   "
   ]
  },
  {
   "cell_type": "code",
   "execution_count": 334,
   "metadata": {},
   "outputs": [
    {
     "data": {
      "text/plain": [
       "<select class=\"custom-select\" data-v-fedd7ba2=\"\" id=\"__BVID__13\"><option value=\"\">All leagues</option><option value=\"418\">World Cups and World Championships</option><option value=\"419\">IFSC Youth</option><option value=\"420\">IFSC Paraclimbing</option><option value=\"421\">IFSC Asia Adults</option><option value=\"422\">IFSC Asia Youth</option><option value=\"423\">IFSC Europe Adults</option><option value=\"424\">IFSC Europe Youth</option><option value=\"425\">Games</option><option value=\"426\">Other events</option><option value=\"427\">Masters and Promotional Events</option><option value=\"428\">IFSC Pan America Adults</option><option value=\"429\">IFSC Oceania</option><option value=\"430\">IFSC Africa</option></select>"
      ]
     },
     "execution_count": 334,
     "metadata": {},
     "output_type": "execute_result"
    }
   ],
   "source": [
    "third_child_custom_select[2]"
   ]
  },
  {
   "cell_type": "code",
   "execution_count": null,
   "metadata": {},
   "outputs": [],
   "source": []
  },
  {
   "cell_type": "code",
   "execution_count": null,
   "metadata": {},
   "outputs": [],
   "source": []
  },
  {
   "cell_type": "code",
   "execution_count": null,
   "metadata": {},
   "outputs": [],
   "source": []
  },
  {
   "cell_type": "code",
   "execution_count": null,
   "metadata": {},
   "outputs": [],
   "source": []
  },
  {
   "cell_type": "code",
   "execution_count": null,
   "metadata": {},
   "outputs": [],
   "source": []
  },
  {
   "cell_type": "code",
   "execution_count": null,
   "metadata": {},
   "outputs": [],
   "source": []
  },
  {
   "cell_type": "code",
   "execution_count": null,
   "metadata": {},
   "outputs": [],
   "source": []
  },
  {
   "cell_type": "code",
   "execution_count": null,
   "metadata": {},
   "outputs": [],
   "source": []
  },
  {
   "cell_type": "code",
   "execution_count": null,
   "metadata": {},
   "outputs": [],
   "source": []
  },
  {
   "cell_type": "code",
   "execution_count": null,
   "metadata": {},
   "outputs": [],
   "source": []
  },
  {
   "cell_type": "code",
   "execution_count": 90,
   "metadata": {},
   "outputs": [
    {
     "data": {
      "text/plain": [
       "'2024\\n2023\\n2022\\n2021\\n2020\\n2019\\n2018\\n2017\\n2016\\n2015\\n2014\\n2013\\n2012\\n2011\\n2010\\n2009\\n2008\\n2007\\n2006\\n2005\\n2004\\n2003\\n2002\\n2001\\n2000\\n1999\\n1998\\n1997\\n1996\\n1995\\n1994\\n1993\\n1992\\n1991\\n1990'"
      ]
     },
     "execution_count": 90,
     "metadata": {},
     "output_type": "execute_result"
    }
   ],
   "source": [
    "menu = driver.find_elements(by=By.CSS_SELECTOR, value=\".custom-select\") # homepage event names\n",
    "# out = driver.find_element(by='CLASS_NAME', value=\"card-container\")\n",
    "# for e in menu[1]:\n",
    "#     print(e.text)\n",
    "\n",
    "menu[0].\n"
   ]
  },
  {
   "cell_type": "code",
   "execution_count": 101,
   "metadata": {},
   "outputs": [
    {
     "name": "stdout",
     "output_type": "stream",
     "text": [
      "20242023202220212020201920182017201620152014201320122011201020092008200720062005200420032002200120001999199819971996199519941993199219911990\n",
      "Ongoing and future eventsOngoing eventsFuture eventsPast eventsAll events\n",
      "All leaguesWorld Cups and World ChampionshipsIFSC YouthIFSC ParaclimbingIFSC Asia AdultsIFSC Asia YouthIFSC Europe AdultsIFSC Europe YouthGamesOther eventsMasters and Promotional EventsIFSC Pan America AdultsIFSC OceaniaIFSC Africa\n",
      "All disciplinesLeadSpeedBoulderCombinedBoulder&Lead\n",
      "All cupsIFSC Climbing World Cup 2023IFSC-Europe Climbing European Cup 2023IFSC-Europe Climbing European Youth Cup 2023\n"
     ]
    }
   ],
   "source": [
    "html = driver.page_source\n",
    "\n",
    "soup = BeautifulSoup(html)\n",
    "eventNames = soup.find_all('select', class_='custom-select')\n",
    "for e in eventNames:\n",
    "    print(e.text)   "
   ]
  },
  {
   "cell_type": "code",
   "execution_count": 131,
   "metadata": {},
   "outputs": [
    {
     "name": "stdout",
     "output_type": "stream",
     "text": [
      "All leagues value=\n",
      "World Cups and World Championships value=418\n",
      "IFSC Youth value=419\n",
      "IFSC Paraclimbing value=420\n",
      "IFSC Asia Adults value=421\n",
      "IFSC Asia Youth value=422\n",
      "IFSC Europe Adults value=423\n",
      "IFSC Europe Youth value=424\n",
      "Games value=425\n",
      "Other events value=426\n",
      "Masters and Promotional Events value=427\n",
      "IFSC Pan America Adults value=428\n",
      "IFSC Oceania value=429\n",
      "IFSC Africa value=430\n"
     ]
    }
   ],
   "source": [
    "select_menu = soup.find('select', id='__BVID__13')\n",
    "options = select_menu.find_all('option')\n",
    "\n",
    "for option in options:\n",
    "    print(option.text + \" value=\" + option.get('value'))\n"
   ]
  },
  {
   "cell_type": "code",
   "execution_count": 126,
   "metadata": {},
   "outputs": [
    {
     "name": "stdout",
     "output_type": "stream",
     "text": [
      "2024 value=36\n",
      "2023 value=35\n",
      "2022 value=34\n",
      "2021 value=33\n",
      "2020 value=2\n",
      "2019 value=32\n",
      "2018 value=31\n",
      "2017 value=30\n",
      "2016 value=29\n",
      "2015 value=28\n",
      "2014 value=27\n",
      "2013 value=26\n",
      "2012 value=25\n",
      "2011 value=24\n",
      "2010 value=23\n",
      "2009 value=22\n",
      "2008 value=21\n",
      "2007 value=20\n",
      "2006 value=19\n",
      "2005 value=18\n",
      "2004 value=17\n",
      "2003 value=16\n",
      "2002 value=15\n",
      "2001 value=14\n",
      "2000 value=13\n",
      "1999 value=12\n",
      "1998 value=11\n",
      "1997 value=10\n",
      "1996 value=9\n",
      "1995 value=8\n",
      "1994 value=7\n",
      "1993 value=6\n",
      "1992 value=5\n",
      "1991 value=4\n",
      "1990 value=3\n"
     ]
    }
   ],
   "source": [
    "select_menu = soup.find('select', id='__BVID__11')\n",
    "options = select_menu.find_all('option')\n",
    "\n",
    "for option in options:\n",
    "    print(option.text + \" value=\" + option.get('value'))\n"
   ]
  },
  {
   "cell_type": "code",
   "execution_count": 133,
   "metadata": {},
   "outputs": [],
   "source": [
    "from selenium.webdriver.support.ui import Select\n",
    "#select wc and wchamp\n",
    "select_menu = driver.find_element(by=By.ID, value='__BVID__13')\n",
    "select = Select(select_menu)\n",
    "select.select_by_value('404')\n",
    "#\n",
    "#select 2022 valu=34\n",
    "select_menu = driver.find_element(by=By.ID, value='__BVID__11')\n",
    "select = Select(select_menu)\n",
    "select.select_by_value('34')\n"
   ]
  },
  {
   "cell_type": "code",
   "execution_count": 114,
   "metadata": {},
   "outputs": [
    {
     "name": "stdout",
     "output_type": "stream",
     "text": [
      "20242023202220212020201920182017201620152014201320122011201020092008200720062005200420032002200120001999199819971996199519941993199219911990\n",
      "Ongoing and future eventsOngoing eventsFuture eventsPast eventsAll events\n",
      "All leaguesWorld Cups and World ChampionshipsIFSC YouthIFSC ParaclimbingIFSC Asia AdultsIFSC Asia YouthIFSC Europe AdultsIFSC Europe YouthGamesOther eventsMasters and Promotional EventsIFSC Pan America AdultsIFSC OceaniaIFSC Africa\n",
      "All disciplinesLeadSpeedBoulderCombinedBoulder&Lead\n",
      "All cupsIFSC Climbing World Cup 2023IFSC-Europe Climbing European Cup 2023IFSC-Europe Climbing European Youth Cup 2023\n"
     ]
    }
   ],
   "source": [
    "html = driver.page_source\n",
    "\n",
    "soup = BeautifulSoup(html)\n",
    "eventNames = soup.find_all('select', class_='custom-select')\n",
    "for e in eventNames:\n",
    "    print(e.text)   "
   ]
  },
  {
   "cell_type": "code",
   "execution_count": 137,
   "metadata": {},
   "outputs": [
    {
     "name": "stdout",
     "output_type": "stream",
     "text": [
      " IFSC - Climbing World Cup (B) - Meiringen (SUI) 2022  #/event/1233\n",
      " IFSC - Climbing World Cup (B,S) - Seoul (KOR) 2022  #/event/1235\n",
      " IFSC - Climbing World Cup (B,S) - Salt Lake City (USA) 2022  #/event/1236\n",
      " IFSC - Climbing World Cup (B,S) - Salt Lake City (USA) 2022  #/event/1237\n",
      " IFSC - Climbing World Cup (B) - Brixen (ITA) 2022  #/event/1284\n",
      " IFSC - Climbing World Cup (B,L) - Innsbruck (AUT) 2022  #/event/1238\n",
      " IFSC - Climbing World Cup (L,S) - Villars (SUI) 2022  #/event/1239\n",
      " IFSC - Climbing World Cup (L,S) - Chamonix (FRA) 2022  #/event/1240\n",
      " IFSC - Climbing World Cup (L) - Briançon (FRA) 2022  #/event/1241\n",
      " IFSC - Climbing World Cup (L) - Koper (SLO) 2022  #/event/1242\n",
      " IFSC - Climbing World Cup (L,S) - Edinburgh (GBR) 2022  #/event/1288\n",
      " IFSC - Climbing World Cup (L,S) - Jakarta (INA) 2022  #/event/1243\n",
      " IFSC - Climbing World Cup (B&L) - Morioka, Iwate (JPN) 2022  #/event/1234\n"
     ]
    }
   ],
   "source": [
    "html = driver.page_source\n",
    "\n",
    "soup = BeautifulSoup(html)\n"
   ]
  },
  {
   "cell_type": "code",
   "execution_count": 210,
   "metadata": {},
   "outputs": [
    {
     "name": "stdout",
     "output_type": "stream",
     "text": [
      " IFSC - Climbing World Cup (B) - Meiringen (SUI) 2022 \n",
      " IFSC - Climbing World Cup (B,S) - Seoul (KOR) 2022 \n",
      " IFSC - Climbing World Cup (B,S) - Salt Lake City (USA) 2022 \n",
      " IFSC - Climbing World Cup (B,S) - Salt Lake City (USA) 2022 \n",
      " IFSC - Climbing World Cup (B) - Brixen (ITA) 2022 \n",
      " IFSC - Climbing World Cup (B,L) - Innsbruck (AUT) 2022 \n",
      " IFSC - Climbing World Cup (L,S) - Villars (SUI) 2022 \n",
      " IFSC - Climbing World Cup (L,S) - Chamonix (FRA) 2022 \n",
      " IFSC - Climbing World Cup (L) - Briançon (FRA) 2022 \n",
      " IFSC - Climbing World Cup (L) - Koper (SLO) 2022 \n",
      " IFSC - Climbing World Cup (L,S) - Edinburgh (GBR) 2022 \n",
      " IFSC - Climbing World Cup (L,S) - Jakarta (INA) 2022 \n",
      " IFSC - Climbing World Cup (B&L) - Morioka, Iwate (JPN) 2022 \n"
     ]
    }
   ],
   "source": [
    "html = scraper.getSoup\n",
    "names = soup.find_all(class_='rs-event-name')\n",
    "\n",
    "\n",
    "# cards =  card_container.children\n",
    "for name in names:\n",
    "    print(name.text)\n"
   ]
  }
 ],
 "metadata": {
  "kernelspec": {
   "display_name": "Python 3",
   "language": "python",
   "name": "python3"
  },
  "language_info": {
   "codemirror_mode": {
    "name": "ipython",
    "version": 3
   },
   "file_extension": ".py",
   "mimetype": "text/x-python",
   "name": "python",
   "nbconvert_exporter": "python",
   "pygments_lexer": "ipython3",
   "version": "3.11.5"
  }
 },
 "nbformat": 4,
 "nbformat_minor": 2
}
