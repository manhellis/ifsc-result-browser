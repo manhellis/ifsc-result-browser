{
 "cells": [
  {
   "cell_type": "code",
   "execution_count": 1,
   "metadata": {},
   "outputs": [],
   "source": [
    "import pandas as pd"
   ]
  },
  {
   "cell_type": "code",
   "execution_count": 3,
   "metadata": {},
   "outputs": [],
   "source": [
    "ioc = pd.read_html('https://en.wikipedia.org/wiki/List_of_IOC_country_codes')[0]\n",
    "ioc = ioc.assign(Code=ioc['Code'].str[-3:]).set_index('Code')['National Olympic Committee']"
   ]
  },
  {
   "cell_type": "code",
   "execution_count": 4,
   "metadata": {},
   "outputs": [
    {
     "data": {
      "text/plain": [
       "Code\n",
       "AFG                         Afghanistan\n",
       "ALB                             Albania\n",
       "ALG                             Algeria\n",
       "AND                             Andorra\n",
       "ANG                              Angola\n",
       "                     ...               \n",
       "VIE                             Vietnam\n",
       "VIN    Saint Vincent and the Grenadines\n",
       "YEM                               Yemen\n",
       "ZAM                              Zambia\n",
       "ZIM                            Zimbabwe\n",
       "Name: National Olympic Committee, Length: 206, dtype: object"
      ]
     },
     "execution_count": 4,
     "metadata": {},
     "output_type": "execute_result"
    }
   ],
   "source": [
    "ioc"
   ]
  }
 ],
 "metadata": {
  "kernelspec": {
   "display_name": "Python 3",
   "language": "python",
   "name": "python3"
  },
  "language_info": {
   "codemirror_mode": {
    "name": "ipython",
    "version": 3
   },
   "file_extension": ".py",
   "mimetype": "text/x-python",
   "name": "python",
   "nbconvert_exporter": "python",
   "pygments_lexer": "ipython3",
   "version": "3.11.5"
  }
 },
 "nbformat": 4,
 "nbformat_minor": 2
}
